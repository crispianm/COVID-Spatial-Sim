{
 "cells": [
  {
   "cell_type": "markdown",
   "metadata": {
    "colab_type": "text",
    "id": "PZH8LTvwY4ix"
   },
   "source": [
    "# OpenABM-Covid19 - Multiple working sectors\n",
    "This colab shows a simple example of modeling multiple working sectors in OpenABM.\n"
   ]
  },
  {
   "cell_type": "code",
   "execution_count": 1,
   "metadata": {
    "colab": {},
    "colab_type": "code",
    "id": "Q0RXfspXY4iy"
   },
   "outputs": [],
   "source": [
    "import example_utils as utils\n",
    "import numpy as np\n",
    "import pandas as pd\n",
    "\n",
    "n_total = 10000\n",
    "params = utils.get_baseline_parameters()\n",
    "params.set_param( \"n_total\", n_total )"
   ]
  },
  {
   "cell_type": "markdown",
   "metadata": {
    "colab_type": "text",
    "id": "vchYt7UOY4i2"
   },
   "source": [
    "By default, OpenABM has five occupational networks: `primary`, `secondary`, `working`, `retired` and `elderly`. OpenABM also allows users to define multiple working networks. In this example, we'll define six working networks. Therefore, we'll have ten occupational networks in total, namely, `primary`, `secondary`, `sector_1`, ..., `sector_6`, `retired`, and `elderly` networks."
   ]
  },
  {
   "cell_type": "markdown",
   "metadata": {
    "colab_type": "text",
    "id": "siZfaydufhF0"
   },
   "source": [
    "### Step 1 - Define occupational networks\n",
    "For each network, we need to define its own parameters: `network_no`, `age_type`, `mean_work_interaction`, `lockdown_multiplier`, `network_id` and `network_name`.  Note the code assumes the following conventions:\n",
    "\n",
    "\n",
    "*   The first two networks (i.e. network_no 0 and 1) are `primary` and `secondary` networks\n",
    "*   The last two networks are `retired` and `elderly` networks.\n",
    "\n",
    "\n",
    "\n"
   ]
  },
  {
   "cell_type": "code",
   "execution_count": 2,
   "metadata": {
    "colab": {},
    "colab_type": "code",
    "id": "bhfwQEq2Y4i3"
   },
   "outputs": [],
   "source": [
    "n_networks = 10\n",
    "network_no = np.arange(n_networks)\n",
    "network_name = np.array(['primary', 'secondary', 'sector_1', 'sector_2', 'sector_3', 'sector_4', 'sector_5', 'sector_6', 'retired', 'elderly'])\n",
    "age_type = np.array([0, 0, 1, 1, 1, 1, 1, 1, 2, 2]) # 0 - AGE_TYPE_CHILD, 1 - AGE_TYPE_ADULT, 2 - AGE_TYPE_ELDERLY\n",
    "mean_work_interactin = np.array([10, 10, 7, 7, 7, 7, 7, 7, 3, 3])\n",
    "lockdown_multiplier = np.ones(n_networks) * 0.22\n",
    "\n",
    "occupation_networks = pd.DataFrame({\n",
    "    'network_no': network_no,\n",
    "    'age_type': age_type,\n",
    "    'mean_work_interaction': mean_work_interactin,\n",
    "    'lockdown_multiplier': lockdown_multiplier,\n",
    "    'network_id': network_no,\n",
    "    'network_name': network_name,\n",
    "})\n"
   ]
  },
  {
   "cell_type": "markdown",
   "metadata": {
    "colab_type": "text",
    "id": "cUH8WzoHqKOr"
   },
   "source": [
    "### Step 2 - Assign occupational networks to individiuals\n",
    "\n",
    "Next, we assign each individual an occupational network number. For this example, we randomly assign the networks."
   ]
  },
  {
   "cell_type": "code",
   "execution_count": 3,
   "metadata": {
    "colab": {},
    "colab_type": "code",
    "id": "J8-y8C2lqCQY"
   },
   "outputs": [],
   "source": [
    "IDs = np.arange(n_total)\n",
    "assignment = np.random.randint(0, n_networks, n_total)\n",
    "occupation_network_assignment  = pd.DataFrame({'ID':IDs,\n",
    "                                               'network_no':assignment})\n"
   ]
  },
  {
   "cell_type": "markdown",
   "metadata": {
    "colab_type": "text",
    "id": "A4WXdsJJrfZU"
   },
   "source": [
    "### Step 3 - Add occupational network and assignment tables to the parameters"
   ]
  },
  {
   "cell_type": "code",
   "execution_count": 4,
   "metadata": {
    "colab": {},
    "colab_type": "code",
    "id": "g3QmVn6crnW0"
   },
   "outputs": [],
   "source": [
    "params.set_occupation_network_table(occupation_network_assignment, \n",
    "                                    occupation_networks)"
   ]
  },
  {
   "cell_type": "markdown",
   "metadata": {
    "colab_type": "text",
    "id": "I_sWnJceY4i-"
   },
   "source": [
    "We now construct and run the model for 100 days, and plot the time-sereies of the total number of people infected."
   ]
  },
  {
   "cell_type": "code",
   "execution_count": 5,
   "metadata": {
    "colab": {},
    "colab_type": "code",
    "id": "dYvqCe4iY4i_"
   },
   "outputs": [
    {
     "data": {
      "text/plain": [
       "<matplotlib.axes._subplots.AxesSubplot at 0x7f7fbdcc70d0>"
      ]
     },
     "execution_count": 5,
     "metadata": {},
     "output_type": "execute_result"
    },
    {
     "data": {
      "image/png": "[encoded data removed]",
      "text/plain": [
       "<Figure size 432x288 with 1 Axes>"
      ]
     },
     "metadata": {
      "needs_background": "light"
     },
     "output_type": "display_data"
    }
   ],
   "source": [
    "sim = utils.get_simulation( params )\n",
    "sim.steps( 100 )\n",
    "timeseries = pd.DataFrame( sim.results )\n",
    "timeseries.plot( x = \"time\", y = \"total_infected\" )"
   ]
  },
  {
   "cell_type": "code",
   "execution_count": null,
   "metadata": {},
   "outputs": [],
   "source": []
  },
  {
   "cell_type": "code",
   "execution_count": null,
   "metadata": {},
   "outputs": [],
   "source": []
  }
 ],
 "metadata": {
  "colab": {
   "collapsed_sections": [],
   "name": "example_multiple_working_sectors.ipynb",
   "provenance": []
  },
  "kernelspec": {
   "display_name": "Python 3 (ipykernel)",
   "language": "python",
   "name": "python3"
  },
  "language_info": {
   "codemirror_mode": {
    "name": "ipython",
    "version": 3
   },
   "file_extension": ".py",
   "mimetype": "text/x-python",
   "name": "python",
   "nbconvert_exporter": "python",
   "pygments_lexer": "ipython3",
   "version": "3.9.7"
  }
 },
 "nbformat": 4,
 "nbformat_minor": 1
}
