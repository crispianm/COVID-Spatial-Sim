{
 "cells": [
  {
   "cell_type": "markdown",
   "id": "922fc926",
   "metadata": {
    "heading_collapsed": true
   },
   "source": [
    "# Preliminaries"
   ]
  },
  {
   "cell_type": "markdown",
   "id": "f402692d",
   "metadata": {
    "hidden": true
   },
   "source": [
    "## Libraries"
   ]
  },
  {
   "cell_type": "code",
   "execution_count": 1,
   "id": "f57f3045",
   "metadata": {},
   "outputs": [],
   "source": [
    "# import sys\n",
    "# sys.path = ['', '/home/linuxbrew/.linuxbrew/Cellar/python@3.9/3.9.7_1/lib/python39.zip', '/home/linuxbrew/.linuxbrew/Cellar/python@3.9/3.9.7_1/lib/python3.9', '/home/linuxbrew/.linuxbrew/Cellar/python@3.9/3.9.7_1/lib/python3.9/lib-dynload', '/home/linuxbrew/.linuxbrew/Cellar/python@3.9/3.9.7_1/lib/python3.9/site-packages', '/mnt/c/Users/crisp/Desktop/MDM3/OpenABM-Covid19-feature-spatial/src']"
   ]
  },
  {
   "cell_type": "code",
   "execution_count": 2,
   "id": "c67af068",
   "metadata": {
    "ExecuteTime": {
     "end_time": "2021-10-12T10:08:33.844747Z",
     "start_time": "2021-10-12T10:08:32.081995Z"
    },
    "hidden": true,
    "scrolled": true
   },
   "outputs": [],
   "source": [
    "%matplotlib inline\n",
    "from os.path import join\n",
    "from IPython.core.display import display, HTML\n",
    "import plotting\n",
    "\n",
    "import example_utils as utils\n",
    "import pandas as pd\n",
    "import os\n",
    "import numpy as np\n",
    "import matplotlib.pyplot as plt\n",
    "from tqdm.notebook import tqdm\n",
    "import networkx as nx\n",
    "import ipywidgets\n",
    "\n",
    "from shapely.ops import unary_union\n",
    "import shapely.speedups\n",
    "from shapely.geometry import Polygon, LineString, Point\n",
    "\n",
    "# Graphing\n",
    "import geoplot as gplt\n",
    "import geoplot.crs as gcrs\n",
    "import geopandas as gpd\n"
   ]
  },
  {
   "cell_type": "markdown",
   "id": "8cf938ed",
   "metadata": {
    "ExecuteTime": {
     "end_time": "2021-09-17T14:41:19.681042Z",
     "start_time": "2021-09-17T14:41:19.674783Z"
    },
    "hidden": true
   },
   "source": [
    "## Hadean Colour scheme\n",
    "But feel free to choose your own."
   ]
  },
  {
   "cell_type": "code",
   "execution_count": 3,
   "id": "6051cb68",
   "metadata": {
    "ExecuteTime": {
     "end_time": "2021-10-12T10:08:33.939608Z",
     "start_time": "2021-10-12T10:08:33.934592Z"
    },
    "hidden": true
   },
   "outputs": [],
   "source": [
    "# Hadean colour scheme\n",
    "hadeanOrange = '#FF9448'\n",
    "hadeanIndigo = '#27203B'\n",
    "hadeanCoral = '#FF5C37'\n",
    "hadeanCopper = '#D66444'\n",
    "uranianBlue = '#AFDBF5'"
   ]
  },
  {
   "cell_type": "code",
   "execution_count": 4,
   "id": "b0a17725",
   "metadata": {
    "ExecuteTime": {
     "end_time": "2021-10-12T10:08:33.949757Z",
     "start_time": "2021-10-12T10:08:33.942407Z"
    },
    "hidden": true
   },
   "outputs": [],
   "source": [
    "def AddTransparency(c,a):\n",
    "    b = format(max(int(255*a),0),'02X')\n",
    "    return c+str(b[-2:])"
   ]
  },
  {
   "cell_type": "markdown",
   "id": "f92ca7ab",
   "metadata": {
    "hidden": true
   },
   "source": [
    "## Chris' Imperial functions"
   ]
  },
  {
   "cell_type": "code",
   "execution_count": 5,
   "id": "0db37aed",
   "metadata": {
    "ExecuteTime": {
     "end_time": "2021-10-12T10:08:33.960922Z",
     "start_time": "2021-10-12T10:08:33.951794Z"
    },
    "hidden": true
   },
   "outputs": [],
   "source": [
    "def convert_imperial_network_edges_to_oxford_network_edges(network_data):\n",
    "    network_data.rename(columns = {'a.index': 'ID_1', 'b.index': 'ID_2'}, inplace=True)\n",
    "    return network_data\n",
    "\n",
    "def convert_imperial_node_data_to_oxford_node_data(person_node_data, index_to_label_network_with):\n",
    "    person_node_data.rename(columns = {'index': 'ID',\n",
    "                                       'household.index': 'house_no',\n",
    "                                       'age': 'age_group',\n",
    "                                       'coord.x': 'x',\n",
    "                                       'coord.y': 'y'}, inplace=True)\n",
    "\n",
    "    person_node_data['network_no'] = (np.zeros(len(person_node_data)) + index_to_label_network_with)\n",
    "\n",
    "    # Convert the age to age group (the decade age group of the person and is an integer between 0 (0-9 years) and 8 (80+).)\n",
    "    person_node_data['age_group'] = person_node_data['age_group'].apply(lambda x: int(x / 10))\n",
    "\n",
    "    #print(person_node_data) # CA remove\n",
    "\n",
    "    return person_node_data"
   ]
  },
  {
   "cell_type": "markdown",
   "id": "da096abd",
   "metadata": {
    "ExecuteTime": {
     "end_time": "2021-09-27T18:08:45.958625Z",
     "start_time": "2021-09-27T18:08:45.955890Z"
    },
    "hidden": true
   },
   "source": [
    "## Very-much-draft Coordinate functions"
   ]
  },
  {
   "cell_type": "code",
   "execution_count": 6,
   "id": "e8fbc6b3",
   "metadata": {
    "ExecuteTime": {
     "end_time": "2021-10-12T10:08:33.974738Z",
     "start_time": "2021-10-12T10:08:33.963265Z"
    },
    "hidden": true
   },
   "outputs": [],
   "source": [
    "def coord2ll(x,y):\n",
    "    return np.array([y,x]) * 57.2957795131\n",
    "\n",
    "def ll2coord(long,lat):\n",
    "    return np.array([lat,long]) / 57.2957795131\n",
    "\n",
    "def coord2ll_listIn(x):\n",
    "    return coord2ll(x[1],x[0])\n",
    "\n",
    "def ll2coord_list(x):\n",
    "    return ll2coord(x[1],x[0])\n"
   ]
  },
  {
   "cell_type": "markdown",
   "id": "d26096c5",
   "metadata": {
    "hidden": true
   },
   "source": [
    "## Load Networks"
   ]
  },
  {
   "cell_type": "code",
   "execution_count": 7,
   "id": "c5e06a1e",
   "metadata": {
    "ExecuteTime": {
     "end_time": "2021-10-12T10:08:33.988378Z",
     "start_time": "2021-10-12T10:08:33.976977Z"
    },
    "hidden": true
   },
   "outputs": [],
   "source": [
    "##########################\n",
    "# Load Network Functions #\n",
    "##########################\n",
    "\n",
    "# Take path of _nodes.csv\n",
    "def LoadDemographics(demoPath):\n",
    "    df_household_demographics = pd.read_csv(demoPath, comment=\"#\", sep=\",\", skipinitialspace=True)\n",
    "    # Converting we use network_no=0, as that's for household network\n",
    "    df_household_demographics = convert_imperial_node_data_to_oxford_node_data(df_household_demographics,0)\n",
    "    return df_household_demographics\n",
    "\n",
    "def CoordsFromDemo(df_household_demographics):\n",
    "    df_coordinates = df_household_demographics.rename(columns={'x':'xcoords','y':'ycoords'})[['ID','xcoords','ycoords']]\n",
    "    return df_coordinates\n",
    "\n",
    "def LoadOccupationNetworks(projPath,prefix='bristol'):\n",
    "    ocNetworksArcs_df_dict = {}\n",
    "    ocNetworksArcs_colNames = ['ID_1','a.x','a.y','ID_2','b.x','b.y']\n",
    "    network_name = np.array(['primary', 'secondary', 'general_workforce', 'retired', 'elderly'])\n",
    "\n",
    "    # Can find network assignment by the a.index for each _i_arcs.csv\n",
    "    for i,x in enumerate(tqdm(network_name)):\n",
    "        print([i,x])\n",
    "        ocNetworksArcs_df_dict[x] = pd.read_csv(projPath+'/'+prefix+\"_\"+str(i)+\"_arcs.csv\", comment=\"#\", sep=\",\", skipinitialspace=True)\n",
    "        ocNetworksArcs_df_dict[x].columns = ocNetworksArcs_colNames\n",
    "    \n",
    "    return ocNetworksArcs_df_dict\n",
    "\n",
    "###################\n",
    "# Parameter stuff #\n",
    "###################\n",
    "\n",
    "def LoadParams(df_household_demographics,params=None):\n",
    "    if params == None:\n",
    "        params = utils.get_baseline_parameters()\n",
    "    n_total = len(df_household_demographics[\"ID\"])\n",
    "    params.set_param(\"n_total\",n_total)\n",
    "    params.set_demographic_household_table(df_household_demographics)\n",
    "    return params\n",
    "\n",
    "def LoadNetworks(model,ocNetworksArcs_df_dict,daily_fration=0.5):\n",
    "    for i,net in enumerate(ocNetworksArcs_df_dict):\n",
    "        model.delete_network(model.get_network_by_id(i+2))\n",
    "        model.add_user_network(ocNetworksArcs_df_dict[net],name=net,daily_fraction=daily_fration)\n",
    "\n",
    "def ImperialNetwork(netPath,n_infect=10,prefix='bristol'):\n",
    "    df_household_demographics = LoadDemographics(netPath+'/'+prefix+'_0_nodes.csv')\n",
    "    df_coordinates = CoordsFromDemo(df_household_demographics)\n",
    "    ocNetworksArcs_df_dict = LoadOccupationNetworks(netPath)\n",
    "    params = LoadParams(df_household_demographics)\n",
    "    params.set_param(\"n_seed_infection\",n_infect)\n",
    "    model = utils.get_simulation( params ).env.model\n",
    "    model.assign_coordinates_individuals(df_coordinates)\n",
    "    LoadNetworks(model,ocNetworksArcs_df_dict)\n",
    "    return model"
   ]
  },
  {
   "cell_type": "code",
   "execution_count": 45,
   "id": "b28226b9",
   "metadata": {},
   "outputs": [],
   "source": [
    "def LockdownInRadius(model,target,r,n=14):\n",
    "    indivs = model.get_individuals()\n",
    "    indivs = RadiusIndividual(model,target,r)\n",
    "    t = model.one_time_step_results()['time']\n",
    "    for i in indivs:\n",
    "        model.intervention_quarantine_until_by_idx(i,None,t+n,0)"
   ]
  },
  {
   "cell_type": "code",
   "execution_count": 46,
   "id": "981c31c9",
   "metadata": {},
   "outputs": [],
   "source": [
    "def RadiusIndividual(model,target,r,d=np.linalg.norm):\n",
    "    x = model.get_individuals()\n",
    "    x['d'] = d(x[['xcoords','ycoords']]-target,axis=1)\n",
    "    x = x.loc[x['d']<=r]\n",
    "    return list(x['ID'])"
   ]
  },
  {
   "cell_type": "markdown",
   "id": "e42d3cb5",
   "metadata": {
    "heading_collapsed": true
   },
   "source": [
    "# Visualise Network"
   ]
  },
  {
   "cell_type": "code",
   "execution_count": 8,
   "id": "c9a80e08",
   "metadata": {
    "ExecuteTime": {
     "end_time": "2021-10-12T10:08:33.999872Z",
     "start_time": "2021-10-12T10:08:33.990716Z"
    },
    "hidden": true
   },
   "outputs": [],
   "source": [
    "statuses2Track = [1,2,3,4,5,6,7,8,20] # In model.py, v. difficult to find\n",
    "statuses2Track = [4,5]\n",
    "\n",
    "def Infected(model):\n",
    "    x = model.get_individuals()\n",
    "    x = x.loc[x['current_status'].isin(statuses2Track)]\n",
    "    return list(x['ID'])"
   ]
  },
  {
   "cell_type": "code",
   "execution_count": 9,
   "id": "48ddff6f",
   "metadata": {
    "ExecuteTime": {
     "end_time": "2021-10-12T10:08:34.009696Z",
     "start_time": "2021-10-12T10:08:34.002249Z"
    },
    "hidden": true
   },
   "outputs": [],
   "source": [
    "# scarrily current_status does not seem to change when quarantined\n",
    "def Lockdowned(model):\n",
    "    x = model.get_individuals()\n",
    "    x = x.loc[x['quarantined'] == 1]\n",
    "    return list(x['ID'])"
   ]
  },
  {
   "cell_type": "code",
   "execution_count": 10,
   "id": "506fb7f7",
   "metadata": {
    "ExecuteTime": {
     "end_time": "2021-10-12T10:08:34.491501Z",
     "start_time": "2021-10-12T10:08:34.015358Z"
    },
    "hidden": true
   },
   "outputs": [],
   "source": [
    "def VisualiseNetwork(model,ax,aNode = 1/2**7,aEdge = 1/2**7):\n",
    "    # Correct function!\n",
    "    nodes = model.get_individuals()\n",
    "    nodes_pos = {nodes['ID'][i]:[nodes['xcoords'][i],nodes['ycoords'][i]] for i in range(len(nodes))}\n",
    "    infected = Infected(model)\n",
    "    quarantined = Lockdowned(model)\n",
    "    g = nx.Graph()\n",
    "    #g = nx.from_pandas_edgelist(ocNetworksArcs_df_dict['primary'],'ID_1','ID_2',create_using=nx.Graph())\n",
    "    g.add_nodes_from(nodes['ID'])\n",
    "    g_infected = nx.subgraph(g,infected)\n",
    "    g_quarantined = nx.subgraph(g,quarantined)\n",
    "    #f,ax = plt.subplots(figsize=(20,10))\n",
    "    nx.draw(g,pos=nodes_pos,node_size=5,edge_color=AddTransparency(hadeanOrange,aEdge),node_color=AddTransparency(hadeanIndigo,aNode),ax=ax)\n",
    "    nx.draw_networkx_nodes(g_quarantined,pos=nodes_pos,node_size=5,node_color=AddTransparency(uranianBlue,0.02),ax=ax)\n",
    "    nx.draw_networkx_nodes(g_infected,pos=nodes_pos,node_size=5,node_color=AddTransparency(hadeanOrange,0.9),ax=ax)"
   ]
  },
  {
   "cell_type": "code",
   "execution_count": 11,
   "id": "7a3b5f8a",
   "metadata": {
    "ExecuteTime": {
     "end_time": "2021-10-12T10:08:59.357020Z",
     "start_time": "2021-10-12T10:08:34.497444Z"
    },
    "hidden": true,
    "scrolled": true
   },
   "outputs": [],
   "source": [
    "bristol_net_dir = \"../../id_spatial_sim/scenarios/bristol/output/networks\"\n",
    "mdm_net_dir = \"../../id_spatial_sim/scenarios/mdm3_scenario/output/networks\"\n",
    "# test_model = ImperialNetwork(bristol_net_dir)\n",
    "# f,ax = plt.subplots(figsize=(20,10))\n",
    "# VisualiseNetwork(test_model,ax)"
   ]
  },
  {
   "cell_type": "code",
   "execution_count": 12,
   "id": "6ac3f468",
   "metadata": {
    "ExecuteTime": {
     "end_time": "2021-10-12T10:14:50.479718Z",
     "start_time": "2021-10-12T10:14:50.475760Z"
    },
    "hidden": true
   },
   "outputs": [],
   "source": [
    "n = 128\n",
    "aNode = 1/2**7\n",
    "aEdge = 1/2**7\n",
    "bristol_gif_out = '../../NetworkData/bristol/'\n",
    "mdm_gif_out = '../../NetworkData/mdm/'\n",
    "gif_out = '../../NetworkData/'"
   ]
  },
  {
   "cell_type": "code",
   "execution_count": 13,
   "id": "e293ec09",
   "metadata": {
    "ExecuteTime": {
     "end_time": "2021-10-12T10:14:53.130643Z",
     "start_time": "2021-10-12T10:14:50.718942Z"
    },
    "hidden": true
   },
   "outputs": [],
   "source": [
    "from matplotlib.lines import Line2D\n",
    "\n",
    "# Run several time-steps and produce many PNGs to be converted to a GIF\n",
    "def RunSim(model, out_dir=gif_out, n=64, title_text='Spread of COVID-19 on an artificial network of Bristol'):\n",
    "    for i in tqdm(range(n)):\n",
    "        f,ax = plt.subplots(figsize=(20,10))\n",
    "        t = model.one_time_step_results()['time']\n",
    "        VisualiseNetwork(model,ax)\n",
    "        plt.title(title_text,fontsize=32)\n",
    "        agentPatch = Line2D([0],[0],marker='o',linestyle='none',color=AddTransparency(hadeanIndigo,aNode),label='Agent')\n",
    "        conPatch = Line2D([0],[0],marker='o',linestyle='none',color=AddTransparency(hadeanOrange,0.9),label='Contagious')\n",
    "        lg1 = plt.legend(handles=[agentPatch,conPatch],fontsize=16)\n",
    "        text = \"Time = \"+\"{:04d}\".format(t)\n",
    "        textPatch = Line2D([0],[0],linestyle='none',label=text)\n",
    "        ax.legend(handles=[textPatch],loc='lower left',frameon=False)\n",
    "        ax.add_artist(lg1)\n",
    "        print(out_dir+\"{:04d}\".format(t)+'.png')\n",
    "        f.savefig(out_dir+\"{:04d}\".format(t)+'.png')\n",
    "        model.one_time_step()\n",
    "        ax.clear()\n",
    "        plt.clf()\n",
    "    \n",
    "# Then use a `convert ./out_dir/*.png ./net.gif` from terminal"
   ]
  },
  {
   "cell_type": "markdown",
   "id": "69370dd6",
   "metadata": {
    "heading_collapsed": true
   },
   "source": [
    "# Seeding\n",
    "For the Hotwells/Bristol."
   ]
  },
  {
   "cell_type": "code",
   "execution_count": 47,
   "id": "fc9f2f00",
   "metadata": {
    "ExecuteTime": {
     "end_time": "2021-10-12T10:08:59.554650Z",
     "start_time": "2021-10-12T10:08:59.554637Z"
    },
    "hidden": true
   },
   "outputs": [
    {
     "name": "stdout",
     "output_type": "stream",
     "text": [
      "[-0.04571283334056327, 0.897959688780161]\n"
     ]
    },
    {
     "data": {
      "application/vnd.jupyter.widget-view+json": {
       "model_id": "527b71f16b794d8e8b5ef928090da71c",
       "version_major": 2,
       "version_minor": 0
      },
      "text/plain": [
       "  0%|          | 0/5 [00:00<?, ?it/s]"
      ]
     },
     "metadata": {},
     "output_type": "display_data"
    },
    {
     "name": "stdout",
     "output_type": "stream",
     "text": [
      "[0, 'primary']\n",
      "[1, 'secondary']\n",
      "[2, 'general_workforce']\n",
      "[3, 'retired']\n",
      "[4, 'elderly']\n",
      "\n",
      "Bristol model generated. \n",
      "\n"
     ]
    },
    {
     "data": {
      "application/vnd.jupyter.widget-view+json": {
       "model_id": "dbcda973d51e422b99f059c8c9a29f7b",
       "version_major": 2,
       "version_minor": 0
      },
      "text/plain": [
       "  0%|          | 0/5 [00:00<?, ?it/s]"
      ]
     },
     "metadata": {},
     "output_type": "display_data"
    },
    {
     "name": "stdout",
     "output_type": "stream",
     "text": [
      "[0, 'primary']\n",
      "[1, 'secondary']\n",
      "[2, 'general_workforce']\n",
      "[3, 'retired']\n",
      "[4, 'elderly']\n",
      "\n",
      "MDM model generated. \n",
      "\n",
      "\n",
      "\n"
     ]
    }
   ],
   "source": [
    "# replace bc4 with the coords of your desired location\n",
    "long,lat = coord2ll(1.0,-.1)\n",
    "x,y = ll2coord(long,lat)\n",
    "\n",
    "# Hotwells coords\n",
    "bc4 = [51.44930034, -2.61915242]\n",
    "bc4_x, bc4_y = ll2coord(bc4[0],bc4[1])\n",
    "bc4_xy = np.array([bc4_x,bc4_y])\n",
    "print([bc4_x, bc4_y])\n",
    "\n",
    "\n",
    "\n",
    "bristol_model = ImperialNetwork(bristol_net_dir)\n",
    "bristol_df_indiv = bristol_model.get_individuals()\n",
    "print(\"\\nBristol model generated. \\n\")\n",
    "\n",
    "mdm_model = ImperialNetwork(mdm_net_dir)\n",
    "mdm_df_indiv = mdm_model.get_individuals()\n",
    "print(\"\\nMDM model generated. \\n\")\n",
    "\n",
    "\n",
    "\n",
    "d = np.linalg.norm\n",
    "bristol_df_indiv['d'] = d(bristol_df_indiv[['xcoords','ycoords']]-bc4_xy,axis=1)\n",
    "mdm_df_indiv['d'] = d(mdm_df_indiv[['xcoords','ycoords']]-bc4_xy,axis=1)\n",
    "\n",
    "\n",
    "\n",
    "bristol_mind = bristol_df_indiv['d'].idxmin()\n",
    "bristol_bc4_house = int(bristol_df_indiv.iloc[bristol_mind]['house_no'])\n",
    "# print(bristol_df_indiv.iloc[bristol_mind])\n",
    "# print(coord2ll(bristol_df_indiv.iloc[bristol_mind]['xcoords'],bristol_df_indiv.iloc[bristol_mind]['ycoords']))\n",
    "\n",
    "print('\\n')\n",
    "\n",
    "mdm_mind = mdm_df_indiv['d'].idxmin()\n",
    "mdm_bc4_house = int(mdm_df_indiv.iloc[mdm_mind]['house_no'])\n",
    "# print(mdm_df_indiv.iloc[mdm_mind])\n",
    "# print(coord2ll(mdm_df_indiv.iloc[mdm_mind]['xcoords'],mdm_df_indiv.iloc[mdm_mind]['ycoords']))\n",
    "\n",
    "\n",
    "\n",
    "coord2ll(bristol_df_indiv.iloc[bristol_mind]['xcoords'],bristol_df_indiv.iloc[bristol_mind]['ycoords'])\n",
    "coord2ll(mdm_df_indiv.iloc[mdm_mind]['xcoords'],mdm_df_indiv.iloc[mdm_mind]['ycoords'])\n",
    "\n",
    "\n",
    "\n",
    "bristol_df_indiv.loc[bristol_df_indiv['house_no']==bristol_bc4_house]\n",
    "mdm_df_indiv.loc[mdm_df_indiv['house_no']==mdm_bc4_house]\n",
    "\n",
    "\n",
    "\n",
    "\n",
    "bristol_bc4_indivs = [x for x in list(bristol_df_indiv.loc[bristol_df_indiv['house_no']==bristol_bc4_house]['ID'])]\n",
    "mdm_df_indiv = [x for x in list(mdm_df_indiv.loc[mdm_df_indiv['house_no']==mdm_bc4_house]['ID'])]\n",
    "\n",
    "\n",
    "\n",
    "for i in bristol_bc4_indivs:\n",
    "    bristol_model.seed_infect_by_idx(i)\n",
    "    \n",
    "for i in mdm_df_indiv:\n",
    "    mdm_model.seed_infect_by_idx(i)"
   ]
  },
  {
   "cell_type": "code",
   "execution_count": null,
   "id": "a96a7408",
   "metadata": {},
   "outputs": [
    {
     "data": {
      "application/vnd.jupyter.widget-view+json": {
       "model_id": "4be2c522f4b94d5ebdaefa53056deca8",
       "version_major": 2,
       "version_minor": 0
      },
      "text/plain": [
       "  0%|          | 0/100 [00:00<?, ?it/s]"
      ]
     },
     "metadata": {},
     "output_type": "display_data"
    },
    {
     "name": "stdout",
     "output_type": "stream",
     "text": [
      "../../NetworkData/bristol/0000.png\n",
      "../../NetworkData/bristol/0001.png\n",
      "../../NetworkData/bristol/0002.png\n",
      "../../NetworkData/bristol/0003.png\n",
      "../../NetworkData/bristol/0004.png\n",
      "../../NetworkData/bristol/0005.png\n"
     ]
    }
   ],
   "source": [
    "m = 100\n",
    "RunSim(bristol_model,n=m, out_dir=bristol_gif_out)\n",
    "RunSim(mdm_model,n=m, out_dir=mdm_gif_out)"
   ]
  },
  {
   "cell_type": "code",
   "execution_count": 15,
   "id": "b7ee15df",
   "metadata": {},
   "outputs": [],
   "source": [
    "###################\n",
    "# Crispian's Mods #\n",
    "###################\n",
    "\n",
    "# to change:\n",
    "# params.set_param('relative_transmission_random',0)\n",
    "\n",
    "\n",
    "## Write bristol output files\n",
    "bristol_df_timeseries = pd.DataFrame(bristol_model.results)\n",
    "bristol_model.write_output_files()\n",
    "# Rename and move bristol output files into subfolder\n",
    "os.rename(\"individual_file_Run1.csv\", \"./output_files/bristol_individual_file_Run1.csv\")\n",
    "os.rename(\"interactions_Run1.csv\", \"./output_files/bristol_interactions_Run1.csv\")\n",
    "os.rename(\"trace_tokens_Run1.csv\", \"./output_files/bristol_trace_tokens_Run1.csv\")\n",
    "os.rename(\"transmission_Run1.csv\", \"./output_files/bristol_transmission_Run1.csv\")\n",
    "\n",
    "\n",
    "## Write mdm3 output files\n",
    "mdm_df_timeseries = pd.DataFrame(mdm_model.results)\n",
    "mdm_model.write_output_files()\n",
    "# Rename and move mdm3 output files into subfolder\n",
    "os.rename(\"individual_file_Run1.csv\", \"./output_files/mdm_individual_file_Run1.csv\")\n",
    "os.rename(\"interactions_Run1.csv\", \"./output_files/mdm_interactions_Run1.csv\")\n",
    "os.rename(\"trace_tokens_Run1.csv\", \"./output_files/mdm_trace_tokens_Run1.csv\")\n",
    "os.rename(\"transmission_Run1.csv\", \"./output_files/mdm_transmission_Run1.csv\")\n",
    "\n",
    "\n",
    "## Read files\n",
    "# Read bristol output files\n",
    "bristol_df_indiv = pd.read_csv(join(\"./output_files/bristol_individual_file_Run1.csv\"))\n",
    "bristol_df_interact = pd.read_csv(join(\"./output_files/bristol_interactions_Run1.csv\"))\n",
    "bristol_df_trans = pd.read_csv(join(\"./output_files/bristol_transmission_Run1.csv\"))\n",
    "# Read mdm3 output files\n",
    "mdm_df_indiv = pd.read_csv(join(\"./output_files/mdm_individual_file_Run1.csv\"))\n",
    "mdm_df_interact = pd.read_csv(join(\"./output_files/mdm_interactions_Run1.csv\"))\n",
    "mdm_df_trans = pd.read_csv(join(\"./output_files/mdm_transmission_Run1.csv\"))"
   ]
  },
  {
   "cell_type": "code",
   "execution_count": 16,
   "id": "4e0d5a5b",
   "metadata": {},
   "outputs": [
    {
     "name": "stdout",
     "output_type": "stream",
     "text": [
      "            ID  current_status  age_group  occupation_network  worker_type  \\\n",
      "0            0               0          8                   4           -1   \n",
      "1            1               0          7                   3           -1   \n",
      "2            2               0          6                   2           -1   \n",
      "3            3               0          4                   3           -1   \n",
      "4            4               0          2                   3           -1   \n",
      "...        ...             ...        ...                 ...          ...   \n",
      "619995  619995               0          4                   2           -1   \n",
      "619996  619996               0          7                   3           -1   \n",
      "619997  619997               0          6                   2           -1   \n",
      "619998  619998               0          7                   3           -1   \n",
      "619999  619999               0          8                   4           -1   \n",
      "\n",
      "        assigned_worker_ward_type  house_no  quarantined  time_quarantined  \\\n",
      "0                              -1         0            0                -1   \n",
      "1                              -1         0            0                -1   \n",
      "2                              -1         0            0                -1   \n",
      "3                              -1         1            0                -1   \n",
      "4                              -1         1            0                -1   \n",
      "...                           ...       ...          ...               ...   \n",
      "619995                         -1    258336            0                -1   \n",
      "619996                         -1    258337            0                -1   \n",
      "619997                         -1    258337            0                -1   \n",
      "619998                         -1    258337            0                -1   \n",
      "619999                         -1    258338            0                -1   \n",
      "\n",
      "        test_status  app_user  mean_interactions  infection_count  \\\n",
      "0                -2         1                  2                0   \n",
      "1                -2         0                  4                0   \n",
      "2                -2         1                  1                0   \n",
      "3                -2         1                  3                0   \n",
      "4                -2         0                  3                0   \n",
      "...             ...       ...                ...              ...   \n",
      "619995           -2         1                  6                0   \n",
      "619996           -2         0                  5                0   \n",
      "619997           -2         0                  5                0   \n",
      "619998           -2         0                  1                0   \n",
      "619999           -2         0                  1                0   \n",
      "\n",
      "        infectiousness_multiplier  vaccine_status   xcoords   ycoords  \n",
      "0                          0.0601               0 -0.044751  0.898128  \n",
      "1                          0.3043               0 -0.044751  0.898128  \n",
      "2                          0.0445               0 -0.044751  0.898128  \n",
      "3                          0.1365               0 -0.048014  0.898667  \n",
      "4                          0.2098               0 -0.048014  0.898667  \n",
      "...                           ...             ...       ...       ...  \n",
      "619995                     0.0107               0 -0.043995  0.898671  \n",
      "619996                     0.0579               0 -0.045400  0.898341  \n",
      "619997                     2.8770               0 -0.045400  0.898341  \n",
      "619998                     0.3791               0 -0.045400  0.898341  \n",
      "619999                     0.6029               0 -0.045546  0.897857  \n",
      "\n",
      "[620000 rows x 17 columns]\n",
      "            ID_1  age_group_1  worker_type_1  house_no_1  \\\n",
      "0              0            8             -1           0   \n",
      "1              0            8             -1           0   \n",
      "2              0            8             -1           0   \n",
      "3              0            8             -1           0   \n",
      "4              1            7             -1           0   \n",
      "...          ...          ...            ...         ...   \n",
      "11192419  619998            7             -1      258337   \n",
      "11192420  619998            7             -1      258337   \n",
      "11192421  619998            7             -1      258337   \n",
      "11192422  619998            7             -1      258337   \n",
      "11192423  619999            8             -1      258338   \n",
      "\n",
      "          occupation_network_1  type  network_id    ID_2  age_group_2  \\\n",
      "0                            4     0           1       2            6   \n",
      "1                            4     0           1       1            7   \n",
      "2                            4     2           0  310717            7   \n",
      "3                            4     2           0  147764            6   \n",
      "4                            3     1          10  578794            7   \n",
      "...                        ...   ...         ...     ...          ...   \n",
      "11192419                     3     1          10  145480            7   \n",
      "11192420                     3     0           1  619997            6   \n",
      "11192421                     3     0           1  619996            7   \n",
      "11192422                     3     2           0  459724            2   \n",
      "11192423                     4     2           0  155580            4   \n",
      "\n",
      "          worker_type_2  house_no_2  occupation_network_2  traceable  \\\n",
      "0                    -1           0                     2         -1   \n",
      "1                    -1           0                     3         -1   \n",
      "2                    -1      129774                     3         -1   \n",
      "3                    -1       61668                     4         -1   \n",
      "4                    -1      241127                     3         -1   \n",
      "...                 ...         ...                   ...        ...   \n",
      "11192419             -1       60710                     3         -1   \n",
      "11192420             -1      258337                     2         -1   \n",
      "11192421             -1      258337                     3         -1   \n",
      "11192422             -1      191610                     2         -1   \n",
      "11192423             -1       64955                     2         -1   \n",
      "\n",
      "          manual_traceable  time  \n",
      "0                       -1    11  \n",
      "1                       -1    11  \n",
      "2                       -1    11  \n",
      "3                       -1    11  \n",
      "4                       -1    11  \n",
      "...                    ...   ...  \n",
      "11192419                -1    11  \n",
      "11192420                -1    11  \n",
      "11192421                -1    11  \n",
      "11192422                -1    11  \n",
      "11192423                -1    11  \n",
      "\n",
      "[11192424 rows x 15 columns]\n",
      "     ID_recipient  age_group_recipient  house_no_recipient  \\\n",
      "0              57                    7                  20   \n",
      "1            1694                    4                 701   \n",
      "2            1726                    8                 714   \n",
      "3            3259                    4                1335   \n",
      "4            4367                    6                1809   \n",
      "..            ...                  ...                 ...   \n",
      "547        615830                    7              256580   \n",
      "548        615831                    7              256580   \n",
      "549        615832                    7              256580   \n",
      "550        615973                    5              256641   \n",
      "551        618832                    7              257841   \n",
      "\n",
      "     occupation_network_recipient  worker_type_recipient  \\\n",
      "0                               3                     -1   \n",
      "1                               3                     -1   \n",
      "2                               4                     -1   \n",
      "3                               2                     -1   \n",
      "4                               2                     -1   \n",
      "..                            ...                    ...   \n",
      "547                             3                     -1   \n",
      "548                             3                     -1   \n",
      "549                             3                     -1   \n",
      "550                             2                     -1   \n",
      "551                             3                     -1   \n",
      "\n",
      "     hospital_state_recipient  infector_network  infector_network_id  \\\n",
      "0                          17                 2                    0   \n",
      "1                          17                 2                    0   \n",
      "2                          17                 2                    0   \n",
      "3                          17                 2                    0   \n",
      "4                          17                 2                    0   \n",
      "..                        ...               ...                  ...   \n",
      "547                        17                 0                    1   \n",
      "548                        17                 0                    1   \n",
      "549                        17                 2                    0   \n",
      "550                        17                 1                    9   \n",
      "551                        17                 1                   10   \n",
      "\n",
      "     generation_time  ID_source  ...  time_hospitalised  time_critical  \\\n",
      "0                  4     618832  ...                 -1             -1   \n",
      "1                  8     141305  ...                 -1             -1   \n",
      "2                  4     122495  ...                 -1             -1   \n",
      "3                  7     307709  ...                 -1             -1   \n",
      "4                  3     122495  ...                 -1             -1   \n",
      "..               ...        ...  ...                ...            ...   \n",
      "547                3     615832  ...                 -1             -1   \n",
      "548                4     615832  ...                 -1             -1   \n",
      "549                3     445541  ...                 16             -1   \n",
      "550                3     280523  ...                 -1             -1   \n",
      "551                4     422774  ...                 14             -1   \n",
      "\n",
      "     time_hospitalised_recovering  time_death  time_recovered  \\\n",
      "0                              -1          -1              -1   \n",
      "1                              -1          -1              25   \n",
      "2                              -1          -1              -1   \n",
      "3                              -1          -1              15   \n",
      "4                              -1          -1              16   \n",
      "..                            ...         ...             ...   \n",
      "547                            -1          -1              -1   \n",
      "548                            -1          -1              21   \n",
      "549                            -1          -1              -1   \n",
      "550                            -1          -1              23   \n",
      "551                            -1          -1              -1   \n",
      "\n",
      "     time_susceptible  is_case  strain_idx  transmission_multiplier  \\\n",
      "0                  12        0           0                      1.0   \n",
      "1                  10        0           0                      1.0   \n",
      "2                  11        0           0                      1.0   \n",
      "3                   7        0           0                      1.0   \n",
      "4                  10        0           0                      1.0   \n",
      "..                ...      ...         ...                      ...   \n",
      "547                10        0           0                      1.0   \n",
      "548                11        0           0                      1.0   \n",
      "549                 7        0           0                      1.0   \n",
      "550                 8        0           0                      1.0   \n",
      "551                 8        0           0                      1.0   \n",
      "\n",
      "     expected_hospitalisation  \n",
      "0                      0.1028  \n",
      "1                      0.0193  \n",
      "2                      0.1315  \n",
      "3                      0.0193  \n",
      "4                      0.0707  \n",
      "..                        ...  \n",
      "547                    0.1028  \n",
      "548                    0.1028  \n",
      "549                    0.1028  \n",
      "550                    0.0371  \n",
      "551                    0.1028  \n",
      "\n",
      "[552 rows x 35 columns]\n",
      "    time  lockdown  test_on_symptoms  app_turned_on  total_infected  \\\n",
      "0      1         0                 0              0              12   \n",
      "1      2         0                 0              0              12   \n",
      "2      3         0                 0              0              14   \n",
      "3      4         0                 0              0              22   \n",
      "4      5         0                 0              0              31   \n",
      "5      6         0                 0              0              36   \n",
      "6      7         0                 0              0              42   \n",
      "7      8         0                 0              0              55   \n",
      "8      9         0                 0              0              63   \n",
      "9     10         0                 0              0              82   \n",
      "10    11         0                 0              0             108   \n",
      "11    12         0                 0              0             129   \n",
      "\n",
      "    total_infected_0_9  total_infected_10_19  total_infected_20_29  \\\n",
      "0                    1                     3                     0   \n",
      "1                    1                     3                     0   \n",
      "2                    1                     3                     0   \n",
      "3                    1                     9                     1   \n",
      "4                    1                     9                     5   \n",
      "5                    1                    10                     5   \n",
      "6                    1                    10                     8   \n",
      "7                    1                    13                    10   \n",
      "8                    1                    15                    11   \n",
      "9                    1                    20                    11   \n",
      "10                   1                    25                    14   \n",
      "11                   1                    26                    16   \n",
      "\n",
      "    total_infected_30_39  total_infected_40_49  ...  n_quarantine_app_user  \\\n",
      "0                      1                     2  ...                      0   \n",
      "1                      1                     2  ...                      0   \n",
      "2                      3                     2  ...                      0   \n",
      "3                      3                     3  ...                      0   \n",
      "4                      3                     5  ...                      0   \n",
      "5                      3                     6  ...                      0   \n",
      "6                      3                     6  ...                      0   \n",
      "7                      4                     8  ...                      0   \n",
      "8                      4                     9  ...                      0   \n",
      "9                      5                    17  ...                      0   \n",
      "10                     9                    18  ...                      0   \n",
      "11                    14                    23  ...                      0   \n",
      "\n",
      "    n_quarantine_app_user_infected  n_quarantine_app_user_recovered  \\\n",
      "0                                0                                0   \n",
      "1                                0                                0   \n",
      "2                                0                                0   \n",
      "3                                0                                0   \n",
      "4                                0                                0   \n",
      "5                                0                                0   \n",
      "6                                0                                0   \n",
      "7                                0                                0   \n",
      "8                                0                                0   \n",
      "9                                0                                0   \n",
      "10                               0                                0   \n",
      "11                               0                                0   \n",
      "\n",
      "    n_quarantine_events  n_quarantine_release_events  \\\n",
      "0                     0                            0   \n",
      "1                     0                            0   \n",
      "2                     0                            0   \n",
      "3                     0                            0   \n",
      "4                     0                            0   \n",
      "5                     0                            0   \n",
      "6                     0                            0   \n",
      "7                     0                            0   \n",
      "8                     0                            0   \n",
      "9                     0                            0   \n",
      "10                    0                            0   \n",
      "11                    0                            0   \n",
      "\n",
      "    n_quarantine_events_app_user  n_quarantine_release_events_app_user  \\\n",
      "0                              0                                     0   \n",
      "1                              0                                     0   \n",
      "2                              0                                     0   \n",
      "3                              0                                     0   \n",
      "4                              0                                     0   \n",
      "5                              0                                     0   \n",
      "6                              0                                     0   \n",
      "7                              0                                     0   \n",
      "8                              0                                     0   \n",
      "9                              0                                     0   \n",
      "10                             0                                     0   \n",
      "11                             0                                     0   \n",
      "\n",
      "      R_inst  R_inst_05  R_inst_95  \n",
      "0  -1.000000  -1.000000  -1.000000  \n",
      "1  -1.000000  -1.000000  -1.000000  \n",
      "2  -1.000000  -1.000000  -1.000000  \n",
      "3   4.006657   2.079707   6.868988  \n",
      "4   3.617106   1.959076   6.022834  \n",
      "5   1.863322   0.785933   3.651528  \n",
      "6   2.001871   0.922534   3.711665  \n",
      "7   3.478986   2.111735   5.339376  \n",
      "8   1.669945   0.866807   2.862944  \n",
      "9   3.436884   2.290667   4.914177  \n",
      "10  4.054179   2.877625   5.515005  \n",
      "11  2.782497   1.894527   3.912641  \n",
      "\n",
      "[12 rows x 70 columns]\n"
     ]
    }
   ],
   "source": [
    "# print(mdm_df_indiv) #17 categories\n",
    "# print(mdm_df_interact) #15 categories\n",
    "# print(mdm_df_trans) #35 categories"
   ]
  },
  {
   "cell_type": "code",
   "execution_count": 17,
   "id": "dd7a6b19",
   "metadata": {
    "ExecuteTime": {
     "end_time": "2021-10-12T10:08:59.555778Z",
     "start_time": "2021-10-12T10:08:59.555766Z"
    },
    "hidden": true
   },
   "outputs": [],
   "source": [
    "# bc4 = [50.75328904, -1.55764306]\n",
    "# bc4_x, bc4_y = ll2coord(bc4[0],bc4[1])\n",
    "# bc4_xy = np.array([bc4_x,bc4_y])\n",
    "# print(bc4)\n",
    "# print(bc4_xy)"
   ]
  },
  {
   "cell_type": "code",
   "execution_count": 18,
   "id": "6178279b",
   "metadata": {
    "ExecuteTime": {
     "end_time": "2021-10-12T10:08:59.557397Z",
     "start_time": "2021-10-12T10:08:59.557380Z"
    },
    "hidden": true
   },
   "outputs": [],
   "source": [
    "# d = np.linalg.norm\n",
    "# df_indiv['d'] = d(df_indiv[['xcoords','ycoords']]-bc4_xy,axis=1)\n",
    "# mind = df_indiv['d'].idxmin()\n",
    "# print(mind)\n",
    "# bc4_house = int(df_indiv.iloc[mind]['house_no'])\n",
    "# print(bc4_house)"
   ]
  },
  {
   "cell_type": "code",
   "execution_count": 19,
   "id": "9f99ce6e",
   "metadata": {
    "ExecuteTime": {
     "end_time": "2021-10-12T10:08:59.559268Z",
     "start_time": "2021-10-12T10:08:59.559255Z"
    },
    "hidden": true
   },
   "outputs": [],
   "source": []
  },
  {
   "cell_type": "code",
   "execution_count": 20,
   "id": "9a4ffc71",
   "metadata": {
    "ExecuteTime": {
     "end_time": "2021-10-12T10:08:59.560839Z",
     "start_time": "2021-10-12T10:08:59.560826Z"
    },
    "hidden": true,
    "scrolled": true
   },
   "outputs": [],
   "source": [
    "# Lockdowned(model)"
   ]
  },
  {
   "cell_type": "code",
   "execution_count": 21,
   "id": "d46a3b4b",
   "metadata": {
    "ExecuteTime": {
     "end_time": "2021-10-12T10:08:59.562617Z",
     "start_time": "2021-10-12T10:08:59.562604Z"
    },
    "hidden": true
   },
   "outputs": [],
   "source": [
    "# bc4_indivs[-1]"
   ]
  },
  {
   "cell_type": "code",
   "execution_count": 22,
   "id": "c9bbaa1d",
   "metadata": {
    "ExecuteTime": {
     "end_time": "2021-10-12T10:08:59.564695Z",
     "start_time": "2021-10-12T10:08:59.564674Z"
    },
    "hidden": true
   },
   "outputs": [],
   "source": [
    "# RadiusIndividual(model,bc4_xy,.00001)"
   ]
  },
  {
   "cell_type": "code",
   "execution_count": 23,
   "id": "8534b698",
   "metadata": {
    "ExecuteTime": {
     "end_time": "2021-10-12T10:08:59.565950Z",
     "start_time": "2021-10-12T10:08:59.565937Z"
    },
    "hidden": true
   },
   "outputs": [],
   "source": [
    "ev = [50.74722149271622, -1.5903702505310746]"
   ]
  },
  {
   "cell_type": "code",
   "execution_count": 24,
   "id": "0009607b",
   "metadata": {
    "ExecuteTime": {
     "end_time": "2021-10-12T10:08:59.567677Z",
     "start_time": "2021-10-12T10:08:59.567663Z"
    },
    "hidden": true
   },
   "outputs": [
    {
     "data": {
      "text/plain": [
       "[51.44930034, -2.61915242]"
      ]
     },
     "execution_count": 24,
     "metadata": {},
     "output_type": "execute_result"
    }
   ],
   "source": [
    "bc4"
   ]
  },
  {
   "cell_type": "code",
   "execution_count": 25,
   "id": "362c1b6e",
   "metadata": {
    "ExecuteTime": {
     "end_time": "2021-10-12T10:08:59.569517Z",
     "start_time": "2021-10-12T10:08:59.569504Z"
    },
    "hidden": true
   },
   "outputs": [
    {
     "data": {
      "text/plain": [
       "0.021738336545536988"
      ]
     },
     "execution_count": 25,
     "metadata": {},
     "output_type": "execute_result"
    }
   ],
   "source": [
    "r2halfkm = np.linalg.norm(np.array(ll2coord(bc4[0],bc4[1]))-np.array(ll2coord(ev[0],ev[1]))) #3.5km\n",
    "r2halfkm"
   ]
  },
  {
   "cell_type": "code",
   "execution_count": 26,
   "id": "c4f379b2",
   "metadata": {
    "ExecuteTime": {
     "end_time": "2021-10-12T10:08:59.570987Z",
     "start_time": "2021-10-12T10:08:59.570971Z"
    },
    "hidden": true
   },
   "outputs": [
    {
     "data": {
      "text/plain": [
       "620000"
      ]
     },
     "execution_count": 26,
     "metadata": {},
     "output_type": "execute_result"
    }
   ],
   "source": [
    "len(RadiusIndividual(bristol_model,bc4_xy,r2halfkm))"
   ]
  },
  {
   "cell_type": "code",
   "execution_count": 28,
   "id": "8b69f3fd",
   "metadata": {
    "ExecuteTime": {
     "end_time": "2021-10-12T10:08:59.608021Z",
     "start_time": "2021-10-12T10:08:59.608009Z"
    },
    "hidden": true
   },
   "outputs": [],
   "source": [
    "# # GIF without local lockdown\n",
    "# model = ImperialNetwork()\n",
    "# for i in bc4_indivs:\n",
    "#     model.seed_infect_by_idx(i)\n",
    "# RunSim(model,n=64)"
   ]
  },
  {
   "cell_type": "code",
   "execution_count": 42,
   "id": "d5131658",
   "metadata": {
    "ExecuteTime": {
     "end_time": "2021-10-12T10:08:59.612176Z",
     "start_time": "2021-10-12T10:08:59.612159Z"
    },
    "hidden": true
   },
   "outputs": [],
   "source": [
    "# # GIF WITH local lockdown\n",
    "# def lockdownGIF(input_model_path, gif_out = '../../NetworkData/')\n",
    "    \n",
    "#     model = ImperialNetwork(input_model_path)\n",
    "#     for i in bc4_indivs:\n",
    "#         model.seed_infect_by_idx(i)\n",
    "#     RunSim(model,out_dir=gif_out,n=6)\n",
    "#     LockdownInRadius(model,bc4_xy,r2halfkm*2,n=21)\n",
    "#     RunSim(model,out_dir=gif_out,n=64-6)"
   ]
  },
  {
   "cell_type": "code",
   "execution_count": 31,
   "id": "c8666041",
   "metadata": {},
   "outputs": [],
   "source": [
    "### Following Cells are For Plotting from the Extended Output notebook ###"
   ]
  },
  {
   "cell_type": "markdown",
   "id": "0728ff36",
   "metadata": {},
   "source": [
    "# Time series <a class=\"anchor\" id=\"time-series\"></a>\n",
    "[[Home](#home)]\n",
    "\n",
    "Plot the epidemic trajectory and other outputs from the time series file for a single parameter set.  "
   ]
  },
  {
   "cell_type": "code",
   "execution_count": 32,
   "id": "c3da5924",
   "metadata": {
    "scrolled": true
   },
   "outputs": [
    {
     "data": {
      "image/png": "[encoded data removed]",
      "text/plain": [
       "<Figure size 1008x864 with 4 Axes>"
      ]
     },
     "metadata": {
      "needs_background": "light"
     },
     "output_type": "display_data"
    }
   ],
   "source": [
    "# bristol\n",
    "plt.rcParams['figure.figsize'] = [14, 12]\n",
    "fig, ax = plotting.plot_timeseries_curves(bristol_df_timeseries, xlimits = [0, 120])"
   ]
  },
  {
   "cell_type": "code",
   "execution_count": 33,
   "id": "78263452",
   "metadata": {},
   "outputs": [
    {
     "data": {
      "image/png": "[encoded data removed]",
      "text/plain": [
       "<Figure size 1008x864 with 4 Axes>"
      ]
     },
     "metadata": {
      "needs_background": "light"
     },
     "output_type": "display_data"
    }
   ],
   "source": [
    "# mdm\n",
    "plt.rcParams['figure.figsize'] = [14, 12]\n",
    "fig, ax = plotting.plot_timeseries_curves(mdm_df_timeseries, xlimits = [0, 120])"
   ]
  },
  {
   "cell_type": "code",
   "execution_count": 34,
   "id": "e1b09a15",
   "metadata": {},
   "outputs": [],
   "source": [
    "from COVID19.model import AgeGroupEnum, EVENT_TYPES, TransmissionTypeEnum, OccupationNetworkEnum\n",
    "\n",
    "interaction_types = [c.value for c in TransmissionTypeEnum ]\n",
    "interaction_labels = [c.name[1:].title() for c in TransmissionTypeEnum]"
   ]
  },
  {
   "cell_type": "code",
   "execution_count": 39,
   "id": "eada899c",
   "metadata": {},
   "outputs": [
    {
     "data": {
      "image/png": "[encoded data removed]",
      "text/plain": [
       "<Figure size 1008x720 with 1 Axes>"
      ]
     },
     "metadata": {
      "needs_background": "light"
     },
     "output_type": "display_data"
    }
   ],
   "source": [
    "plt.rcParams['figure.figsize'] = [14, 10]\n",
    "# Count interactions for each individual by \"type\" of interaction\n",
    "df_agg = bristol_df_interact.groupby([\"ID_1\", \"type\"])[\"ID_1\"].count().reset_index(name = \"count\")\n",
    "\n",
    "# Plot histogram of interaction by network type\n",
    "fig, ax = plotting.plot_hist_by_group(df_agg, groupvar = \"type\", binvar = \"count\", \n",
    "    groups = interaction_types, bins = 25, group_colours = plotting.network_colours, \n",
    "    group_labels = interaction_labels, \n",
    "    xlabel = \"Number of daily connections\", \n",
    "    title = \"Bristol Number of daily interactions by network type\", \n",
    "    legend_title = \"Network type\")"
   ]
  },
  {
   "cell_type": "code",
   "execution_count": 38,
   "id": "2b23b8dd",
   "metadata": {},
   "outputs": [
    {
     "data": {
      "image/png": "[encoded data removed]",
      "text/plain": [
       "<Figure size 1008x720 with 1 Axes>"
      ]
     },
     "metadata": {
      "needs_background": "light"
     },
     "output_type": "display_data"
    }
   ],
   "source": [
    "plt.rcParams['figure.figsize'] = [14, 10]\n",
    "# Count interactions for each individual by \"type\" of interaction\n",
    "df_agg = mdm_df_interact.groupby([\"ID_1\", \"type\"])[\"ID_1\"].count().reset_index(name = \"count\")\n",
    "\n",
    "# Plot histogram of interaction by network type\n",
    "fig, ax = plotting.plot_hist_by_group(df_agg, groupvar = \"type\", binvar = \"count\", \n",
    "    groups = interaction_types, bins = 25, group_colours = plotting.network_colours, \n",
    "    group_labels = interaction_labels, \n",
    "    xlabel = \"Number of daily connections\", \n",
    "    title = \"MDM Number of daily interactions by network type\", \n",
    "    legend_title = \"Network type\")"
   ]
  },
  {
   "cell_type": "code",
   "execution_count": null,
   "id": "2dfbdec0",
   "metadata": {},
   "outputs": [],
   "source": []
  },
  {
   "cell_type": "code",
   "execution_count": null,
   "id": "5eb069b8",
   "metadata": {},
   "outputs": [],
   "source": []
  },
  {
   "cell_type": "code",
   "execution_count": null,
   "id": "5045046b",
   "metadata": {},
   "outputs": [],
   "source": []
  },
  {
   "cell_type": "code",
   "execution_count": null,
   "id": "4c2c58b2",
   "metadata": {},
   "outputs": [],
   "source": []
  }
 ],
 "metadata": {
  "kernelspec": {
   "display_name": "Python 3 (ipykernel)",
   "language": "python",
   "name": "python3"
  },
  "language_info": {
   "codemirror_mode": {
    "name": "ipython",
    "version": 3
   },
   "file_extension": ".py",
   "mimetype": "text/x-python",
   "name": "python",
   "nbconvert_exporter": "python",
   "pygments_lexer": "ipython3",
   "version": "3.9.7"
  },
  "latex_envs": {
   "LaTeX_envs_menu_present": true,
   "autoclose": false,
   "autocomplete": true,
   "bibliofile": "biblio.bib",
   "cite_by": "apalike",
   "current_citInitial": 1,
   "eqLabelWithNumbers": true,
   "eqNumInitial": 1,
   "hotkeys": {
    "equation": ""
   },
   "labels_anchors": false,
   "latex_user_defs": false,
   "report_style_numbering": false,
   "user_envs_cfg": false
  },
  "toc": {
   "base_numbering": 1,
   "nav_menu": {},
   "number_sections": true,
   "sideBar": true,
   "skip_h1_title": false,
   "title_cell": "Table of Contents",
   "title_sidebar": "Contents",
   "toc_cell": false,
   "toc_position": {},
   "toc_section_display": true,
   "toc_window_display": false
  }
 },
 "nbformat": 4,
 "nbformat_minor": 5
}
