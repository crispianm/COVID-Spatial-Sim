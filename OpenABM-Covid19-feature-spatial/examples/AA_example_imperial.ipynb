{
 "cells": [
  {
   "cell_type": "markdown",
   "id": "922fc926",
   "metadata": {
    "heading_collapsed": true
   },
   "source": [
    "# Preliminaries"
   ]
  },
  {
   "cell_type": "markdown",
   "id": "f402692d",
   "metadata": {
    "hidden": true
   },
   "source": [
    "## Libraries"
   ]
  },
  {
   "cell_type": "code",
   "execution_count": 1,
   "id": "f57f3045",
   "metadata": {},
   "outputs": [],
   "source": [
    "import sys\n",
    "sys.path = ['', '/home/linuxbrew/.linuxbrew/Cellar/python@3.9/3.9.7_1/lib/python39.zip', '/home/linuxbrew/.linuxbrew/Cellar/python@3.9/3.9.7_1/lib/python3.9', '/home/linuxbrew/.linuxbrew/Cellar/python@3.9/3.9.7_1/lib/python3.9/lib-dynload', '/home/linuxbrew/.linuxbrew/Cellar/python@3.9/3.9.7_1/lib/python3.9/site-packages', '/mnt/c/Users/crisp/Desktop/MDM3/OpenABM-Covid19-feature-spatial/src']"
   ]
  },
  {
   "cell_type": "code",
   "execution_count": 2,
   "id": "c67af068",
   "metadata": {
    "ExecuteTime": {
     "end_time": "2021-10-12T10:08:33.844747Z",
     "start_time": "2021-10-12T10:08:32.081995Z"
    },
    "hidden": true,
    "scrolled": true
   },
   "outputs": [],
   "source": [
    "%matplotlib inline\n",
    "from os.path import join\n",
    "from IPython.core.display import display, HTML\n",
    "import plotting\n",
    "\n",
    "import example_utils as utils\n",
    "import pandas as pd\n",
    "import os\n",
    "import numpy as np\n",
    "import matplotlib.pyplot as plt\n",
    "from tqdm.notebook import tqdm\n",
    "import networkx as nx\n",
    "import ipywidgets"
   ]
  },
  {
   "cell_type": "markdown",
   "id": "8cf938ed",
   "metadata": {
    "ExecuteTime": {
     "end_time": "2021-09-17T14:41:19.681042Z",
     "start_time": "2021-09-17T14:41:19.674783Z"
    },
    "hidden": true
   },
   "source": [
    "## Hadean Colour scheme\n",
    "But feel free to choose your own."
   ]
  },
  {
   "cell_type": "code",
   "execution_count": 3,
   "id": "6051cb68",
   "metadata": {
    "ExecuteTime": {
     "end_time": "2021-10-12T10:08:33.939608Z",
     "start_time": "2021-10-12T10:08:33.934592Z"
    },
    "hidden": true
   },
   "outputs": [],
   "source": [
    "# Hadean colour scheme\n",
    "hadeanOrange = '#FF9448'\n",
    "hadeanIndigo = '#27203B'\n",
    "hadeanCoral = '#FF5C37'\n",
    "hadeanCopper = '#D66444'\n",
    "uranianBlue = '#AFDBF5'"
   ]
  },
  {
   "cell_type": "code",
   "execution_count": 4,
   "id": "b0a17725",
   "metadata": {
    "ExecuteTime": {
     "end_time": "2021-10-12T10:08:33.949757Z",
     "start_time": "2021-10-12T10:08:33.942407Z"
    },
    "hidden": true
   },
   "outputs": [],
   "source": [
    "def AddTransparency(c,a):\n",
    "    b = format(max(int(255*a),0),'02X')\n",
    "    return c+str(b[-2:])"
   ]
  },
  {
   "cell_type": "markdown",
   "id": "f92ca7ab",
   "metadata": {
    "hidden": true
   },
   "source": [
    "## Chris' Imperial functions"
   ]
  },
  {
   "cell_type": "code",
   "execution_count": 5,
   "id": "0db37aed",
   "metadata": {
    "ExecuteTime": {
     "end_time": "2021-10-12T10:08:33.960922Z",
     "start_time": "2021-10-12T10:08:33.951794Z"
    },
    "hidden": true
   },
   "outputs": [],
   "source": [
    "def convert_imperial_network_edges_to_oxford_network_edges(network_data):\n",
    "    network_data.rename(columns = {'a.index': 'ID_1', 'b.index': 'ID_2'}, inplace=True)\n",
    "    return network_data\n",
    "\n",
    "def convert_imperial_node_data_to_oxford_node_data(person_node_data, index_to_label_network_with):\n",
    "    person_node_data.rename(columns = {'index': 'ID',\n",
    "                                       'household.index': 'house_no',\n",
    "                                       'age': 'age_group',\n",
    "                                       'coord.x': 'x',\n",
    "                                       'coord.y': 'y'}, inplace=True)\n",
    "\n",
    "    person_node_data['network_no'] = (np.zeros(len(person_node_data)) + index_to_label_network_with)\n",
    "\n",
    "    # Convert the age to age group (the decade age group of the person and is an integer between 0 (0-9 years) and 8 (80+).)\n",
    "    person_node_data['age_group'] = person_node_data['age_group'].apply(lambda x: int(x / 10))\n",
    "\n",
    "    #print(person_node_data) # CA remove\n",
    "\n",
    "    return person_node_data"
   ]
  },
  {
   "cell_type": "markdown",
   "id": "da096abd",
   "metadata": {
    "ExecuteTime": {
     "end_time": "2021-09-27T18:08:45.958625Z",
     "start_time": "2021-09-27T18:08:45.955890Z"
    },
    "hidden": true
   },
   "source": [
    "## Very-much-draft Coordinate functions"
   ]
  },
  {
   "cell_type": "code",
   "execution_count": 6,
   "id": "e8fbc6b3",
   "metadata": {
    "ExecuteTime": {
     "end_time": "2021-10-12T10:08:33.974738Z",
     "start_time": "2021-10-12T10:08:33.963265Z"
    },
    "hidden": true
   },
   "outputs": [],
   "source": [
    "def coord2ll(x,y):\n",
    "    return np.array([y,x]) * 57.2957795131\n",
    "\n",
    "def ll2coord(long,lat):\n",
    "    return np.array([lat,long]) / 57.2957795131\n"
   ]
  },
  {
   "cell_type": "markdown",
   "id": "d26096c5",
   "metadata": {
    "hidden": true
   },
   "source": [
    "## Load Networks"
   ]
  },
  {
   "cell_type": "code",
   "execution_count": 7,
   "id": "c5e06a1e",
   "metadata": {
    "ExecuteTime": {
     "end_time": "2021-10-12T10:08:33.988378Z",
     "start_time": "2021-10-12T10:08:33.976977Z"
    },
    "hidden": true
   },
   "outputs": [],
   "source": [
    "##########################\n",
    "# Load Network Functions #\n",
    "##########################\n",
    "\n",
    "# Take path of _nodes.csv\n",
    "def LoadDemographics(demoPath):\n",
    "    df_household_demographics = pd.read_csv(demoPath, comment=\"#\", sep=\",\", skipinitialspace=True)\n",
    "    # Converting we use network_no=0, as that's for household network\n",
    "    df_household_demographics = convert_imperial_node_data_to_oxford_node_data(df_household_demographics,0)\n",
    "    return df_household_demographics\n",
    "\n",
    "def CoordsFromDemo(df_household_demographics):\n",
    "    df_coordinates = df_household_demographics.rename(columns={'x':'xcoords','y':'ycoords'})[['ID','xcoords','ycoords']]\n",
    "    return df_coordinates\n",
    "\n",
    "def LoadOccupationNetworks(projPath,prefix='bristol'):\n",
    "    ocNetworksArcs_df_dict = {}\n",
    "    ocNetworksArcs_colNames = ['ID_1','a.x','a.y','ID_2','b.x','b.y']\n",
    "    network_name = np.array(['primary', 'secondary', 'general_workforce', 'retired', 'elderly'])\n",
    "\n",
    "    # Can find network assignment by the a.index for each _i_arcs.csv\n",
    "    for i,x in enumerate(tqdm(network_name)):\n",
    "        print([i,x])\n",
    "        ocNetworksArcs_df_dict[x] = pd.read_csv(projPath+'/'+prefix+\"_\"+str(i)+\"_arcs.csv\", comment=\"#\", sep=\",\", skipinitialspace=True)\n",
    "        ocNetworksArcs_df_dict[x].columns = ocNetworksArcs_colNames\n",
    "    \n",
    "    return ocNetworksArcs_df_dict\n",
    "\n",
    "###################\n",
    "# Parameter stuff #\n",
    "###################\n",
    "\n",
    "def LoadParams(df_household_demographics,params=None):\n",
    "    if params == None:\n",
    "        params = utils.get_baseline_parameters()\n",
    "    n_total = len(df_household_demographics[\"ID\"])\n",
    "    params.set_param(\"n_total\",n_total)\n",
    "    params.set_demographic_household_table(df_household_demographics)\n",
    "    return params\n",
    "\n",
    "def LoadNetworks(model,ocNetworksArcs_df_dict,daily_fration=0.5):\n",
    "    for i,net in enumerate(ocNetworksArcs_df_dict):\n",
    "        model.delete_network(model.get_network_by_id(i+2))\n",
    "        model.add_user_network(ocNetworksArcs_df_dict[net],name=net,daily_fraction=daily_fration)\n",
    "\n",
    "def ImperialNetwork(netPath,n_infect=10,prefix='bristol'):\n",
    "    df_household_demographics = LoadDemographics(netPath+'/'+prefix+'_0_nodes.csv')\n",
    "    df_coordinates = CoordsFromDemo(df_household_demographics)\n",
    "    ocNetworksArcs_df_dict = LoadOccupationNetworks(netPath)\n",
    "    params = LoadParams(df_household_demographics)\n",
    "    params.set_param(\"n_seed_infection\",n_infect)\n",
    "    # Added parameters\n",
    "    params.set_param('relative_transmission_random',0)\n",
    "\n",
    "    model = utils.get_simulation( params ).env.model\n",
    "    model.assign_coordinates_individuals(df_coordinates)\n",
    "    LoadNetworks(model,ocNetworksArcs_df_dict)\n",
    "    return model"
   ]
  },
  {
   "cell_type": "markdown",
   "id": "e42d3cb5",
   "metadata": {
    "heading_collapsed": true
   },
   "source": [
    "# Visualise Network"
   ]
  },
  {
   "cell_type": "code",
   "execution_count": 8,
   "id": "c9a80e08",
   "metadata": {
    "ExecuteTime": {
     "end_time": "2021-10-12T10:08:33.999872Z",
     "start_time": "2021-10-12T10:08:33.990716Z"
    },
    "hidden": true
   },
   "outputs": [],
   "source": [
    "# statuses2Track = [1,2,3,4,5,6,7,8,20] # In model.py, v. difficult to find\n",
    "# statuses2Track = [4,5]\n",
    "\n",
    "# def Infected(model):\n",
    "#     x = model.get_individuals()\n",
    "#     x = x.loc[x['current_status'].isin(statuses2Track)]\n",
    "#     return list(x['ID'])"
   ]
  },
  {
   "cell_type": "code",
   "execution_count": 9,
   "id": "48ddff6f",
   "metadata": {
    "ExecuteTime": {
     "end_time": "2021-10-12T10:08:34.009696Z",
     "start_time": "2021-10-12T10:08:34.002249Z"
    },
    "hidden": true
   },
   "outputs": [],
   "source": [
    "# # scarrily current_status does not seem to change when quarantined\n",
    "# def Lockdowned(model):\n",
    "#     x = model.get_individuals()\n",
    "#     x = x.loc[x['quarantined'] == 1]\n",
    "#     return list(x['ID'])"
   ]
  },
  {
   "cell_type": "code",
   "execution_count": 10,
   "id": "506fb7f7",
   "metadata": {
    "ExecuteTime": {
     "end_time": "2021-10-12T10:08:34.491501Z",
     "start_time": "2021-10-12T10:08:34.015358Z"
    },
    "hidden": true
   },
   "outputs": [],
   "source": [
    "# def VisualiseNetwork(model,ax,aNode = 1/2**7,aEdge = 1/2**7):\n",
    "#     nodes = model.get_individuals()\n",
    "#     nodes_pos = {nodes['ID'][i]:[nodes['xcoords'][i],nodes['ycoords'][i]] for i in range(len(nodes))}\n",
    "#     infected = Infected(model)\n",
    "#     #quarantined = Lockdowned(model)\n",
    "#     g = nx.Graph()\n",
    "#     #g = nx.from_pandas_edgelist(ocNetworksArcs_df_dict['primary'],'ID_1','ID_2',create_using=nx.Graph())\n",
    "#     g.add_nodes_from(nodes['ID'])\n",
    "#     g_infected = nx.subgraph(g,infected)\n",
    "#     #g_quarantined = nx.subgraph(g,quarantined)\n",
    "#     #f,ax = plt.subplots(figsize=(20,10))\n",
    "#     nx.draw(g,pos=nodes_pos,node_size=5,edge_color=AddTransparency(hadeanOrange,aEdge),node_color=AddTransparency(hadeanIndigo,aNode),ax=ax)\n",
    "#     #nx.draw_networkx_nodes(g_quarantined,pos=nodes_pos,node_size=5,node_color=AddTransparency(uranianBlue,0.02),ax=ax)\n",
    "#     nx.draw_networkx_nodes(g_infected,pos=nodes_pos,node_size=5,node_color=AddTransparency(hadeanOrange,0.9),ax=ax)"
   ]
  },
  {
   "cell_type": "code",
   "execution_count": 20,
   "id": "7a3b5f8a",
   "metadata": {
    "ExecuteTime": {
     "end_time": "2021-10-12T10:08:59.357020Z",
     "start_time": "2021-10-12T10:08:34.497444Z"
    },
    "hidden": true,
    "scrolled": true
   },
   "outputs": [
    {
     "data": {
      "application/vnd.jupyter.widget-view+json": {
       "model_id": "2fe1d5f5d259430ca8e35a9e7ebf0245",
       "version_major": 2,
       "version_minor": 0
      },
      "text/plain": [
       "  0%|          | 0/5 [00:00<?, ?it/s]"
      ]
     },
     "metadata": {},
     "output_type": "display_data"
    },
    {
     "name": "stdout",
     "output_type": "stream",
     "text": [
      "[0, 'primary']\n",
      "[1, 'secondary']\n",
      "[2, 'general_workforce']\n",
      "[3, 'retired']\n",
      "[4, 'elderly']\n"
     ]
    }
   ],
   "source": [
    "# net_dir = \"../../id_spatial_sim/scenarios/mdm3_scenario/output/networks\"\n",
    "# model = ImperialNetwork(net_dir)\n",
    "# f,ax = plt.subplots(figsize=(20,10))\n",
    "# VisualiseNetwork(model,ax)"
   ]
  },
  {
   "cell_type": "code",
   "execution_count": 21,
   "id": "6ac3f468",
   "metadata": {
    "ExecuteTime": {
     "end_time": "2021-10-12T10:14:50.479718Z",
     "start_time": "2021-10-12T10:14:50.475760Z"
    },
    "hidden": true
   },
   "outputs": [],
   "source": [
    "n = 128\n",
    "aNode = 1/2**7\n",
    "aEdge = 1/2**7\n",
    "gif_out = '../../NetworkData/'"
   ]
  },
  {
   "cell_type": "code",
   "execution_count": 22,
   "id": "e293ec09",
   "metadata": {
    "ExecuteTime": {
     "end_time": "2021-10-12T10:14:53.130643Z",
     "start_time": "2021-10-12T10:14:50.718942Z"
    },
    "hidden": true
   },
   "outputs": [],
   "source": [
    "from matplotlib.lines import Line2D\n",
    "\n",
    "# Run several time-steps and produce many PNGs to be converted to a GIF\n",
    "def RunSim(model,out_dir=gif_out,n=64,title_text='Spread of COVID-19 on an artificial network of Bristol'):\n",
    "    for i in tqdm(range(n)):\n",
    "        f,ax = plt.subplots(figsize=(20,10))\n",
    "        t = model.one_time_step_results()['time']\n",
    "#         VisualiseNetwork(model,ax)\n",
    "        plt.title(title_text,fontsize=32)\n",
    "        agentPatch = Line2D([0],[0],marker='o',linestyle='none',color=AddTransparency(hadeanIndigo,aNode),label='Agent')\n",
    "        conPatch = Line2D([0],[0],marker='o',linestyle='none',color=AddTransparency(hadeanOrange,0.9),label='Contagious')\n",
    "        lg1 = plt.legend(handles=[agentPatch,conPatch],fontsize=16)\n",
    "        text = \"Time = \"+\"{:04d}\".format(t)\n",
    "        textPatch = Line2D([0],[0],linestyle='none',label=text)\n",
    "        ax.legend(handles=[textPatch],loc='lower left',frameon=False)\n",
    "        ax.add_artist(lg1)\n",
    "        print(out_dir+\"{:04d}\".format(t)+'.png')\n",
    "        f.savefig(out_dir+\"{:04d}\".format(t)+'.png')\n",
    "        model.one_time_step()\n",
    "        ax.clear()\n",
    "        plt.clf()\n",
    "    \n",
    "# Then use a `convert ./out_dir/*.png ./net.gif` from terminal"
   ]
  },
  {
   "cell_type": "markdown",
   "id": "69370dd6",
   "metadata": {
    "heading_collapsed": true
   },
   "source": [
    "# Seeding\n",
    "For the New Forest."
   ]
  },
  {
   "cell_type": "code",
   "execution_count": 23,
   "id": "9b51e861",
   "metadata": {
    "ExecuteTime": {
     "end_time": "2021-10-12T10:08:59.540385Z",
     "start_time": "2021-10-12T10:08:59.540370Z"
    },
    "hidden": true
   },
   "outputs": [
    {
     "name": "stdout",
     "output_type": "stream",
     "text": [
      "[-0.027185999967831196, 0.8858119999640787]\n"
     ]
    }
   ],
   "source": [
    "# replace bc4 with the coords of your desired location\n",
    "long,lat = coord2ll(1.0,-.1)\n",
    "x,y = ll2coord(long,lat)\n",
    "bc4 = [50.75328904, -1.55764306]\n",
    "bc4_x, bc4_y = ll2coord(bc4[0],bc4[1])\n",
    "bc4_xy = np.array([bc4_x,bc4_y])\n",
    "print([bc4_x, bc4_y])"
   ]
  },
  {
   "cell_type": "code",
   "execution_count": 24,
   "id": "3209586d",
   "metadata": {
    "ExecuteTime": {
     "end_time": "2021-10-12T10:08:59.541961Z",
     "start_time": "2021-10-12T10:08:59.541948Z"
    },
    "hidden": true
   },
   "outputs": [
    {
     "data": {
      "application/vnd.jupyter.widget-view+json": {
       "model_id": "a70bf3fc38db45fb95a25c836b6b5b39",
       "version_major": 2,
       "version_minor": 0
      },
      "text/plain": [
       "  0%|          | 0/5 [00:00<?, ?it/s]"
      ]
     },
     "metadata": {},
     "output_type": "display_data"
    },
    {
     "name": "stdout",
     "output_type": "stream",
     "text": [
      "[0, 'primary']\n",
      "[1, 'secondary']\n",
      "[2, 'general_workforce']\n",
      "[3, 'retired']\n",
      "[4, 'elderly']\n"
     ]
    }
   ],
   "source": [
    "model = ImperialNetwork(net_dir)\n",
    "df_indiv = model.get_individuals()"
   ]
  },
  {
   "cell_type": "code",
   "execution_count": 25,
   "id": "b3f67379",
   "metadata": {
    "scrolled": true
   },
   "outputs": [],
   "source": [
    "# print(df_indiv)"
   ]
  },
  {
   "cell_type": "code",
   "execution_count": 26,
   "id": "189c3f65",
   "metadata": {
    "ExecuteTime": {
     "end_time": "2021-10-12T10:08:59.543222Z",
     "start_time": "2021-10-12T10:08:59.543209Z"
    },
    "hidden": true
   },
   "outputs": [],
   "source": [
    "d = np.linalg.norm\n",
    "df_indiv['d'] = d(df_indiv[['xcoords','ycoords']]-bc4_xy,axis=1)"
   ]
  },
  {
   "cell_type": "code",
   "execution_count": 27,
   "id": "0a18ad85",
   "metadata": {
    "ExecuteTime": {
     "end_time": "2021-10-12T10:08:59.545271Z",
     "start_time": "2021-10-12T10:08:59.545258Z"
    },
    "hidden": true
   },
   "outputs": [
    {
     "name": "stdout",
     "output_type": "stream",
     "text": [
      "406312\n",
      "ID                    406312.000000\n",
      "current_status             0.000000\n",
      "age_group                  6.000000\n",
      "occupation_network         2.000000\n",
      "house_no              169515.000000\n",
      "infection_count            0.000000\n",
      "vaccine_status             0.000000\n",
      "xcoords                   -0.044030\n",
      "ycoords                    0.897563\n",
      "d                          0.020538\n",
      "Name: 406312, dtype: float64\n",
      "[51.42657064 -2.52273314]\n"
     ]
    }
   ],
   "source": [
    "mind = df_indiv['d'].idxmin()\n",
    "print(mind)\n",
    "bc4_house = int(df_indiv.iloc[mind]['house_no'])\n",
    "print(df_indiv.iloc[mind])\n",
    "print(coord2ll(df_indiv.iloc[mind]['xcoords'],df_indiv.iloc[mind]['ycoords']))"
   ]
  },
  {
   "cell_type": "code",
   "execution_count": 28,
   "id": "e4f24861",
   "metadata": {
    "ExecuteTime": {
     "end_time": "2021-10-12T10:08:59.546414Z",
     "start_time": "2021-10-12T10:08:59.546392Z"
    },
    "hidden": true
   },
   "outputs": [
    {
     "data": {
      "text/plain": [
       "array([51.42657064, -2.52273314])"
      ]
     },
     "execution_count": 28,
     "metadata": {},
     "output_type": "execute_result"
    }
   ],
   "source": [
    "coord2ll(df_indiv.iloc[mind]['xcoords'],df_indiv.iloc[mind]['ycoords'])"
   ]
  },
  {
   "cell_type": "code",
   "execution_count": 29,
   "id": "b044f541",
   "metadata": {
    "ExecuteTime": {
     "end_time": "2021-10-12T10:08:59.548282Z",
     "start_time": "2021-10-12T10:08:59.548267Z"
    },
    "hidden": true
   },
   "outputs": [
    {
     "data": {
      "text/html": [
       "<div>\n",
       "<style scoped>\n",
       "    .dataframe tbody tr th:only-of-type {\n",
       "        vertical-align: middle;\n",
       "    }\n",
       "\n",
       "    .dataframe tbody tr th {\n",
       "        vertical-align: top;\n",
       "    }\n",
       "\n",
       "    .dataframe thead th {\n",
       "        text-align: right;\n",
       "    }\n",
       "</style>\n",
       "<table border=\"1\" class=\"dataframe\">\n",
       "  <thead>\n",
       "    <tr style=\"text-align: right;\">\n",
       "      <th></th>\n",
       "      <th>ID</th>\n",
       "      <th>current_status</th>\n",
       "      <th>age_group</th>\n",
       "      <th>occupation_network</th>\n",
       "      <th>house_no</th>\n",
       "      <th>infection_count</th>\n",
       "      <th>vaccine_status</th>\n",
       "      <th>xcoords</th>\n",
       "      <th>ycoords</th>\n",
       "      <th>d</th>\n",
       "    </tr>\n",
       "  </thead>\n",
       "  <tbody>\n",
       "    <tr>\n",
       "      <th>406312</th>\n",
       "      <td>406312</td>\n",
       "      <td>0</td>\n",
       "      <td>6</td>\n",
       "      <td>2</td>\n",
       "      <td>169515</td>\n",
       "      <td>0</td>\n",
       "      <td>0</td>\n",
       "      <td>-0.04403</td>\n",
       "      <td>0.897563</td>\n",
       "      <td>0.020538</td>\n",
       "    </tr>\n",
       "    <tr>\n",
       "      <th>406313</th>\n",
       "      <td>406313</td>\n",
       "      <td>0</td>\n",
       "      <td>8</td>\n",
       "      <td>4</td>\n",
       "      <td>169515</td>\n",
       "      <td>0</td>\n",
       "      <td>0</td>\n",
       "      <td>-0.04403</td>\n",
       "      <td>0.897563</td>\n",
       "      <td>0.020538</td>\n",
       "    </tr>\n",
       "    <tr>\n",
       "      <th>406314</th>\n",
       "      <td>406314</td>\n",
       "      <td>0</td>\n",
       "      <td>8</td>\n",
       "      <td>4</td>\n",
       "      <td>169515</td>\n",
       "      <td>0</td>\n",
       "      <td>0</td>\n",
       "      <td>-0.04403</td>\n",
       "      <td>0.897563</td>\n",
       "      <td>0.020538</td>\n",
       "    </tr>\n",
       "  </tbody>\n",
       "</table>\n",
       "</div>"
      ],
      "text/plain": [
       "            ID  current_status  age_group  occupation_network  house_no  \\\n",
       "406312  406312               0          6                   2    169515   \n",
       "406313  406313               0          8                   4    169515   \n",
       "406314  406314               0          8                   4    169515   \n",
       "\n",
       "        infection_count  vaccine_status  xcoords   ycoords         d  \n",
       "406312                0               0 -0.04403  0.897563  0.020538  \n",
       "406313                0               0 -0.04403  0.897563  0.020538  \n",
       "406314                0               0 -0.04403  0.897563  0.020538  "
      ]
     },
     "execution_count": 29,
     "metadata": {},
     "output_type": "execute_result"
    }
   ],
   "source": [
    "df_indiv.loc[df_indiv['house_no']==bc4_house]"
   ]
  },
  {
   "cell_type": "code",
   "execution_count": 30,
   "id": "9efeacab",
   "metadata": {
    "ExecuteTime": {
     "end_time": "2021-10-12T10:08:59.550251Z",
     "start_time": "2021-10-12T10:08:59.550238Z"
    },
    "hidden": true
   },
   "outputs": [
    {
     "data": {
      "text/plain": [
       "[406312, 406313, 406314]"
      ]
     },
     "execution_count": 30,
     "metadata": {},
     "output_type": "execute_result"
    }
   ],
   "source": [
    "bc4_indivs = [x for x in list(df_indiv.loc[df_indiv['house_no']==bc4_house]['ID'])]\n",
    "bc4_indivs"
   ]
  },
  {
   "cell_type": "code",
   "execution_count": 31,
   "id": "114411df",
   "metadata": {
    "ExecuteTime": {
     "end_time": "2021-10-12T10:08:59.551178Z",
     "start_time": "2021-10-12T10:08:59.551164Z"
    },
    "hidden": true
   },
   "outputs": [],
   "source": [
    "for i in bc4_indivs:\n",
    "    model.seed_infect_by_idx(i)"
   ]
  },
  {
   "cell_type": "code",
   "execution_count": 32,
   "id": "0bc1a43e",
   "metadata": {
    "ExecuteTime": {
     "end_time": "2021-10-12T10:08:59.552632Z",
     "start_time": "2021-10-12T10:08:59.552618Z"
    },
    "hidden": true,
    "scrolled": true
   },
   "outputs": [],
   "source": [
    "# f,ax = plt.subplots(figsize=(20,10))\n",
    "# VisualiseNetwork(model,ax)"
   ]
  },
  {
   "cell_type": "code",
   "execution_count": 61,
   "id": "fc9f2f00",
   "metadata": {
    "ExecuteTime": {
     "end_time": "2021-10-12T10:08:59.554650Z",
     "start_time": "2021-10-12T10:08:59.554637Z"
    },
    "hidden": true
   },
   "outputs": [
    {
     "data": {
      "application/vnd.jupyter.widget-view+json": {
       "model_id": "eac64b8014f945d2b0100c775db34e1c",
       "version_major": 2,
       "version_minor": 0
      },
      "text/plain": [
       "  0%|          | 0/128 [00:00<?, ?it/s]"
      ]
     },
     "metadata": {},
     "output_type": "display_data"
    },
    {
     "name": "stdout",
     "output_type": "stream",
     "text": [
      "../../NetworkData/0000.png\n",
      "../../NetworkData/0001.png\n",
      "../../NetworkData/0002.png\n",
      "../../NetworkData/0003.png\n",
      "../../NetworkData/0004.png\n",
      "../../NetworkData/0005.png\n",
      "../../NetworkData/0006.png\n",
      "../../NetworkData/0007.png\n",
      "../../NetworkData/0008.png\n",
      "../../NetworkData/0009.png\n",
      "../../NetworkData/0010.png\n",
      "../../NetworkData/0011.png\n",
      "../../NetworkData/0012.png\n",
      "../../NetworkData/0013.png\n",
      "../../NetworkData/0014.png\n",
      "../../NetworkData/0015.png\n",
      "../../NetworkData/0016.png\n",
      "../../NetworkData/0017.png\n",
      "../../NetworkData/0018.png\n",
      "../../NetworkData/0019.png\n"
     ]
    },
    {
     "name": "stderr",
     "output_type": "stream",
     "text": [
      "/tmp/ipykernel_176/3600140910.py:6: RuntimeWarning: More than 20 figures have been opened. Figures created through the pyplot interface (`matplotlib.pyplot.figure`) are retained until explicitly closed and may consume too much memory. (To control this warning, see the rcParam `figure.max_open_warning`).\n",
      "  f,ax = plt.subplots(figsize=(20,10))\n"
     ]
    },
    {
     "name": "stdout",
     "output_type": "stream",
     "text": [
      "../../NetworkData/0020.png\n",
      "../../NetworkData/0021.png\n",
      "../../NetworkData/0022.png\n",
      "../../NetworkData/0023.png\n",
      "../../NetworkData/0024.png\n",
      "../../NetworkData/0025.png\n",
      "../../NetworkData/0026.png\n",
      "../../NetworkData/0027.png\n",
      "../../NetworkData/0028.png\n",
      "../../NetworkData/0029.png\n",
      "../../NetworkData/0030.png\n",
      "../../NetworkData/0031.png\n",
      "../../NetworkData/0032.png\n",
      "../../NetworkData/0033.png\n",
      "../../NetworkData/0034.png\n",
      "../../NetworkData/0035.png\n",
      "../../NetworkData/0036.png\n",
      "../../NetworkData/0037.png\n",
      "../../NetworkData/0038.png\n",
      "../../NetworkData/0039.png\n",
      "../../NetworkData/0040.png\n",
      "../../NetworkData/0041.png\n",
      "../../NetworkData/0042.png\n",
      "../../NetworkData/0043.png\n",
      "../../NetworkData/0044.png\n",
      "../../NetworkData/0045.png\n",
      "../../NetworkData/0046.png\n",
      "../../NetworkData/0047.png\n",
      "../../NetworkData/0048.png\n",
      "../../NetworkData/0049.png\n",
      "../../NetworkData/0050.png\n",
      "../../NetworkData/0051.png\n",
      "../../NetworkData/0052.png\n",
      "../../NetworkData/0053.png\n",
      "../../NetworkData/0054.png\n",
      "../../NetworkData/0055.png\n",
      "../../NetworkData/0056.png\n",
      "../../NetworkData/0057.png\n",
      "../../NetworkData/0058.png\n",
      "../../NetworkData/0059.png\n",
      "../../NetworkData/0060.png\n",
      "../../NetworkData/0061.png\n",
      "../../NetworkData/0062.png\n",
      "../../NetworkData/0063.png\n",
      "../../NetworkData/0064.png\n",
      "../../NetworkData/0065.png\n",
      "../../NetworkData/0066.png\n",
      "../../NetworkData/0067.png\n",
      "../../NetworkData/0068.png\n",
      "../../NetworkData/0069.png\n",
      "../../NetworkData/0070.png\n",
      "../../NetworkData/0071.png\n",
      "../../NetworkData/0072.png\n",
      "../../NetworkData/0073.png\n",
      "../../NetworkData/0074.png\n",
      "../../NetworkData/0075.png\n",
      "../../NetworkData/0076.png\n",
      "../../NetworkData/0077.png\n",
      "../../NetworkData/0078.png\n",
      "../../NetworkData/0079.png\n",
      "../../NetworkData/0080.png\n",
      "../../NetworkData/0081.png\n",
      "../../NetworkData/0082.png\n",
      "../../NetworkData/0083.png\n",
      "../../NetworkData/0084.png\n",
      "../../NetworkData/0085.png\n",
      "../../NetworkData/0086.png\n",
      "../../NetworkData/0087.png\n",
      "../../NetworkData/0088.png\n",
      "../../NetworkData/0089.png\n",
      "../../NetworkData/0090.png\n",
      "../../NetworkData/0091.png\n",
      "../../NetworkData/0092.png\n",
      "../../NetworkData/0093.png\n",
      "../../NetworkData/0094.png\n",
      "../../NetworkData/0095.png\n",
      "../../NetworkData/0096.png\n",
      "../../NetworkData/0097.png\n",
      "../../NetworkData/0098.png\n",
      "../../NetworkData/0099.png\n",
      "../../NetworkData/0100.png\n",
      "../../NetworkData/0101.png\n",
      "../../NetworkData/0102.png\n",
      "../../NetworkData/0103.png\n",
      "../../NetworkData/0104.png\n",
      "../../NetworkData/0105.png\n",
      "../../NetworkData/0106.png\n",
      "../../NetworkData/0107.png\n",
      "../../NetworkData/0108.png\n",
      "../../NetworkData/0109.png\n",
      "../../NetworkData/0110.png\n",
      "../../NetworkData/0111.png\n",
      "../../NetworkData/0112.png\n",
      "../../NetworkData/0113.png\n",
      "../../NetworkData/0114.png\n",
      "../../NetworkData/0115.png\n",
      "../../NetworkData/0116.png\n",
      "../../NetworkData/0117.png\n",
      "../../NetworkData/0118.png\n",
      "../../NetworkData/0119.png\n",
      "../../NetworkData/0120.png\n",
      "../../NetworkData/0121.png\n",
      "../../NetworkData/0122.png\n",
      "../../NetworkData/0123.png\n",
      "../../NetworkData/0124.png\n",
      "../../NetworkData/0125.png\n",
      "../../NetworkData/0126.png\n",
      "../../NetworkData/0127.png\n"
     ]
    },
    {
     "data": {
      "text/plain": [
       "<Figure size 1440x720 with 0 Axes>"
      ]
     },
     "metadata": {},
     "output_type": "display_data"
    },
    {
     "data": {
      "text/plain": [
       "<Figure size 1440x720 with 0 Axes>"
      ]
     },
     "metadata": {},
     "output_type": "display_data"
    },
    {
     "data": {
      "text/plain": [
       "<Figure size 1440x720 with 0 Axes>"
      ]
     },
     "metadata": {},
     "output_type": "display_data"
    },
    {
     "data": {
      "text/plain": [
       "<Figure size 1440x720 with 0 Axes>"
      ]
     },
     "metadata": {},
     "output_type": "display_data"
    },
    {
     "data": {
      "text/plain": [
       "<Figure size 1440x720 with 0 Axes>"
      ]
     },
     "metadata": {},
     "output_type": "display_data"
    },
    {
     "data": {
      "text/plain": [
       "<Figure size 1440x720 with 0 Axes>"
      ]
     },
     "metadata": {},
     "output_type": "display_data"
    },
    {
     "data": {
      "text/plain": [
       "<Figure size 1440x720 with 0 Axes>"
      ]
     },
     "metadata": {},
     "output_type": "display_data"
    },
    {
     "data": {
      "text/plain": [
       "<Figure size 1440x720 with 0 Axes>"
      ]
     },
     "metadata": {},
     "output_type": "display_data"
    },
    {
     "data": {
      "text/plain": [
       "<Figure size 1440x720 with 0 Axes>"
      ]
     },
     "metadata": {},
     "output_type": "display_data"
    },
    {
     "data": {
      "text/plain": [
       "<Figure size 1440x720 with 0 Axes>"
      ]
     },
     "metadata": {},
     "output_type": "display_data"
    },
    {
     "data": {
      "text/plain": [
       "<Figure size 1440x720 with 0 Axes>"
      ]
     },
     "metadata": {},
     "output_type": "display_data"
    },
    {
     "data": {
      "text/plain": [
       "<Figure size 1440x720 with 0 Axes>"
      ]
     },
     "metadata": {},
     "output_type": "display_data"
    },
    {
     "data": {
      "text/plain": [
       "<Figure size 1440x720 with 0 Axes>"
      ]
     },
     "metadata": {},
     "output_type": "display_data"
    },
    {
     "data": {
      "text/plain": [
       "<Figure size 1440x720 with 0 Axes>"
      ]
     },
     "metadata": {},
     "output_type": "display_data"
    },
    {
     "data": {
      "text/plain": [
       "<Figure size 1440x720 with 0 Axes>"
      ]
     },
     "metadata": {},
     "output_type": "display_data"
    },
    {
     "data": {
      "text/plain": [
       "<Figure size 1440x720 with 0 Axes>"
      ]
     },
     "metadata": {},
     "output_type": "display_data"
    },
    {
     "data": {
      "text/plain": [
       "<Figure size 1440x720 with 0 Axes>"
      ]
     },
     "metadata": {},
     "output_type": "display_data"
    },
    {
     "data": {
      "text/plain": [
       "<Figure size 1440x720 with 0 Axes>"
      ]
     },
     "metadata": {},
     "output_type": "display_data"
    },
    {
     "data": {
      "text/plain": [
       "<Figure size 1440x720 with 0 Axes>"
      ]
     },
     "metadata": {},
     "output_type": "display_data"
    },
    {
     "data": {
      "text/plain": [
       "<Figure size 1440x720 with 0 Axes>"
      ]
     },
     "metadata": {},
     "output_type": "display_data"
    },
    {
     "data": {
      "text/plain": [
       "<Figure size 1440x720 with 0 Axes>"
      ]
     },
     "metadata": {},
     "output_type": "display_data"
    },
    {
     "data": {
      "text/plain": [
       "<Figure size 1440x720 with 0 Axes>"
      ]
     },
     "metadata": {},
     "output_type": "display_data"
    },
    {
     "data": {
      "text/plain": [
       "<Figure size 1440x720 with 0 Axes>"
      ]
     },
     "metadata": {},
     "output_type": "display_data"
    },
    {
     "data": {
      "text/plain": [
       "<Figure size 1440x720 with 0 Axes>"
      ]
     },
     "metadata": {},
     "output_type": "display_data"
    },
    {
     "data": {
      "text/plain": [
       "<Figure size 1440x720 with 0 Axes>"
      ]
     },
     "metadata": {},
     "output_type": "display_data"
    },
    {
     "data": {
      "text/plain": [
       "<Figure size 1440x720 with 0 Axes>"
      ]
     },
     "metadata": {},
     "output_type": "display_data"
    },
    {
     "data": {
      "text/plain": [
       "<Figure size 1440x720 with 0 Axes>"
      ]
     },
     "metadata": {},
     "output_type": "display_data"
    },
    {
     "data": {
      "text/plain": [
       "<Figure size 1440x720 with 0 Axes>"
      ]
     },
     "metadata": {},
     "output_type": "display_data"
    },
    {
     "data": {
      "text/plain": [
       "<Figure size 1440x720 with 0 Axes>"
      ]
     },
     "metadata": {},
     "output_type": "display_data"
    },
    {
     "data": {
      "text/plain": [
       "<Figure size 1440x720 with 0 Axes>"
      ]
     },
     "metadata": {},
     "output_type": "display_data"
    },
    {
     "data": {
      "text/plain": [
       "<Figure size 1440x720 with 0 Axes>"
      ]
     },
     "metadata": {},
     "output_type": "display_data"
    },
    {
     "data": {
      "text/plain": [
       "<Figure size 1440x720 with 0 Axes>"
      ]
     },
     "metadata": {},
     "output_type": "display_data"
    },
    {
     "data": {
      "text/plain": [
       "<Figure size 1440x720 with 0 Axes>"
      ]
     },
     "metadata": {},
     "output_type": "display_data"
    },
    {
     "data": {
      "text/plain": [
       "<Figure size 1440x720 with 0 Axes>"
      ]
     },
     "metadata": {},
     "output_type": "display_data"
    },
    {
     "data": {
      "text/plain": [
       "<Figure size 1440x720 with 0 Axes>"
      ]
     },
     "metadata": {},
     "output_type": "display_data"
    },
    {
     "data": {
      "text/plain": [
       "<Figure size 1440x720 with 0 Axes>"
      ]
     },
     "metadata": {},
     "output_type": "display_data"
    },
    {
     "data": {
      "text/plain": [
       "<Figure size 1440x720 with 0 Axes>"
      ]
     },
     "metadata": {},
     "output_type": "display_data"
    },
    {
     "data": {
      "text/plain": [
       "<Figure size 1440x720 with 0 Axes>"
      ]
     },
     "metadata": {},
     "output_type": "display_data"
    },
    {
     "data": {
      "text/plain": [
       "<Figure size 1440x720 with 0 Axes>"
      ]
     },
     "metadata": {},
     "output_type": "display_data"
    },
    {
     "data": {
      "text/plain": [
       "<Figure size 1440x720 with 0 Axes>"
      ]
     },
     "metadata": {},
     "output_type": "display_data"
    },
    {
     "data": {
      "text/plain": [
       "<Figure size 1440x720 with 0 Axes>"
      ]
     },
     "metadata": {},
     "output_type": "display_data"
    },
    {
     "data": {
      "text/plain": [
       "<Figure size 1440x720 with 0 Axes>"
      ]
     },
     "metadata": {},
     "output_type": "display_data"
    },
    {
     "data": {
      "text/plain": [
       "<Figure size 1440x720 with 0 Axes>"
      ]
     },
     "metadata": {},
     "output_type": "display_data"
    },
    {
     "data": {
      "text/plain": [
       "<Figure size 1440x720 with 0 Axes>"
      ]
     },
     "metadata": {},
     "output_type": "display_data"
    },
    {
     "data": {
      "text/plain": [
       "<Figure size 1440x720 with 0 Axes>"
      ]
     },
     "metadata": {},
     "output_type": "display_data"
    },
    {
     "data": {
      "text/plain": [
       "<Figure size 1440x720 with 0 Axes>"
      ]
     },
     "metadata": {},
     "output_type": "display_data"
    },
    {
     "data": {
      "text/plain": [
       "<Figure size 1440x720 with 0 Axes>"
      ]
     },
     "metadata": {},
     "output_type": "display_data"
    },
    {
     "data": {
      "text/plain": [
       "<Figure size 1440x720 with 0 Axes>"
      ]
     },
     "metadata": {},
     "output_type": "display_data"
    },
    {
     "data": {
      "text/plain": [
       "<Figure size 1440x720 with 0 Axes>"
      ]
     },
     "metadata": {},
     "output_type": "display_data"
    },
    {
     "data": {
      "text/plain": [
       "<Figure size 1440x720 with 0 Axes>"
      ]
     },
     "metadata": {},
     "output_type": "display_data"
    },
    {
     "data": {
      "text/plain": [
       "<Figure size 1440x720 with 0 Axes>"
      ]
     },
     "metadata": {},
     "output_type": "display_data"
    },
    {
     "data": {
      "text/plain": [
       "<Figure size 1440x720 with 0 Axes>"
      ]
     },
     "metadata": {},
     "output_type": "display_data"
    },
    {
     "data": {
      "text/plain": [
       "<Figure size 1440x720 with 0 Axes>"
      ]
     },
     "metadata": {},
     "output_type": "display_data"
    },
    {
     "data": {
      "text/plain": [
       "<Figure size 1440x720 with 0 Axes>"
      ]
     },
     "metadata": {},
     "output_type": "display_data"
    },
    {
     "data": {
      "text/plain": [
       "<Figure size 1440x720 with 0 Axes>"
      ]
     },
     "metadata": {},
     "output_type": "display_data"
    },
    {
     "data": {
      "text/plain": [
       "<Figure size 1440x720 with 0 Axes>"
      ]
     },
     "metadata": {},
     "output_type": "display_data"
    },
    {
     "data": {
      "text/plain": [
       "<Figure size 1440x720 with 0 Axes>"
      ]
     },
     "metadata": {},
     "output_type": "display_data"
    },
    {
     "data": {
      "text/plain": [
       "<Figure size 1440x720 with 0 Axes>"
      ]
     },
     "metadata": {},
     "output_type": "display_data"
    },
    {
     "data": {
      "text/plain": [
       "<Figure size 1440x720 with 0 Axes>"
      ]
     },
     "metadata": {},
     "output_type": "display_data"
    },
    {
     "data": {
      "text/plain": [
       "<Figure size 1440x720 with 0 Axes>"
      ]
     },
     "metadata": {},
     "output_type": "display_data"
    },
    {
     "data": {
      "text/plain": [
       "<Figure size 1440x720 with 0 Axes>"
      ]
     },
     "metadata": {},
     "output_type": "display_data"
    },
    {
     "data": {
      "text/plain": [
       "<Figure size 1440x720 with 0 Axes>"
      ]
     },
     "metadata": {},
     "output_type": "display_data"
    },
    {
     "data": {
      "text/plain": [
       "<Figure size 1440x720 with 0 Axes>"
      ]
     },
     "metadata": {},
     "output_type": "display_data"
    },
    {
     "data": {
      "text/plain": [
       "<Figure size 1440x720 with 0 Axes>"
      ]
     },
     "metadata": {},
     "output_type": "display_data"
    },
    {
     "data": {
      "text/plain": [
       "<Figure size 1440x720 with 0 Axes>"
      ]
     },
     "metadata": {},
     "output_type": "display_data"
    },
    {
     "data": {
      "text/plain": [
       "<Figure size 1440x720 with 0 Axes>"
      ]
     },
     "metadata": {},
     "output_type": "display_data"
    },
    {
     "data": {
      "text/plain": [
       "<Figure size 1440x720 with 0 Axes>"
      ]
     },
     "metadata": {},
     "output_type": "display_data"
    },
    {
     "data": {
      "text/plain": [
       "<Figure size 1440x720 with 0 Axes>"
      ]
     },
     "metadata": {},
     "output_type": "display_data"
    },
    {
     "data": {
      "text/plain": [
       "<Figure size 1440x720 with 0 Axes>"
      ]
     },
     "metadata": {},
     "output_type": "display_data"
    },
    {
     "data": {
      "text/plain": [
       "<Figure size 1440x720 with 0 Axes>"
      ]
     },
     "metadata": {},
     "output_type": "display_data"
    },
    {
     "data": {
      "text/plain": [
       "<Figure size 1440x720 with 0 Axes>"
      ]
     },
     "metadata": {},
     "output_type": "display_data"
    },
    {
     "data": {
      "text/plain": [
       "<Figure size 1440x720 with 0 Axes>"
      ]
     },
     "metadata": {},
     "output_type": "display_data"
    },
    {
     "data": {
      "text/plain": [
       "<Figure size 1440x720 with 0 Axes>"
      ]
     },
     "metadata": {},
     "output_type": "display_data"
    },
    {
     "data": {
      "text/plain": [
       "<Figure size 1440x720 with 0 Axes>"
      ]
     },
     "metadata": {},
     "output_type": "display_data"
    },
    {
     "data": {
      "text/plain": [
       "<Figure size 1440x720 with 0 Axes>"
      ]
     },
     "metadata": {},
     "output_type": "display_data"
    },
    {
     "data": {
      "text/plain": [
       "<Figure size 1440x720 with 0 Axes>"
      ]
     },
     "metadata": {},
     "output_type": "display_data"
    },
    {
     "data": {
      "text/plain": [
       "<Figure size 1440x720 with 0 Axes>"
      ]
     },
     "metadata": {},
     "output_type": "display_data"
    },
    {
     "data": {
      "text/plain": [
       "<Figure size 1440x720 with 0 Axes>"
      ]
     },
     "metadata": {},
     "output_type": "display_data"
    },
    {
     "data": {
      "text/plain": [
       "<Figure size 1440x720 with 0 Axes>"
      ]
     },
     "metadata": {},
     "output_type": "display_data"
    },
    {
     "data": {
      "text/plain": [
       "<Figure size 1440x720 with 0 Axes>"
      ]
     },
     "metadata": {},
     "output_type": "display_data"
    },
    {
     "data": {
      "text/plain": [
       "<Figure size 1440x720 with 0 Axes>"
      ]
     },
     "metadata": {},
     "output_type": "display_data"
    },
    {
     "data": {
      "text/plain": [
       "<Figure size 1440x720 with 0 Axes>"
      ]
     },
     "metadata": {},
     "output_type": "display_data"
    },
    {
     "data": {
      "text/plain": [
       "<Figure size 1440x720 with 0 Axes>"
      ]
     },
     "metadata": {},
     "output_type": "display_data"
    },
    {
     "data": {
      "text/plain": [
       "<Figure size 1440x720 with 0 Axes>"
      ]
     },
     "metadata": {},
     "output_type": "display_data"
    },
    {
     "data": {
      "text/plain": [
       "<Figure size 1440x720 with 0 Axes>"
      ]
     },
     "metadata": {},
     "output_type": "display_data"
    },
    {
     "data": {
      "text/plain": [
       "<Figure size 1440x720 with 0 Axes>"
      ]
     },
     "metadata": {},
     "output_type": "display_data"
    },
    {
     "data": {
      "text/plain": [
       "<Figure size 1440x720 with 0 Axes>"
      ]
     },
     "metadata": {},
     "output_type": "display_data"
    },
    {
     "data": {
      "text/plain": [
       "<Figure size 1440x720 with 0 Axes>"
      ]
     },
     "metadata": {},
     "output_type": "display_data"
    },
    {
     "data": {
      "text/plain": [
       "<Figure size 1440x720 with 0 Axes>"
      ]
     },
     "metadata": {},
     "output_type": "display_data"
    },
    {
     "data": {
      "text/plain": [
       "<Figure size 1440x720 with 0 Axes>"
      ]
     },
     "metadata": {},
     "output_type": "display_data"
    },
    {
     "data": {
      "text/plain": [
       "<Figure size 1440x720 with 0 Axes>"
      ]
     },
     "metadata": {},
     "output_type": "display_data"
    },
    {
     "data": {
      "text/plain": [
       "<Figure size 1440x720 with 0 Axes>"
      ]
     },
     "metadata": {},
     "output_type": "display_data"
    },
    {
     "data": {
      "text/plain": [
       "<Figure size 1440x720 with 0 Axes>"
      ]
     },
     "metadata": {},
     "output_type": "display_data"
    },
    {
     "data": {
      "text/plain": [
       "<Figure size 1440x720 with 0 Axes>"
      ]
     },
     "metadata": {},
     "output_type": "display_data"
    },
    {
     "data": {
      "text/plain": [
       "<Figure size 1440x720 with 0 Axes>"
      ]
     },
     "metadata": {},
     "output_type": "display_data"
    },
    {
     "data": {
      "text/plain": [
       "<Figure size 1440x720 with 0 Axes>"
      ]
     },
     "metadata": {},
     "output_type": "display_data"
    },
    {
     "data": {
      "text/plain": [
       "<Figure size 1440x720 with 0 Axes>"
      ]
     },
     "metadata": {},
     "output_type": "display_data"
    },
    {
     "data": {
      "text/plain": [
       "<Figure size 1440x720 with 0 Axes>"
      ]
     },
     "metadata": {},
     "output_type": "display_data"
    },
    {
     "data": {
      "text/plain": [
       "<Figure size 1440x720 with 0 Axes>"
      ]
     },
     "metadata": {},
     "output_type": "display_data"
    },
    {
     "data": {
      "text/plain": [
       "<Figure size 1440x720 with 0 Axes>"
      ]
     },
     "metadata": {},
     "output_type": "display_data"
    },
    {
     "data": {
      "text/plain": [
       "<Figure size 1440x720 with 0 Axes>"
      ]
     },
     "metadata": {},
     "output_type": "display_data"
    },
    {
     "data": {
      "text/plain": [
       "<Figure size 1440x720 with 0 Axes>"
      ]
     },
     "metadata": {},
     "output_type": "display_data"
    },
    {
     "data": {
      "text/plain": [
       "<Figure size 1440x720 with 0 Axes>"
      ]
     },
     "metadata": {},
     "output_type": "display_data"
    },
    {
     "data": {
      "text/plain": [
       "<Figure size 1440x720 with 0 Axes>"
      ]
     },
     "metadata": {},
     "output_type": "display_data"
    },
    {
     "data": {
      "text/plain": [
       "<Figure size 1440x720 with 0 Axes>"
      ]
     },
     "metadata": {},
     "output_type": "display_data"
    },
    {
     "data": {
      "text/plain": [
       "<Figure size 1440x720 with 0 Axes>"
      ]
     },
     "metadata": {},
     "output_type": "display_data"
    },
    {
     "data": {
      "text/plain": [
       "<Figure size 1440x720 with 0 Axes>"
      ]
     },
     "metadata": {},
     "output_type": "display_data"
    },
    {
     "data": {
      "text/plain": [
       "<Figure size 1440x720 with 0 Axes>"
      ]
     },
     "metadata": {},
     "output_type": "display_data"
    },
    {
     "data": {
      "text/plain": [
       "<Figure size 1440x720 with 0 Axes>"
      ]
     },
     "metadata": {},
     "output_type": "display_data"
    },
    {
     "data": {
      "text/plain": [
       "<Figure size 1440x720 with 0 Axes>"
      ]
     },
     "metadata": {},
     "output_type": "display_data"
    },
    {
     "data": {
      "text/plain": [
       "<Figure size 1440x720 with 0 Axes>"
      ]
     },
     "metadata": {},
     "output_type": "display_data"
    },
    {
     "data": {
      "text/plain": [
       "<Figure size 1440x720 with 0 Axes>"
      ]
     },
     "metadata": {},
     "output_type": "display_data"
    },
    {
     "data": {
      "text/plain": [
       "<Figure size 1440x720 with 0 Axes>"
      ]
     },
     "metadata": {},
     "output_type": "display_data"
    },
    {
     "data": {
      "text/plain": [
       "<Figure size 1440x720 with 0 Axes>"
      ]
     },
     "metadata": {},
     "output_type": "display_data"
    },
    {
     "data": {
      "text/plain": [
       "<Figure size 1440x720 with 0 Axes>"
      ]
     },
     "metadata": {},
     "output_type": "display_data"
    },
    {
     "data": {
      "text/plain": [
       "<Figure size 1440x720 with 0 Axes>"
      ]
     },
     "metadata": {},
     "output_type": "display_data"
    },
    {
     "data": {
      "text/plain": [
       "<Figure size 1440x720 with 0 Axes>"
      ]
     },
     "metadata": {},
     "output_type": "display_data"
    },
    {
     "data": {
      "text/plain": [
       "<Figure size 1440x720 with 0 Axes>"
      ]
     },
     "metadata": {},
     "output_type": "display_data"
    },
    {
     "data": {
      "text/plain": [
       "<Figure size 1440x720 with 0 Axes>"
      ]
     },
     "metadata": {},
     "output_type": "display_data"
    },
    {
     "data": {
      "text/plain": [
       "<Figure size 1440x720 with 0 Axes>"
      ]
     },
     "metadata": {},
     "output_type": "display_data"
    },
    {
     "data": {
      "text/plain": [
       "<Figure size 1440x720 with 0 Axes>"
      ]
     },
     "metadata": {},
     "output_type": "display_data"
    },
    {
     "data": {
      "text/plain": [
       "<Figure size 1440x720 with 0 Axes>"
      ]
     },
     "metadata": {},
     "output_type": "display_data"
    },
    {
     "data": {
      "text/plain": [
       "<Figure size 1440x720 with 0 Axes>"
      ]
     },
     "metadata": {},
     "output_type": "display_data"
    },
    {
     "data": {
      "text/plain": [
       "<Figure size 1440x720 with 0 Axes>"
      ]
     },
     "metadata": {},
     "output_type": "display_data"
    },
    {
     "data": {
      "text/plain": [
       "<Figure size 1440x720 with 0 Axes>"
      ]
     },
     "metadata": {},
     "output_type": "display_data"
    },
    {
     "data": {
      "text/plain": [
       "<Figure size 1440x720 with 0 Axes>"
      ]
     },
     "metadata": {},
     "output_type": "display_data"
    },
    {
     "data": {
      "text/plain": [
       "<Figure size 1440x720 with 0 Axes>"
      ]
     },
     "metadata": {},
     "output_type": "display_data"
    },
    {
     "data": {
      "text/plain": [
       "<Figure size 1440x720 with 0 Axes>"
      ]
     },
     "metadata": {},
     "output_type": "display_data"
    }
   ],
   "source": [
    "RunSim(model,n=128)"
   ]
  },
  {
   "cell_type": "code",
   "execution_count": 62,
   "id": "b7ee15df",
   "metadata": {},
   "outputs": [],
   "source": [
    "###################\n",
    "# Crispian's Mods #\n",
    "###################\n",
    "\n",
    "# to change:\n",
    "# params.set_param('relative_transmission_random',0)\n",
    "\n",
    "df_timeseries = pd.DataFrame(model.results)\n",
    "# print(df_timeseries)\n",
    "model.write_output_files()"
   ]
  },
  {
   "cell_type": "code",
   "execution_count": 63,
   "id": "7fa18191",
   "metadata": {},
   "outputs": [],
   "source": [
    "\n",
    "df_indiv = pd.read_csv(join(\"individual_file_Run1.csv\"))\n",
    "df_trans = pd.read_csv(join(\"transmission_Run1.csv\"))\n",
    "df_interact = pd.read_csv(join(\"interactions_Run1.csv\"))"
   ]
  },
  {
   "cell_type": "code",
   "execution_count": 64,
   "id": "4e0d5a5b",
   "metadata": {},
   "outputs": [
    {
     "name": "stdout",
     "output_type": "stream",
     "text": [
      "            ID  current_status  age_group  occupation_network  worker_type  \\\n",
      "0            0               0          8                   4           -1   \n",
      "1            1               9          7                   3           -1   \n",
      "2            2               9          6                   2           -1   \n",
      "3            3               9          4                   3           -1   \n",
      "4            4               9          2                   3           -1   \n",
      "...        ...             ...        ...                 ...          ...   \n",
      "619995  619995               9          4                   2           -1   \n",
      "619996  619996               9          7                   3           -1   \n",
      "619997  619997               9          6                   2           -1   \n",
      "619998  619998               9          7                   3           -1   \n",
      "619999  619999               0          8                   4           -1   \n",
      "\n",
      "        assigned_worker_ward_type  house_no  quarantined  time_quarantined  \\\n",
      "0                              -1         0            0                -1   \n",
      "1                              -1         0            0                -1   \n",
      "2                              -1         0            0                -1   \n",
      "3                              -1         1            0                -1   \n",
      "4                              -1         1            0                -1   \n",
      "...                           ...       ...          ...               ...   \n",
      "619995                         -1    258336            0                -1   \n",
      "619996                         -1    258337            0                -1   \n",
      "619997                         -1    258337            0                -1   \n",
      "619998                         -1    258337            0                -1   \n",
      "619999                         -1    258338            0                -1   \n",
      "\n",
      "        test_status  app_user  mean_interactions  infection_count  \\\n",
      "0                -2         1                  2                0   \n",
      "1                -2         0                  4                1   \n",
      "2                -2         1                  1                1   \n",
      "3                -2         1                  3                1   \n",
      "4                -2         0                  3                1   \n",
      "...             ...       ...                ...              ...   \n",
      "619995           -2         1                  6                1   \n",
      "619996           -2         0                  5                1   \n",
      "619997           -2         0                  5                1   \n",
      "619998           -2         0                  1                1   \n",
      "619999           -2         0                  1                0   \n",
      "\n",
      "        infectiousness_multiplier  vaccine_status   xcoords   ycoords  \n",
      "0                          0.0601               0 -0.044751  0.898128  \n",
      "1                          0.3043               0 -0.044751  0.898128  \n",
      "2                          0.0445               0 -0.044751  0.898128  \n",
      "3                          0.1365               0 -0.048014  0.898667  \n",
      "4                          0.2098               0 -0.048014  0.898667  \n",
      "...                           ...             ...       ...       ...  \n",
      "619995                     0.0107               0 -0.043995  0.898671  \n",
      "619996                     0.0579               0 -0.045400  0.898341  \n",
      "619997                     2.8770               0 -0.045400  0.898341  \n",
      "619998                     0.3791               0 -0.045400  0.898341  \n",
      "619999                     0.6029               0 -0.045546  0.897857  \n",
      "\n",
      "[620000 rows x 17 columns]\n",
      "        ID_recipient  age_group_recipient  house_no_recipient  \\\n",
      "0                  1                    7                   0   \n",
      "1                  2                    6                   0   \n",
      "2                  3                    4                   1   \n",
      "3                  4                    2                   1   \n",
      "4                  5                    3                   2   \n",
      "...              ...                  ...                 ...   \n",
      "583312        619994                    6              258335   \n",
      "583313        619995                    4              258336   \n",
      "583314        619996                    7              258337   \n",
      "583315        619997                    6              258337   \n",
      "583316        619998                    7              258337   \n",
      "\n",
      "        occupation_network_recipient  worker_type_recipient  \\\n",
      "0                                  3                     -1   \n",
      "1                                  2                     -1   \n",
      "2                                  3                     -1   \n",
      "3                                  3                     -1   \n",
      "4                                  2                     -1   \n",
      "...                              ...                    ...   \n",
      "583312                             1                     -1   \n",
      "583313                             2                     -1   \n",
      "583314                             3                     -1   \n",
      "583315                             2                     -1   \n",
      "583316                             3                     -1   \n",
      "\n",
      "        hospital_state_recipient  infector_network  infector_network_id  \\\n",
      "0                             17                 1                   10   \n",
      "1                             17                 1                    9   \n",
      "2                             17                 1                    9   \n",
      "3                             17                 1                    9   \n",
      "4                             17                 1                    9   \n",
      "...                          ...               ...                  ...   \n",
      "583312                        17                 1                    9   \n",
      "583313                        17                 1                    9   \n",
      "583314                        17                 1                   10   \n",
      "583315                        17                 1                    9   \n",
      "583316                        17                 1                   10   \n",
      "\n",
      "        generation_time  ID_source  ...  time_hospitalised  time_critical  \\\n",
      "0                     4     232396  ...                 -1             -1   \n",
      "1                     9      32058  ...                 -1             -1   \n",
      "2                     2     394378  ...                 -1             -1   \n",
      "3                     6     209449  ...                 -1             -1   \n",
      "4                     6     409167  ...                 -1             -1   \n",
      "...                 ...        ...  ...                ...            ...   \n",
      "583312                5     543101  ...                 -1             -1   \n",
      "583313                4     202313  ...                 -1             -1   \n",
      "583314                4     176466  ...                 -1             -1   \n",
      "583315                6      65474  ...                 -1             -1   \n",
      "583316                7     230299  ...                 -1             -1   \n",
      "\n",
      "        time_hospitalised_recovering  time_death  time_recovered  \\\n",
      "0                                 -1          -1              64   \n",
      "1                                 -1          -1              54   \n",
      "2                                 -1          -1              53   \n",
      "3                                 -1          -1              57   \n",
      "4                                 -1          -1              60   \n",
      "...                              ...         ...             ...   \n",
      "583312                            -1          -1              51   \n",
      "583313                            -1          -1              60   \n",
      "583314                            -1          -1              57   \n",
      "583315                            -1          -1              62   \n",
      "583316                            -1          -1              53   \n",
      "\n",
      "        time_susceptible  is_case  strain_idx  transmission_multiplier  \\\n",
      "0                  10275        0           0                      1.0   \n",
      "1                  10338        0           0                      1.0   \n",
      "2                  10232        0           0                      1.0   \n",
      "3                  10258        0           0                      1.0   \n",
      "4                  10078        0           0                      1.0   \n",
      "...                  ...      ...         ...                      ...   \n",
      "583312             10362        0           0                      1.0   \n",
      "583313             10194        0           0                      1.0   \n",
      "583314             10096        0           0                      1.0   \n",
      "583315             10213        0           0                      1.0   \n",
      "583316             10083        0           0                      1.0   \n",
      "\n",
      "        expected_hospitalisation  \n",
      "0                         0.1028  \n",
      "1                         0.0707  \n",
      "2                         0.0193  \n",
      "3                         0.0005  \n",
      "4                         0.0037  \n",
      "...                          ...  \n",
      "583312                    0.0707  \n",
      "583313                    0.0193  \n",
      "583314                    0.1028  \n",
      "583315                    0.0707  \n",
      "583316                    0.1028  \n",
      "\n",
      "[583317 rows x 35 columns]\n",
      "            ID_1  age_group_1  worker_type_1  house_no_1  \\\n",
      "0              0            8             -1           0   \n",
      "1              0            8             -1           0   \n",
      "2              0            8             -1           0   \n",
      "3              0            8             -1           0   \n",
      "4              1            7             -1           0   \n",
      "...          ...          ...            ...         ...   \n",
      "11326135  619998            7             -1      258337   \n",
      "11326136  619998            7             -1      258337   \n",
      "11326137  619998            7             -1      258337   \n",
      "11326138  619998            7             -1      258337   \n",
      "11326139  619999            8             -1      258338   \n",
      "\n",
      "          occupation_network_1  type  network_id    ID_2  age_group_2  \\\n",
      "0                            4     0           1       2            6   \n",
      "1                            4     0           1       1            7   \n",
      "2                            4     2           0  282581            7   \n",
      "3                            4     2           0  426609            6   \n",
      "4                            3     1          10  587055            7   \n",
      "...                        ...   ...         ...     ...          ...   \n",
      "11326135                     3     1          10   53275            7   \n",
      "11326136                     3     0           1  619997            6   \n",
      "11326137                     3     0           1  619996            7   \n",
      "11326138                     3     2           0  191670            4   \n",
      "11326139                     4     2           0  471782            2   \n",
      "\n",
      "          worker_type_2  house_no_2  occupation_network_2  traceable  \\\n",
      "0                    -1           0                     2         -1   \n",
      "1                    -1           0                     3         -1   \n",
      "2                    -1      117972                     3         -1   \n",
      "3                    -1      177954                     2         -1   \n",
      "4                    -1      244591                     3         -1   \n",
      "...                 ...         ...                   ...        ...   \n",
      "11326135             -1       22239                     3         -1   \n",
      "11326136             -1      258337                     2         -1   \n",
      "11326137             -1      258337                     3         -1   \n",
      "11326138             -1       80033                     2         -1   \n",
      "11326139             -1      196610                     0         -1   \n",
      "\n",
      "          manual_traceable  time  \n",
      "0                       -1   127  \n",
      "1                       -1   127  \n",
      "2                       -1   127  \n",
      "3                       -1   127  \n",
      "4                       -1   127  \n",
      "...                    ...   ...  \n",
      "11326135                -1   127  \n",
      "11326136                -1   127  \n",
      "11326137                -1   127  \n",
      "11326138                -1   127  \n",
      "11326139                -1   127  \n",
      "\n",
      "[11326140 rows x 15 columns]\n"
     ]
    }
   ],
   "source": [
    "print(df_indiv) #17\n",
    "print(df_trans) #35\n",
    "print(df_interact) #15"
   ]
  },
  {
   "cell_type": "code",
   "execution_count": 65,
   "id": "dd7a6b19",
   "metadata": {
    "ExecuteTime": {
     "end_time": "2021-10-12T10:08:59.555778Z",
     "start_time": "2021-10-12T10:08:59.555766Z"
    },
    "hidden": true
   },
   "outputs": [],
   "source": [
    "# bc4 = [50.75328904, -1.55764306]\n",
    "# bc4_x, bc4_y = ll2coord(bc4[0],bc4[1])\n",
    "# bc4_xy = np.array([bc4_x,bc4_y])\n",
    "# print(bc4)\n",
    "# print(bc4_xy)"
   ]
  },
  {
   "cell_type": "code",
   "execution_count": 66,
   "id": "6178279b",
   "metadata": {
    "ExecuteTime": {
     "end_time": "2021-10-12T10:08:59.557397Z",
     "start_time": "2021-10-12T10:08:59.557380Z"
    },
    "hidden": true
   },
   "outputs": [],
   "source": [
    "# d = np.linalg.norm\n",
    "# df_indiv['d'] = d(df_indiv[['xcoords','ycoords']]-bc4_xy,axis=1)\n",
    "# mind = df_indiv['d'].idxmin()\n",
    "# print(mind)\n",
    "# bc4_house = int(df_indiv.iloc[mind]['house_no'])\n",
    "# print(bc4_house)"
   ]
  },
  {
   "cell_type": "code",
   "execution_count": 67,
   "id": "9f99ce6e",
   "metadata": {
    "ExecuteTime": {
     "end_time": "2021-10-12T10:08:59.559268Z",
     "start_time": "2021-10-12T10:08:59.559255Z"
    },
    "hidden": true
   },
   "outputs": [],
   "source": [
    "def RadiusIndividual(model,target,r,d=np.linalg.norm):\n",
    "    x = model.get_individuals()\n",
    "    x['d'] = d(x[['xcoords','ycoords']]-target,axis=1)\n",
    "    x = x.loc[x['d']<=r]\n",
    "    return list(x['ID'])"
   ]
  },
  {
   "cell_type": "code",
   "execution_count": 68,
   "id": "9a4ffc71",
   "metadata": {
    "ExecuteTime": {
     "end_time": "2021-10-12T10:08:59.560839Z",
     "start_time": "2021-10-12T10:08:59.560826Z"
    },
    "hidden": true,
    "scrolled": true
   },
   "outputs": [],
   "source": [
    "# Lockdowned(model)"
   ]
  },
  {
   "cell_type": "code",
   "execution_count": 69,
   "id": "d46a3b4b",
   "metadata": {
    "ExecuteTime": {
     "end_time": "2021-10-12T10:08:59.562617Z",
     "start_time": "2021-10-12T10:08:59.562604Z"
    },
    "hidden": true
   },
   "outputs": [
    {
     "data": {
      "text/plain": [
       "406314"
      ]
     },
     "execution_count": 69,
     "metadata": {},
     "output_type": "execute_result"
    }
   ],
   "source": [
    "bc4_indivs[-1]"
   ]
  },
  {
   "cell_type": "code",
   "execution_count": 70,
   "id": "c9bbaa1d",
   "metadata": {
    "ExecuteTime": {
     "end_time": "2021-10-12T10:08:59.564695Z",
     "start_time": "2021-10-12T10:08:59.564674Z"
    },
    "hidden": true
   },
   "outputs": [
    {
     "data": {
      "text/plain": [
       "[]"
      ]
     },
     "execution_count": 70,
     "metadata": {},
     "output_type": "execute_result"
    }
   ],
   "source": [
    "RadiusIndividual(model,bc4_xy,.00001)"
   ]
  },
  {
   "cell_type": "code",
   "execution_count": 71,
   "id": "8534b698",
   "metadata": {
    "ExecuteTime": {
     "end_time": "2021-10-12T10:08:59.565950Z",
     "start_time": "2021-10-12T10:08:59.565937Z"
    },
    "hidden": true
   },
   "outputs": [],
   "source": [
    "ev = [50.74722149271622, -1.5903702505310746]"
   ]
  },
  {
   "cell_type": "code",
   "execution_count": 72,
   "id": "0009607b",
   "metadata": {
    "ExecuteTime": {
     "end_time": "2021-10-12T10:08:59.567677Z",
     "start_time": "2021-10-12T10:08:59.567663Z"
    },
    "hidden": true
   },
   "outputs": [
    {
     "data": {
      "text/plain": [
       "[50.75328904, -1.55764306]"
      ]
     },
     "execution_count": 72,
     "metadata": {},
     "output_type": "execute_result"
    }
   ],
   "source": [
    "bc4"
   ]
  },
  {
   "cell_type": "code",
   "execution_count": 73,
   "id": "362c1b6e",
   "metadata": {
    "ExecuteTime": {
     "end_time": "2021-10-12T10:08:59.569517Z",
     "start_time": "2021-10-12T10:08:59.569504Z"
    },
    "hidden": true
   },
   "outputs": [
    {
     "data": {
      "text/plain": [
       "0.0005809309813849948"
      ]
     },
     "execution_count": 73,
     "metadata": {},
     "output_type": "execute_result"
    }
   ],
   "source": [
    "r2halfkm = np.linalg.norm(np.array(ll2coord(bc4[0],bc4[1]))-np.array(ll2coord(ev[0],ev[1]))) #3.5km\n",
    "r2halfkm"
   ]
  },
  {
   "cell_type": "code",
   "execution_count": 74,
   "id": "c4f379b2",
   "metadata": {
    "ExecuteTime": {
     "end_time": "2021-10-12T10:08:59.570987Z",
     "start_time": "2021-10-12T10:08:59.570971Z"
    },
    "hidden": true
   },
   "outputs": [
    {
     "data": {
      "text/plain": [
       "0"
      ]
     },
     "execution_count": 74,
     "metadata": {},
     "output_type": "execute_result"
    }
   ],
   "source": [
    "len(RadiusIndividual(model,bc4_xy,r2halfkm))"
   ]
  },
  {
   "cell_type": "code",
   "execution_count": 75,
   "id": "023cd121",
   "metadata": {
    "ExecuteTime": {
     "end_time": "2021-10-12T10:08:59.573095Z",
     "start_time": "2021-10-12T10:08:59.573081Z"
    },
    "hidden": true
   },
   "outputs": [],
   "source": [
    "def LockdownInRadius(model,target,r,n=14):\n",
    "    indivs = model.get_individuals()\n",
    "    indivs = RadiusIndividual(model,target,r)\n",
    "    t = model.one_time_step_results()['time']\n",
    "    for i in indivs:\n",
    "        model.intervention_quarantine_until_by_idx(i,None,t+n,0)"
   ]
  },
  {
   "cell_type": "code",
   "execution_count": 76,
   "id": "8b69f3fd",
   "metadata": {
    "ExecuteTime": {
     "end_time": "2021-10-12T10:08:59.608021Z",
     "start_time": "2021-10-12T10:08:59.608009Z"
    },
    "hidden": true
   },
   "outputs": [
    {
     "ename": "TypeError",
     "evalue": "ImperialNetwork() missing 1 required positional argument: 'netPath'",
     "output_type": "error",
     "traceback": [
      "\u001b[0;31m---------------------------------------------------------------------------\u001b[0m",
      "\u001b[0;31mTypeError\u001b[0m                                 Traceback (most recent call last)",
      "\u001b[0;32m/tmp/ipykernel_176/3067237431.py\u001b[0m in \u001b[0;36m<module>\u001b[0;34m\u001b[0m\n\u001b[1;32m      1\u001b[0m \u001b[0;31m# GIF without local lockdown\u001b[0m\u001b[0;34m\u001b[0m\u001b[0;34m\u001b[0m\u001b[0m\n\u001b[0;32m----> 2\u001b[0;31m \u001b[0mmodel\u001b[0m \u001b[0;34m=\u001b[0m \u001b[0mImperialNetwork\u001b[0m\u001b[0;34m(\u001b[0m\u001b[0;34m)\u001b[0m\u001b[0;34m\u001b[0m\u001b[0;34m\u001b[0m\u001b[0m\n\u001b[0m\u001b[1;32m      3\u001b[0m \u001b[0;32mfor\u001b[0m \u001b[0mi\u001b[0m \u001b[0;32min\u001b[0m \u001b[0mbc4_indivs\u001b[0m\u001b[0;34m:\u001b[0m\u001b[0;34m\u001b[0m\u001b[0;34m\u001b[0m\u001b[0m\n\u001b[1;32m      4\u001b[0m     \u001b[0mmodel\u001b[0m\u001b[0;34m.\u001b[0m\u001b[0mseed_infect_by_idx\u001b[0m\u001b[0;34m(\u001b[0m\u001b[0mi\u001b[0m\u001b[0;34m)\u001b[0m\u001b[0;34m\u001b[0m\u001b[0;34m\u001b[0m\u001b[0m\n\u001b[1;32m      5\u001b[0m \u001b[0mRunSim\u001b[0m\u001b[0;34m(\u001b[0m\u001b[0mmodel\u001b[0m\u001b[0;34m,\u001b[0m\u001b[0mn\u001b[0m\u001b[0;34m=\u001b[0m\u001b[0;36m64\u001b[0m\u001b[0;34m)\u001b[0m\u001b[0;34m\u001b[0m\u001b[0;34m\u001b[0m\u001b[0m\n",
      "\u001b[0;31mTypeError\u001b[0m: ImperialNetwork() missing 1 required positional argument: 'netPath'"
     ]
    }
   ],
   "source": [
    "# # GIF without local lockdown\n",
    "# model = ImperialNetwork()\n",
    "# for i in bc4_indivs:\n",
    "#     model.seed_infect_by_idx(i)\n",
    "# RunSim(model,n=64)"
   ]
  },
  {
   "cell_type": "code",
   "execution_count": null,
   "id": "d5131658",
   "metadata": {
    "ExecuteTime": {
     "end_time": "2021-10-12T10:08:59.612176Z",
     "start_time": "2021-10-12T10:08:59.612159Z"
    },
    "hidden": true
   },
   "outputs": [],
   "source": [
    "# # GIF WITH local lockdown\n",
    "# # gif_out = '../../NetworkData/all_2/'\n",
    "# model = ImperialNetwork()\n",
    "# for i in bc4_indivs:\n",
    "#     model.seed_infect_by_idx(i)\n",
    "# RunSim(model,out_dir=gif_out,n=6)\n",
    "# LockdownInRadius(model,bc4_xy,r2halfkm*2,n=21)\n",
    "# RunSim(model,out_dir=gif_out,n=64-6)"
   ]
  },
  {
   "cell_type": "code",
   "execution_count": null,
   "id": "c8666041",
   "metadata": {},
   "outputs": [],
   "source": [
    "### Following Cells are For Plotting from the Extended Output notebook ###"
   ]
  },
  {
   "cell_type": "markdown",
   "id": "0728ff36",
   "metadata": {},
   "source": [
    "# Time series <a class=\"anchor\" id=\"time-series\"></a>\n",
    "[[Home](#home)]\n",
    "\n",
    "Plot the epidemic trajectory and other outputs from the time series file for a single parameter set.  "
   ]
  },
  {
   "cell_type": "code",
   "execution_count": 77,
   "id": "c3da5924",
   "metadata": {},
   "outputs": [
    {
     "data": {
      "image/png": "[encoded data removed]",
      "text/plain": [
       "<Figure size 1008x864 with 4 Axes>"
      ]
     },
     "metadata": {
      "needs_background": "light"
     },
     "output_type": "display_data"
    }
   ],
   "source": [
    "plt.rcParams['figure.figsize'] = [14, 12]\n",
    "fig, ax = plotting.plot_timeseries_curves(df_timeseries, xlimits = [0, 120])"
   ]
  },
  {
   "cell_type": "code",
   "execution_count": 78,
   "id": "e1b09a15",
   "metadata": {},
   "outputs": [],
   "source": [
    "from COVID19.model import AgeGroupEnum, EVENT_TYPES, TransmissionTypeEnum, OccupationNetworkEnum\n",
    "\n",
    "interaction_types = [c.value for c in TransmissionTypeEnum ]\n",
    "interaction_labels = [c.name[1:].title() for c in TransmissionTypeEnum]"
   ]
  },
  {
   "cell_type": "code",
   "execution_count": 79,
   "id": "eada899c",
   "metadata": {},
   "outputs": [
    {
     "data": {
      "image/png": "[encoded data removed]",
      "text/plain": [
       "<Figure size 1008x720 with 1 Axes>"
      ]
     },
     "metadata": {
      "needs_background": "light"
     },
     "output_type": "display_data"
    }
   ],
   "source": [
    "plt.rcParams['figure.figsize'] = [14, 10]\n",
    "# Count interactions for each individual by \"type\" of interaction\n",
    "df_agg = df_interact.groupby([\"ID_1\", \"type\"])[\"ID_1\"].count().reset_index(name = \"count\")\n",
    "\n",
    "# Plot histogram of interaction by network type\n",
    "fig, ax = plotting.plot_hist_by_group(df_agg, groupvar = \"type\", binvar = \"count\", \n",
    "    groups = interaction_types, bins = 25, group_colours = plotting.network_colours, \n",
    "    group_labels = interaction_labels, \n",
    "    xlabel = \"Number of daily connections\", \n",
    "    title = \"Number of daily interactions by network type\", \n",
    "    legend_title = \"Network type\")"
   ]
  },
  {
   "cell_type": "code",
   "execution_count": null,
   "id": "2b23b8dd",
   "metadata": {},
   "outputs": [],
   "source": []
  },
  {
   "cell_type": "code",
   "execution_count": null,
   "id": "2dfbdec0",
   "metadata": {},
   "outputs": [],
   "source": []
  },
  {
   "cell_type": "code",
   "execution_count": null,
   "id": "5eb069b8",
   "metadata": {},
   "outputs": [],
   "source": []
  },
  {
   "cell_type": "code",
   "execution_count": null,
   "id": "5045046b",
   "metadata": {},
   "outputs": [],
   "source": []
  },
  {
   "cell_type": "code",
   "execution_count": null,
   "id": "4c2c58b2",
   "metadata": {},
   "outputs": [],
   "source": []
  }
 ],
 "metadata": {
  "kernelspec": {
   "display_name": "Python 3 (ipykernel)",
   "language": "python",
   "name": "python3"
  },
  "language_info": {
   "codemirror_mode": {
    "name": "ipython",
    "version": 3
   },
   "file_extension": ".py",
   "mimetype": "text/x-python",
   "name": "python",
   "nbconvert_exporter": "python",
   "pygments_lexer": "ipython3",
   "version": "3.9.7"
  },
  "latex_envs": {
   "LaTeX_envs_menu_present": true,
   "autoclose": false,
   "autocomplete": true,
   "bibliofile": "biblio.bib",
   "cite_by": "apalike",
   "current_citInitial": 1,
   "eqLabelWithNumbers": true,
   "eqNumInitial": 1,
   "hotkeys": {
    "equation": ""
   },
   "labels_anchors": false,
   "latex_user_defs": false,
   "report_style_numbering": false,
   "user_envs_cfg": false
  },
  "toc": {
   "base_numbering": 1,
   "nav_menu": {},
   "number_sections": true,
   "sideBar": true,
   "skip_h1_title": false,
   "title_cell": "Table of Contents",
   "title_sidebar": "Contents",
   "toc_cell": false,
   "toc_position": {},
   "toc_section_display": true,
   "toc_window_display": false
  }
 },
 "nbformat": 4,
 "nbformat_minor": 5
}
