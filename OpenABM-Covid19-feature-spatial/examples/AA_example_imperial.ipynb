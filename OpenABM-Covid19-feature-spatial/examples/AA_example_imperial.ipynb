{
 "cells": [
  {
   "cell_type": "markdown",
   "id": "922fc926",
   "metadata": {
    "heading_collapsed": true
   },
   "source": [
    "# Preliminaries"
   ]
  },
  {
   "cell_type": "markdown",
   "id": "f402692d",
   "metadata": {
    "hidden": true
   },
   "source": [
    "## Libraries"
   ]
  },
  {
   "cell_type": "code",
   "execution_count": 1,
   "id": "c67af068",
   "metadata": {
    "ExecuteTime": {
     "end_time": "2021-10-12T10:08:33.844747Z",
     "start_time": "2021-10-12T10:08:32.081995Z"
    },
    "hidden": true,
    "scrolled": true
   },
   "outputs": [],
   "source": [
    "%matplotlib inline\n",
    "from os.path import join\n",
    "from IPython.core.display import display, HTML\n",
    "import plotting\n",
    "\n",
    "import example_utils as utils\n",
    "import pandas as pd\n",
    "import os\n",
    "import numpy as np\n",
    "import matplotlib.pyplot as plt\n",
    "from tqdm.notebook import tqdm\n",
    "import networkx as nx\n",
    "import ipywidgets\n",
    "\n",
    "from shapely.ops import unary_union\n",
    "import shapely.speedups\n",
    "from shapely.geometry import Polygon, LineString, Point\n",
    "\n",
    "# Graphing\n",
    "import geoplot as gplt\n",
    "import geoplot.crs as gcrs\n",
    "import geopandas as gpd\n"
   ]
  },
  {
   "cell_type": "markdown",
   "id": "8cf938ed",
   "metadata": {
    "ExecuteTime": {
     "end_time": "2021-09-17T14:41:19.681042Z",
     "start_time": "2021-09-17T14:41:19.674783Z"
    },
    "hidden": true
   },
   "source": [
    "## Hadean Colour scheme"
   ]
  },
  {
   "cell_type": "code",
   "execution_count": 2,
   "id": "6051cb68",
   "metadata": {
    "ExecuteTime": {
     "end_time": "2021-10-12T10:08:33.939608Z",
     "start_time": "2021-10-12T10:08:33.934592Z"
    },
    "hidden": true
   },
   "outputs": [],
   "source": [
    "# Hadean colour scheme\n",
    "hadeanOrange = '#FF9448'\n",
    "hadeanIndigo = '#27203B'\n",
    "hadeanCoral = '#FF5C37'\n",
    "hadeanCopper = '#D66444'\n",
    "uranianBlue = '#AFDBF5'"
   ]
  },
  {
   "cell_type": "code",
   "execution_count": 3,
   "id": "b0a17725",
   "metadata": {
    "ExecuteTime": {
     "end_time": "2021-10-12T10:08:33.949757Z",
     "start_time": "2021-10-12T10:08:33.942407Z"
    },
    "hidden": true
   },
   "outputs": [],
   "source": [
    "def AddTransparency(c,a):\n",
    "    b = format(max(int(255*a),0),'02X')\n",
    "    return c+str(b[-2:])"
   ]
  },
  {
   "cell_type": "markdown",
   "id": "f92ca7ab",
   "metadata": {
    "hidden": true
   },
   "source": [
    "## Chris' Imperial functions"
   ]
  },
  {
   "cell_type": "code",
   "execution_count": 4,
   "id": "0db37aed",
   "metadata": {
    "ExecuteTime": {
     "end_time": "2021-10-12T10:08:33.960922Z",
     "start_time": "2021-10-12T10:08:33.951794Z"
    },
    "hidden": true
   },
   "outputs": [],
   "source": [
    "def convert_imperial_network_edges_to_oxford_network_edges(network_data):\n",
    "    network_data.rename(columns = {'a.index': 'ID_1', 'b.index': 'ID_2'}, inplace=True)\n",
    "    return network_data\n",
    "\n",
    "def convert_imperial_node_data_to_oxford_node_data(person_node_data, index_to_label_network_with):\n",
    "    person_node_data.rename(columns = {'index': 'ID',\n",
    "                                       'household.index': 'house_no',\n",
    "                                       'age': 'age_group',\n",
    "                                       'coord.x': 'x',\n",
    "                                       'coord.y': 'y'}, inplace=True)\n",
    "\n",
    "    person_node_data['network_no'] = (np.zeros(len(person_node_data)) + index_to_label_network_with)\n",
    "\n",
    "    # Convert the age to age group (the decade age group of the person and is an integer between 0 (0-9 years) and 8 (80+).)\n",
    "    person_node_data['age_group'] = person_node_data['age_group'].apply(lambda x: int(x / 10))\n",
    "\n",
    "    #print(person_node_data) # CA remove\n",
    "\n",
    "    return person_node_data"
   ]
  },
  {
   "cell_type": "markdown",
   "id": "da096abd",
   "metadata": {
    "ExecuteTime": {
     "end_time": "2021-09-27T18:08:45.958625Z",
     "start_time": "2021-09-27T18:08:45.955890Z"
    },
    "hidden": true
   },
   "source": [
    "## Coordinate functions"
   ]
  },
  {
   "cell_type": "code",
   "execution_count": 5,
   "id": "e8fbc6b3",
   "metadata": {
    "ExecuteTime": {
     "end_time": "2021-10-12T10:08:33.974738Z",
     "start_time": "2021-10-12T10:08:33.963265Z"
    },
    "hidden": true
   },
   "outputs": [],
   "source": [
    "def coord2ll(x,y):\n",
    "    return np.array([y,x]) * 57.2957795131\n",
    "\n",
    "def ll2coord(long,lat):\n",
    "    return np.array([lat,long]) / 57.2957795131\n",
    "\n",
    "def coord2ll_listIn(x):\n",
    "    return coord2ll(x[1],x[0])\n",
    "\n",
    "def ll2coord_list(x):\n",
    "    return ll2coord(x[1],x[0])\n"
   ]
  },
  {
   "cell_type": "markdown",
   "id": "d26096c5",
   "metadata": {
    "hidden": true
   },
   "source": [
    "## Load Networks"
   ]
  },
  {
   "cell_type": "code",
   "execution_count": 6,
   "id": "c5e06a1e",
   "metadata": {
    "ExecuteTime": {
     "end_time": "2021-10-12T10:08:33.988378Z",
     "start_time": "2021-10-12T10:08:33.976977Z"
    },
    "hidden": true
   },
   "outputs": [],
   "source": [
    "##########################\n",
    "# Load Network Functions #\n",
    "##########################\n",
    "\n",
    "# Take path of _nodes.csv\n",
    "def LoadDemographics(demoPath):\n",
    "    df_household_demographics = pd.read_csv(demoPath, comment=\"#\", sep=\",\", skipinitialspace=True)\n",
    "    # Converting we use network_no=0, as that's for household network\n",
    "    df_household_demographics = convert_imperial_node_data_to_oxford_node_data(df_household_demographics,0)\n",
    "    return df_household_demographics\n",
    "\n",
    "def CoordsFromDemo(df_household_demographics):\n",
    "    df_coordinates = df_household_demographics.rename(columns={'x':'xcoords','y':'ycoords'})[['ID','xcoords','ycoords']]\n",
    "    return df_coordinates\n",
    "\n",
    "def LoadOccupationNetworks(projPath, prefix='bristol'):\n",
    "    ocNetworksArcs_df_dict = {}\n",
    "    ocNetworksArcs_colNames = ['ID_1','a.x','a.y','ID_2','b.x','b.y']\n",
    "    network_name = np.array(['primary', 'secondary', 'general_workforce', 'retired', 'elderly'])\n",
    "\n",
    "    # Can find network assignment by the a.index for each _i_arcs.csv\n",
    "    for i,x in enumerate(tqdm(network_name)):\n",
    "        print([i,x])\n",
    "        ocNetworksArcs_df_dict[x] = pd.read_csv(projPath+'/'+prefix+\"_\"+str(i)+\"_arcs.csv\", comment=\"#\", sep=\",\", skipinitialspace=True)\n",
    "        ocNetworksArcs_df_dict[x].columns = ocNetworksArcs_colNames\n",
    "    \n",
    "    return ocNetworksArcs_df_dict\n",
    "\n",
    "###################\n",
    "# Parameter stuff #\n",
    "###################\n",
    "\n",
    "def LoadParams(df_household_demographics, params=None):\n",
    "    if params == None:\n",
    "        params = utils.get_baseline_parameters()\n",
    "    n_total = len(df_household_demographics[\"ID\"])\n",
    "    params.set_param(\"n_total\", n_total)\n",
    "    params.set_demographic_household_table(df_household_demographics)\n",
    "    return params\n",
    "\n",
    "def LoadNetworks(model, ocNetworksArcs_df_dict, daily_fraction=0.5):\n",
    "    for i,net in enumerate(ocNetworksArcs_df_dict):\n",
    "        model.delete_network(model.get_network_by_id(i+2))\n",
    "        model.add_user_network(ocNetworksArcs_df_dict[net], name=net, daily_fraction=daily_fraction)\n",
    "\n",
    "def ImperialNetwork(netPath, n_infect=1, prefix='bristol'):\n",
    "    df_household_demographics = LoadDemographics(netPath+'/'+prefix+'_0_nodes.csv')\n",
    "    df_coordinates = CoordsFromDemo(df_household_demographics)\n",
    "    ocNetworksArcs_df_dict = LoadOccupationNetworks(netPath)\n",
    "    params = LoadParams(df_household_demographics)\n",
    "    params.set_param(\"n_seed_infection\", n_infect)\n",
    "    \n",
    "#     # Mods\n",
    "#     params.set_param(\"fatality_fraction_0_9\", 0.33/2)\n",
    "#     params.set_param(\"fatality_fraction_10_19\", 0.25/2)\n",
    "#     params.set_param(\"fatality_fraction_20_29\", 0.50/2)\n",
    "#     params.set_param(\"fatality_fraction_30_39\", 0.50/2)\n",
    "#     params.set_param(\"fatality_fraction_40_49\", 0.50/2)\n",
    "#     params.set_param(\"fatality_fraction_50_59\", 0.69/2)\n",
    "#     params.set_param(\"fatality_fraction_60_69\", 0.65/2)\n",
    "#     params.set_param(\"fatality_fraction_70_79\", 0.88/2)\n",
    "#     params.set_param(\"fatality_fraction_80\", 1.00/2)\n",
    "    \n",
    "#     params.set_param(\"mean_time_to_death\", 15.85)\n",
    "#     params.set_param(\"sd_time_to_death\", 6.59)\n",
    "    \n",
    "#     # End Mods\n",
    "    \n",
    "    model = utils.get_simulation( params ).env.model\n",
    "    model.assign_coordinates_individuals(df_coordinates)\n",
    "    LoadNetworks(model, ocNetworksArcs_df_dict)\n",
    "    \n",
    "    return model"
   ]
  },
  {
   "cell_type": "markdown",
   "id": "8e942b1a",
   "metadata": {},
   "source": [
    "# Lockdown Functions"
   ]
  },
  {
   "cell_type": "code",
   "execution_count": 7,
   "id": "ecdf9c7d",
   "metadata": {},
   "outputs": [],
   "source": [
    "def RadiusIndividual(model,target,r,d=np.linalg.norm):\n",
    "    x = model.get_individuals()\n",
    "    x['d'] = d(x[['xcoords','ycoords']]-target,axis=1)\n",
    "    x = x.loc[x['d']<=r]\n",
    "    return list(x['ID'])\n",
    "\n",
    "def LockdownInRadius(model, target, r, n=14):\n",
    "    indivs = model.get_individuals()\n",
    "    indivs = RadiusIndividual(model,target,r)\n",
    "    t = model.one_time_step_results()['time']\n",
    "    for i in indivs:\n",
    "        model.intervention_quarantine_until_by_idx(i,0,t+n,0)\n",
    "\n",
    "def ProperLockdown(model, target, n=14):\n",
    "    indivs = model.get_individuals()\n",
    "    indivs = indivs['ID']\n",
    "    t = model.one_time_step_results()['time']\n",
    "    for i in indivs:\n",
    "        model.intervention_quarantine_until_by_idx(i, 0, t+n, 0)\n",
    "\n",
    "def LockdownLite(model, target, n=14):\n",
    "    indivs = model.get_individuals()\n",
    "    indivs = indivs['ID']\n",
    "    t = model.one_time_step_results()['time']\n",
    "    for i in range(0, len(indivs), 2):\n",
    "        model.intervention_quarantine_until_by_idx(i, 0, t+n, 0)\n"
   ]
  },
  {
   "cell_type": "code",
   "execution_count": 8,
   "id": "6c5cc6ed",
   "metadata": {},
   "outputs": [],
   "source": [
    "def Infected(model):\n",
    "    #statuses2Track = [1,2,3,4,5,6,7,8,20] # In model.py, v. difficult to find\n",
    "    statuses2Track = [4,5]\n",
    "\n",
    "    x = model.get_individuals()\n",
    "    x = x.loc[x['current_status'].isin(statuses2Track)]\n",
    "    return list(x['ID'])\n",
    "\n",
    "# scarrily current_status does not seem to change when quarantined\n",
    "def Lockdowned(model):\n",
    "    x = model.get_individuals()\n",
    "    x = x.loc[x['quarantined'] == 1]\n",
    "    return list(x['ID'])"
   ]
  },
  {
   "cell_type": "markdown",
   "id": "e42d3cb5",
   "metadata": {
    "heading_collapsed": true
   },
   "source": [
    "# Visualise Network and RunSim Functions"
   ]
  },
  {
   "cell_type": "code",
   "execution_count": 9,
   "id": "506fb7f7",
   "metadata": {
    "ExecuteTime": {
     "end_time": "2021-10-12T10:08:34.491501Z",
     "start_time": "2021-10-12T10:08:34.015358Z"
    },
    "hidden": true
   },
   "outputs": [],
   "source": [
    "def VisualiseNetwork(model, ax, aNode = 1/2**7, aEdge = 1/2**7):\n",
    "    # Correct function!\n",
    "    nodes = model.get_individuals()\n",
    "    nodes_pos = {nodes['ID'][i]:[nodes['xcoords'][i],nodes['ycoords'][i]] for i in range(len(nodes))}\n",
    "    infected = Infected(model)\n",
    "    quarantined = Lockdowned(model)\n",
    "    g = nx.Graph()\n",
    "    #g = nx.from_pandas_edgelist(ocNetworksArcs_df_dict['primary'],'ID_1','ID_2',create_using=nx.Graph())\n",
    "    g.add_nodes_from(nodes['ID'])\n",
    "    g_infected = nx.subgraph(g,infected)\n",
    "    g_quarantined = nx.subgraph(g,quarantined)\n",
    "    #f,ax = plt.subplots(figsize=(20,10))\n",
    "    nx.draw(g,pos=nodes_pos,node_size=5,edge_color=AddTransparency(hadeanOrange,aEdge),node_color=AddTransparency(hadeanIndigo,aNode),ax=ax)\n",
    "    nx.draw_networkx_nodes(g_quarantined,pos=nodes_pos,node_size=5,node_color=AddTransparency(uranianBlue,0.02),ax=ax)\n",
    "    nx.draw_networkx_nodes(g_infected,pos=nodes_pos,node_size=5,node_color=AddTransparency(hadeanOrange,0.9),ax=ax)"
   ]
  },
  {
   "cell_type": "code",
   "execution_count": 10,
   "id": "7a3b5f8a",
   "metadata": {
    "ExecuteTime": {
     "end_time": "2021-10-12T10:08:59.357020Z",
     "start_time": "2021-10-12T10:08:34.497444Z"
    },
    "hidden": true,
    "scrolled": true
   },
   "outputs": [],
   "source": [
    "bristol_net_dir = \"../../id_spatial_sim/scenarios/bristol/output/networks\"\n",
    "mdm_net_dir = \"../../id_spatial_sim/scenarios/mdm3_scenario/output/networks\"\n",
    "\n",
    "aNode = 1/2**7\n",
    "aEdge = 1/2**7\n",
    "\n",
    "bristol_gif_out = '../../NetworkData/bristol/'\n",
    "mdm_gif_out = '../../NetworkData/mdm/'\n",
    "gif_out = '../../NetworkData/'"
   ]
  },
  {
   "cell_type": "code",
   "execution_count": 11,
   "id": "e293ec09",
   "metadata": {
    "ExecuteTime": {
     "end_time": "2021-10-12T10:14:53.130643Z",
     "start_time": "2021-10-12T10:14:50.718942Z"
    },
    "hidden": true
   },
   "outputs": [],
   "source": [
    "from matplotlib.lines import Line2D\n",
    "\n",
    "# Run several time-steps and produce many PNGs to be converted to a GIF\n",
    "def RunSim_WithPlot(model, out_dir=gif_out, n=64, title_text='Spread of COVID-19 on an artificial network of Bristol'):\n",
    "    for i in tqdm(range(n)):\n",
    "        f,ax = plt.subplots(figsize=(20,10))\n",
    "        t = model.one_time_step_results()['time']\n",
    "        VisualiseNetwork(model,ax)\n",
    "        plt.title(title_text,fontsize=32)\n",
    "        agentPatch = Line2D([0],[0],marker='o',linestyle='none',color=AddTransparency(hadeanIndigo,aNode),label='Agent')\n",
    "        conPatch = Line2D([0],[0],marker='o',linestyle='none',color=AddTransparency(hadeanOrange,0.9),label='Contagious')\n",
    "        lg1 = plt.legend(handles=[agentPatch,conPatch],fontsize=16)\n",
    "        text = \"Time = \"+\"{:04d}\".format(t)\n",
    "        textPatch = Line2D([0],[0],linestyle='none',label=text)\n",
    "        ax.legend(handles=[textPatch],loc='lower left',frameon=False)\n",
    "        ax.add_artist(lg1)\n",
    "        print(out_dir+\"{:04d}\".format(t)+'.png')\n",
    "        f.savefig(out_dir+\"{:04d}\".format(t)+'.png')\n",
    "        model.one_time_step()\n",
    "        ax.clear()\n",
    "        plt.clf()\n",
    "    \n",
    "# Then use a `convert ./out_dir/*.png ./net.gif` from terminal"
   ]
  },
  {
   "cell_type": "code",
   "execution_count": 12,
   "id": "0fc045d6",
   "metadata": {},
   "outputs": [],
   "source": [
    "# Just run several time-steps\n",
    "def RunSim_NoPlot(model, n=64, out_dir=gif_out):\n",
    "    for i in tqdm(range(n)):\n",
    "        f,ax = plt.subplots(figsize=(20,10))\n",
    "        t = model.one_time_step_results()['time']\n",
    "        agentPatch = Line2D([0],[0],marker='o',linestyle='none',color=AddTransparency(hadeanIndigo,aNode),label='Agent')\n",
    "        conPatch = Line2D([0],[0],marker='o',linestyle='none',color=AddTransparency(hadeanOrange,0.9),label='Contagious')\n",
    "        lg1 = plt.legend(handles=[agentPatch,conPatch],fontsize=16)\n",
    "        text = \"Time = \"+\"{:04d}\".format(t)\n",
    "        textPatch = Line2D([0],[0],linestyle='none',label=text)\n",
    "        ax.legend(handles=[textPatch],loc='lower left',frameon=False)\n",
    "        ax.add_artist(lg1)\n",
    "        print(out_dir+\"{:04d}\".format(t)+'.png')\n",
    "        model.one_time_step()\n",
    "        ax.clear()\n",
    "        plt.clf()\n",
    "#     for i in tqdm(range(n)):\n",
    "#         t = model.one_time_step_results()['time']\n",
    "#         print(\"Generated Day: \" + \"{:04d}\".format(t))\n",
    "#         model.one_time_step()"
   ]
  },
  {
   "cell_type": "markdown",
   "id": "69370dd6",
   "metadata": {
    "heading_collapsed": true
   },
   "source": [
    "# Seeding"
   ]
  },
  {
   "cell_type": "code",
   "execution_count": 13,
   "id": "fc9f2f00",
   "metadata": {
    "ExecuteTime": {
     "end_time": "2021-10-12T10:08:59.554650Z",
     "start_time": "2021-10-12T10:08:59.554637Z"
    },
    "hidden": true
   },
   "outputs": [
    {
     "data": {
      "application/vnd.jupyter.widget-view+json": {
       "model_id": "fa065127f5144ceb841e02b5f463e652",
       "version_major": 2,
       "version_minor": 0
      },
      "text/plain": [
       "  0%|          | 0/5 [00:00<?, ?it/s]"
      ]
     },
     "metadata": {},
     "output_type": "display_data"
    },
    {
     "name": "stdout",
     "output_type": "stream",
     "text": [
      "[0, 'primary']\n",
      "[1, 'secondary']\n",
      "[2, 'general_workforce']\n",
      "[3, 'retired']\n",
      "[4, 'elderly']\n",
      "\n",
      "Bristol model generated. \n",
      "\n"
     ]
    }
   ],
   "source": [
    "## BRISTOL\n",
    "# replace bc4 with the coords of your desired location\n",
    "long,lat = coord2ll(1.0,-.1)\n",
    "x,y = ll2coord(long,lat)\n",
    "\n",
    "# ASSL coords\n",
    "bc4 = [51.45951819, -2.60148918]\n",
    "bc4_x, bc4_y = ll2coord(bc4[0],bc4[1])\n",
    "bc4_xy = np.array([bc4_x,bc4_y])\n",
    "# print([bc4_x, bc4_y])\n",
    "\n",
    "bristol_model = ImperialNetwork(bristol_net_dir)\n",
    "bristol_df_indiv = bristol_model.get_individuals()\n",
    "print(\"\\nBristol model generated. \\n\")\n",
    "\n",
    "d = np.linalg.norm\n",
    "bristol_df_indiv['d'] = d(bristol_df_indiv[['xcoords','ycoords']]-bc4_xy,axis=1)\n",
    "\n",
    "bristol_mind = bristol_df_indiv['d'].idxmin()\n",
    "bristol_bc4_house = int(bristol_df_indiv.iloc[bristol_mind]['house_no'])\n",
    "# print(bristol_df_indiv.iloc[bristol_mind])\n",
    "# print(coord2ll(bristol_df_indiv.iloc[bristol_mind]['xcoords'],bristol_df_indiv.iloc[bristol_mind]['ycoords']))\n",
    "\n",
    "coord2ll(bristol_df_indiv.iloc[bristol_mind]['xcoords'],bristol_df_indiv.iloc[bristol_mind]['ycoords'])\n",
    "bristol_df_indiv.loc[bristol_df_indiv['house_no']==bristol_bc4_house]\n",
    "bristol_bc4_indivs = [x for x in list(bristol_df_indiv.loc[bristol_df_indiv['house_no']==bristol_bc4_house]['ID'])]\n",
    "\n",
    "for i in bristol_bc4_indivs:\n",
    "    bristol_model.seed_infect_by_idx(i)"
   ]
  },
  {
   "cell_type": "code",
   "execution_count": 14,
   "id": "cdc9870a",
   "metadata": {
    "scrolled": false
   },
   "outputs": [
    {
     "data": {
      "application/vnd.jupyter.widget-view+json": {
       "model_id": "d216468e7f324545857401282a76653a",
       "version_major": 2,
       "version_minor": 0
      },
      "text/plain": [
       "  0%|          | 0/5 [00:00<?, ?it/s]"
      ]
     },
     "metadata": {},
     "output_type": "display_data"
    },
    {
     "name": "stdout",
     "output_type": "stream",
     "text": [
      "[0, 'primary']\n",
      "[1, 'secondary']\n",
      "[2, 'general_workforce']\n",
      "[3, 'retired']\n",
      "[4, 'elderly']\n",
      "\n",
      "MDM model generated. \n",
      "\n"
     ]
    }
   ],
   "source": [
    "## MDM\n",
    "# replace bc4 with the coords of your desired location\n",
    "long,lat = coord2ll(1.0,-.1)\n",
    "x,y = ll2coord(long,lat)\n",
    "\n",
    "# ASSL coords\n",
    "bc4 = [51.45951819, -2.60148918]\n",
    "bc4_x, bc4_y = ll2coord(bc4[0],bc4[1])\n",
    "bc4_xy = np.array([bc4_x,bc4_y])\n",
    "# print([bc4_x, bc4_y])\n",
    "\n",
    "mdm_model = ImperialNetwork(mdm_net_dir)\n",
    "mdm_df_indiv = mdm_model.get_individuals()\n",
    "print(\"\\nMDM model generated. \\n\")\n",
    "\n",
    "d = np.linalg.norm\n",
    "mdm_df_indiv['d'] = d(mdm_df_indiv[['xcoords','ycoords']]-bc4_xy,axis=1)\n",
    "\n",
    "mdm_mind = mdm_df_indiv['d'].idxmin()\n",
    "mdm_bc4_house = int(mdm_df_indiv.iloc[mdm_mind]['house_no'])\n",
    "# print(mdm_df_indiv.iloc[mdm_mind])\n",
    "# print(coord2ll(mdm_df_indiv.iloc[mdm_mind]['xcoords'],mdm_df_indiv.iloc[mdm_mind]['ycoords']))\n",
    "\n",
    "coord2ll(mdm_df_indiv.iloc[mdm_mind]['xcoords'],mdm_df_indiv.iloc[mdm_mind]['ycoords'])\n",
    "mdm_df_indiv.loc[mdm_df_indiv['house_no']==mdm_bc4_house]\n",
    "mdm_df_indiv = [x for x in list(mdm_df_indiv.loc[mdm_df_indiv['house_no']==mdm_bc4_house]['ID'])]\n",
    "\n",
    "for i in mdm_df_indiv:\n",
    "    mdm_model.seed_infect_by_idx(i)"
   ]
  },
  {
   "cell_type": "code",
   "execution_count": 18,
   "id": "c18be5d9",
   "metadata": {},
   "outputs": [
    {
     "name": "stdout",
     "output_type": "stream",
     "text": [
      "0.33\n",
      "0.33\n"
     ]
    }
   ],
   "source": [
    "print(bristol_model.get_param(\"fatality_fraction_0_9\"))\n",
    "print(mdm_model.get_param(\"fatality_fraction_0_9\"))"
   ]
  },
  {
   "cell_type": "markdown",
   "id": "6b86aa69",
   "metadata": {},
   "source": [
    "# Run the Simulation"
   ]
  },
  {
   "cell_type": "code",
   "execution_count": 37,
   "id": "7f62a7bb",
   "metadata": {
    "scrolled": true
   },
   "outputs": [
    {
     "data": {
      "application/vnd.jupyter.widget-view+json": {
       "model_id": "f78f43b51a944692bd9b113f1333dec4",
       "version_major": 2,
       "version_minor": 0
      },
      "text/plain": [
       "  0%|          | 0/20 [00:00<?, ?it/s]"
      ]
     },
     "metadata": {},
     "output_type": "display_data"
    },
    {
     "name": "stdout",
     "output_type": "stream",
     "text": [
      "../../NetworkData/bristol/0040.png\n",
      "../../NetworkData/bristol/0041.png\n",
      "../../NetworkData/bristol/0042.png\n",
      "../../NetworkData/bristol/0043.png\n",
      "../../NetworkData/bristol/0044.png\n",
      "../../NetworkData/bristol/0045.png\n",
      "../../NetworkData/bristol/0046.png\n",
      "../../NetworkData/bristol/0047.png\n",
      "../../NetworkData/bristol/0048.png\n",
      "../../NetworkData/bristol/0049.png\n",
      "../../NetworkData/bristol/0050.png\n",
      "../../NetworkData/bristol/0051.png\n",
      "../../NetworkData/bristol/0052.png\n",
      "../../NetworkData/bristol/0053.png\n",
      "../../NetworkData/bristol/0054.png\n",
      "../../NetworkData/bristol/0055.png\n",
      "../../NetworkData/bristol/0056.png\n",
      "../../NetworkData/bristol/0057.png\n",
      "../../NetworkData/bristol/0058.png\n",
      "../../NetworkData/bristol/0059.png\n"
     ]
    },
    {
     "data": {
      "application/vnd.jupyter.widget-view+json": {
       "model_id": "0eedee15f38644929a905f97237c5839",
       "version_major": 2,
       "version_minor": 0
      },
      "text/plain": [
       "  0%|          | 0/20 [00:00<?, ?it/s]"
      ]
     },
     "metadata": {},
     "output_type": "display_data"
    },
    {
     "name": "stderr",
     "output_type": "stream",
     "text": [
      "/tmp/ipykernel_321/2248709254.py:4: RuntimeWarning: More than 20 figures have been opened. Figures created through the pyplot interface (`matplotlib.pyplot.figure`) are retained until explicitly closed and may consume too much memory. (To control this warning, see the rcParam `figure.max_open_warning`).\n",
      "  f,ax = plt.subplots(figsize=(20,10))\n"
     ]
    },
    {
     "name": "stdout",
     "output_type": "stream",
     "text": [
      "../../NetworkData/mdm/0040.png\n",
      "../../NetworkData/mdm/0041.png\n",
      "../../NetworkData/mdm/0042.png\n",
      "../../NetworkData/mdm/0043.png\n",
      "../../NetworkData/mdm/0044.png\n",
      "../../NetworkData/mdm/0045.png\n",
      "../../NetworkData/mdm/0046.png\n",
      "../../NetworkData/mdm/0047.png\n",
      "../../NetworkData/mdm/0048.png\n",
      "../../NetworkData/mdm/0049.png\n",
      "../../NetworkData/mdm/0050.png\n",
      "../../NetworkData/mdm/0051.png\n",
      "../../NetworkData/mdm/0052.png\n",
      "../../NetworkData/mdm/0053.png\n",
      "../../NetworkData/mdm/0054.png\n",
      "../../NetworkData/mdm/0055.png\n",
      "../../NetworkData/mdm/0056.png\n",
      "../../NetworkData/mdm/0057.png\n",
      "../../NetworkData/mdm/0058.png\n",
      "../../NetworkData/mdm/0059.png\n"
     ]
    },
    {
     "data": {
      "text/plain": [
       "<Figure size 1440x720 with 0 Axes>"
      ]
     },
     "metadata": {},
     "output_type": "display_data"
    },
    {
     "data": {
      "text/plain": [
       "<Figure size 1440x720 with 0 Axes>"
      ]
     },
     "metadata": {},
     "output_type": "display_data"
    },
    {
     "data": {
      "text/plain": [
       "<Figure size 1440x720 with 0 Axes>"
      ]
     },
     "metadata": {},
     "output_type": "display_data"
    },
    {
     "data": {
      "text/plain": [
       "<Figure size 1440x720 with 0 Axes>"
      ]
     },
     "metadata": {},
     "output_type": "display_data"
    },
    {
     "data": {
      "text/plain": [
       "<Figure size 1440x720 with 0 Axes>"
      ]
     },
     "metadata": {},
     "output_type": "display_data"
    },
    {
     "data": {
      "text/plain": [
       "<Figure size 1440x720 with 0 Axes>"
      ]
     },
     "metadata": {},
     "output_type": "display_data"
    },
    {
     "data": {
      "text/plain": [
       "<Figure size 1440x720 with 0 Axes>"
      ]
     },
     "metadata": {},
     "output_type": "display_data"
    },
    {
     "data": {
      "text/plain": [
       "<Figure size 1440x720 with 0 Axes>"
      ]
     },
     "metadata": {},
     "output_type": "display_data"
    },
    {
     "data": {
      "text/plain": [
       "<Figure size 1440x720 with 0 Axes>"
      ]
     },
     "metadata": {},
     "output_type": "display_data"
    },
    {
     "data": {
      "text/plain": [
       "<Figure size 1440x720 with 0 Axes>"
      ]
     },
     "metadata": {},
     "output_type": "display_data"
    },
    {
     "data": {
      "text/plain": [
       "<Figure size 1440x720 with 0 Axes>"
      ]
     },
     "metadata": {},
     "output_type": "display_data"
    },
    {
     "data": {
      "text/plain": [
       "<Figure size 1440x720 with 0 Axes>"
      ]
     },
     "metadata": {},
     "output_type": "display_data"
    },
    {
     "data": {
      "text/plain": [
       "<Figure size 1440x720 with 0 Axes>"
      ]
     },
     "metadata": {},
     "output_type": "display_data"
    },
    {
     "data": {
      "text/plain": [
       "<Figure size 1440x720 with 0 Axes>"
      ]
     },
     "metadata": {},
     "output_type": "display_data"
    },
    {
     "data": {
      "text/plain": [
       "<Figure size 1440x720 with 0 Axes>"
      ]
     },
     "metadata": {},
     "output_type": "display_data"
    },
    {
     "data": {
      "text/plain": [
       "<Figure size 1440x720 with 0 Axes>"
      ]
     },
     "metadata": {},
     "output_type": "display_data"
    },
    {
     "data": {
      "text/plain": [
       "<Figure size 1440x720 with 0 Axes>"
      ]
     },
     "metadata": {},
     "output_type": "display_data"
    },
    {
     "data": {
      "text/plain": [
       "<Figure size 1440x720 with 0 Axes>"
      ]
     },
     "metadata": {},
     "output_type": "display_data"
    },
    {
     "data": {
      "text/plain": [
       "<Figure size 1440x720 with 0 Axes>"
      ]
     },
     "metadata": {},
     "output_type": "display_data"
    },
    {
     "data": {
      "text/plain": [
       "<Figure size 1440x720 with 0 Axes>"
      ]
     },
     "metadata": {},
     "output_type": "display_data"
    },
    {
     "data": {
      "text/plain": [
       "<Figure size 1440x720 with 0 Axes>"
      ]
     },
     "metadata": {},
     "output_type": "display_data"
    },
    {
     "data": {
      "text/plain": [
       "<Figure size 1440x720 with 0 Axes>"
      ]
     },
     "metadata": {},
     "output_type": "display_data"
    },
    {
     "data": {
      "text/plain": [
       "<Figure size 1440x720 with 0 Axes>"
      ]
     },
     "metadata": {},
     "output_type": "display_data"
    },
    {
     "data": {
      "text/plain": [
       "<Figure size 1440x720 with 0 Axes>"
      ]
     },
     "metadata": {},
     "output_type": "display_data"
    },
    {
     "data": {
      "text/plain": [
       "<Figure size 1440x720 with 0 Axes>"
      ]
     },
     "metadata": {},
     "output_type": "display_data"
    },
    {
     "data": {
      "text/plain": [
       "<Figure size 1440x720 with 0 Axes>"
      ]
     },
     "metadata": {},
     "output_type": "display_data"
    },
    {
     "data": {
      "text/plain": [
       "<Figure size 1440x720 with 0 Axes>"
      ]
     },
     "metadata": {},
     "output_type": "display_data"
    },
    {
     "data": {
      "text/plain": [
       "<Figure size 1440x720 with 0 Axes>"
      ]
     },
     "metadata": {},
     "output_type": "display_data"
    },
    {
     "data": {
      "text/plain": [
       "<Figure size 1440x720 with 0 Axes>"
      ]
     },
     "metadata": {},
     "output_type": "display_data"
    },
    {
     "data": {
      "text/plain": [
       "<Figure size 1440x720 with 0 Axes>"
      ]
     },
     "metadata": {},
     "output_type": "display_data"
    },
    {
     "data": {
      "text/plain": [
       "<Figure size 1440x720 with 0 Axes>"
      ]
     },
     "metadata": {},
     "output_type": "display_data"
    },
    {
     "data": {
      "text/plain": [
       "<Figure size 1440x720 with 0 Axes>"
      ]
     },
     "metadata": {},
     "output_type": "display_data"
    },
    {
     "data": {
      "text/plain": [
       "<Figure size 1440x720 with 0 Axes>"
      ]
     },
     "metadata": {},
     "output_type": "display_data"
    },
    {
     "data": {
      "text/plain": [
       "<Figure size 1440x720 with 0 Axes>"
      ]
     },
     "metadata": {},
     "output_type": "display_data"
    },
    {
     "data": {
      "text/plain": [
       "<Figure size 1440x720 with 0 Axes>"
      ]
     },
     "metadata": {},
     "output_type": "display_data"
    },
    {
     "data": {
      "text/plain": [
       "<Figure size 1440x720 with 0 Axes>"
      ]
     },
     "metadata": {},
     "output_type": "display_data"
    },
    {
     "data": {
      "text/plain": [
       "<Figure size 1440x720 with 0 Axes>"
      ]
     },
     "metadata": {},
     "output_type": "display_data"
    },
    {
     "data": {
      "text/plain": [
       "<Figure size 1440x720 with 0 Axes>"
      ]
     },
     "metadata": {},
     "output_type": "display_data"
    },
    {
     "data": {
      "text/plain": [
       "<Figure size 1440x720 with 0 Axes>"
      ]
     },
     "metadata": {},
     "output_type": "display_data"
    },
    {
     "data": {
      "text/plain": [
       "<Figure size 1440x720 with 0 Axes>"
      ]
     },
     "metadata": {},
     "output_type": "display_data"
    }
   ],
   "source": [
    "Lockdowned(bristol_model)\n",
    "RadiusIndividual(bristol_model,bc4_xy,.00001)\n",
    "ev = [51.44930383152205, -2.619099290387059]\n",
    "r2halfkm = np.linalg.norm(np.array(ll2coord(bc4[0],bc4[1]))-np.array(ll2coord(ev[0],ev[1]))) #3.5km\n",
    "\n",
    "\n",
    "Lockdowned(mdm_model)\n",
    "RadiusIndividual(mdm_model,bc4_xy,.00001)\n",
    "\n",
    "\n",
    "# # Run sims without Lockdowns\n",
    "# RunSim_NoPlot(bristol_model, n=m)\n",
    "# RunSim_NoPlot(mdm_model, 37)\n",
    "\n",
    "# # Run sims with Lockdown(s)\n",
    "# RunSim_NoPlot(bristol_model, n = 37)\n",
    "# LockdownInRadius(bristol_model, bc4_xy, 100, n=26)\n",
    "# RunSim_NoPlot(bristol_model, n=36)\n",
    "# # LockdownLite(bristol_model, bc4_xy, n=26)\n",
    "# RunSim_NoPlot(bristol_model, n=254-26)\n",
    "# ProperLockdown(bristol_model, bc4_xy, n=28)\n",
    "# RunSim_NoPlot(bristol_model, n=311-254)\n",
    "\n",
    "\n",
    "# 30 = 27 days plus 10 day incub. period\n",
    "# RunSim_NoPlot(bristol_model, n = 30)\n",
    "# bristol_model.update_running_params(\"quarantine_household_on_symptoms\", 1 )\n",
    "# bristol_model.update_running_params(\"lockdown_on\", 1)\n",
    "\n",
    "# RunSim_NoPlot(bristol_model, n = 30)\n",
    "# bristol_model.update_running_params(\"lockdown_on\", FALSE)  \n",
    "# RunSim_NoPlot(bristol_model, n = 20)\n",
    "# bristol_model.update_running_params(\"lockdown_time_on\", 80)  \n",
    "# bristol_model.update_running_params(\"lockdown_time_off\", 100) \n",
    "# RunSim_NoPlot(bristol_model, n = 60)\n",
    " \n",
    "# LockdownInRadius(bristol_model, bc4_xy, r2halfkm*300, n=52)\n",
    "RunSim_NoPlot(bristol_model, n = 20, out_dir=bristol_gif_out)\n",
    "\n",
    "# LockdownInRadius(bristol_model, bc4_xy, r2halfkm*30, n=34)\n",
    "# RunSim_NoPlot(bristol_model, n=34*2, out_dir=bristol_gif_out)\n",
    "\n",
    "# LockdownInRadius(bristol_model, bc4_xy, r2halfkm*30, n=28)\n",
    "# RunSim_NoPlot(bristol_model, n=50)\n",
    "\n",
    "# # 37 = 27 days plus 10 day incub. period\n",
    "RunSim_NoPlot(mdm_model, n = 20, out_dir=mdm_gif_out)\n",
    "\n",
    "# LockdownInRadius(mdm_model, bc4_xy, r2halfkm*30, n=34)\n",
    "# RunSim_NoPlot(mdm_model, n=34*2, out_dir=mdm_gif_out)\n",
    "\n",
    "# LockdownInRadius(mdm_model, bc4_xy, r2halfkm*30, n=28)\n",
    "# RunSim_NoPlot(mdm_model, n=50)\n",
    "\n",
    "\n",
    "## ONES WITH PLOTS\n",
    "\n",
    "# RunSim_WithPlot(mdm_model,n=26, out_dir=mdm_gif_out)\n",
    "# LockdownInRadius(mdm_model, bc4_xy, r2halfkm*30, n=52)\n",
    "# LockdownInRadius(mdm_model, bc4_xy, r2halfkm*8, n=52)\n",
    "# RunSim_WithPlot(mdm_model,n = 253-26, out_dir=mdm_gif_out)\n",
    "# LockdownInRadius(mdm_model, bc4_xy, r2halfkm*30, n=28)\n",
    "# RunSim_WithPlot(mdm_model,n = 310-253-26, out_dir=mdm_gif_out)\n"
   ]
  },
  {
   "cell_type": "code",
   "execution_count": 38,
   "id": "b7ee15df",
   "metadata": {},
   "outputs": [],
   "source": [
    "#####################\n",
    "# Crispian's Mods 1 #\n",
    "#####################\n",
    "\n",
    "## Write bristol output files\n",
    "bristol_df_timeseries = pd.DataFrame(bristol_model.results)\n",
    "bristol_df_timeseries.to_csv('bristol_df_timeseries.csv', encoding='utf-8')\n",
    "\n",
    "# bristol_model.write_output_files()\n",
    "# # Rename and move bristol output files into subfolder\n",
    "# os.rename(\"individual_file_Run1.csv\", \"./output_files/bristol_individual_file_Run1.csv\")\n",
    "# os.rename(\"interactions_Run1.csv\", \"./output_files/bristol_interactions_Run1.csv\")\n",
    "# os.rename(\"trace_tokens_Run1.csv\", \"./output_files/bristol_trace_tokens_Run1.csv\")\n",
    "# os.rename(\"transmission_Run1.csv\", \"./output_files/bristol_transmission_Run1.csv\")"
   ]
  },
  {
   "cell_type": "code",
   "execution_count": 39,
   "id": "e0de9952",
   "metadata": {},
   "outputs": [],
   "source": [
    "#####################\n",
    "# Crispian's Mods 2 #\n",
    "#####################\n",
    "## Write mdm3 output files\n",
    "mdm_df_timeseries = pd.DataFrame(mdm_model.results)\n",
    "mdm_df_timeseries.to_csv('mdm_df_timeseries.csv', encoding='utf-8')\n",
    "\n",
    "# mdm_model.write_output_files()\n",
    "# # Rename and move mdm3 output files into subfolder\n",
    "# os.rename(\"individual_file_Run1.csv\", \"./output_files/mdm_individual_file_Run1.csv\")\n",
    "# os.rename(\"interactions_Run1.csv\", \"./output_files/mdm_interactions_Run1.csv\")\n",
    "# os.rename(\"trace_tokens_Run1.csv\", \"./output_files/mdm_trace_tokens_Run1.csv\")\n",
    "# os.rename(\"transmission_Run1.csv\", \"./output_files/mdm_transmission_Run1.csv\")"
   ]
  },
  {
   "cell_type": "code",
   "execution_count": 53,
   "id": "0d8e9ecc",
   "metadata": {},
   "outputs": [],
   "source": [
    "# Read files\n",
    "# Read bristol output files\n",
    "bristol_df_indiv = pd.read_csv(join(\"./output_files/bristol_individual_file_Run1.csv\"))\n",
    "bristol_df_interact = pd.read_csv(join(\"./output_files/bristol_interactions_Run1.csv\"))\n",
    "bristol_df_trans = pd.read_csv(join(\"./output_files/bristol_transmission_Run1.csv\"))\n",
    "\n",
    "# Read mdm3 output files\n",
    "mdm_df_indiv = pd.read_csv(join(\"./output_files/mdm_individual_file_Run1.csv\"))\n",
    "mdm_df_interact = pd.read_csv(join(\"./output_files/mdm_interactions_Run1.csv\"))\n",
    "mdm_df_trans = pd.read_csv(join(\"./output_files/mdm_transmission_Run1.csv\"))"
   ]
  },
  {
   "cell_type": "code",
   "execution_count": 15,
   "id": "4e0d5a5b",
   "metadata": {},
   "outputs": [],
   "source": [
    "# read exported df_timeseries data (so you can plot without re-runing)\n",
    "bristol_df_timeseries = pd.read_csv(join(\"bristol_df_timeseries.csv\"))\n",
    "mdm_df_timeseries = pd.read_csv(join(\"mdm_df_timeseries.csv\"))"
   ]
  },
  {
   "cell_type": "code",
   "execution_count": null,
   "id": "dd7a6b19",
   "metadata": {
    "ExecuteTime": {
     "end_time": "2021-10-12T10:08:59.555778Z",
     "start_time": "2021-10-12T10:08:59.555766Z"
    },
    "hidden": true
   },
   "outputs": [],
   "source": [
    "# bc4 = [50.75328904, -1.55764306]\n",
    "# bc4_x, bc4_y = ll2coord(bc4[0],bc4[1])\n",
    "# bc4_xy = np.array([bc4_x,bc4_y])\n",
    "# print(bc4)\n",
    "# print(bc4_xy)"
   ]
  },
  {
   "cell_type": "code",
   "execution_count": null,
   "id": "6178279b",
   "metadata": {
    "ExecuteTime": {
     "end_time": "2021-10-12T10:08:59.557397Z",
     "start_time": "2021-10-12T10:08:59.557380Z"
    },
    "hidden": true
   },
   "outputs": [],
   "source": [
    "# d = np.linalg.norm\n",
    "# df_indiv['d'] = d(df_indiv[['xcoords','ycoords']]-bc4_xy,axis=1)\n",
    "# mind = df_indiv['d'].idxmin()\n",
    "# print(mind)\n",
    "# bc4_house = int(df_indiv.iloc[mind]['house_no'])\n",
    "# print(bc4_house)"
   ]
  },
  {
   "cell_type": "code",
   "execution_count": null,
   "id": "9f99ce6e",
   "metadata": {
    "ExecuteTime": {
     "end_time": "2021-10-12T10:08:59.559268Z",
     "start_time": "2021-10-12T10:08:59.559255Z"
    },
    "hidden": true
   },
   "outputs": [],
   "source": [
    "# x = bristol_model.get_individuals()\n",
    "# x.to_csv('bristol_df_individuals.csv', encoding='utf-8')"
   ]
  },
  {
   "cell_type": "code",
   "execution_count": null,
   "id": "c8666041",
   "metadata": {},
   "outputs": [],
   "source": [
    "### Following Cells are For Plotting from the Extended Output notebook ###"
   ]
  },
  {
   "cell_type": "markdown",
   "id": "0728ff36",
   "metadata": {},
   "source": [
    "# Time series <a class=\"anchor\" id=\"time-series\"></a>\n",
    "Plot the epidemic trajectory and other outputs from the time series file for a single parameter set.  "
   ]
  },
  {
   "cell_type": "code",
   "execution_count": 40,
   "id": "c3da5924",
   "metadata": {
    "scrolled": false
   },
   "outputs": [
    {
     "data": {
      "image/png": "[encoded data removed]",
      "text/plain": [
       "<Figure size 1008x864 with 1 Axes>"
      ]
     },
     "metadata": {
      "needs_background": "light"
     },
     "output_type": "display_data"
    }
   ],
   "source": [
    "x1 = range(len(bristol_df_timeseries))\n",
    "bristol_deaths = pd.read_csv(join(\"../../bristol_msoa_deaths.csv\"))\n",
    "x3 = range(len(bristol_deaths))\n",
    "\n",
    "\n",
    "plt.figure()\n",
    "plt.xlim([0, 100])\n",
    "# plt.ylim([0, 400])\n",
    "\n",
    "# deaths\n",
    "plt.plot(x3, bristol_deaths['Total'], '#0072B2', x1, bristol_df_timeseries['n_death'], '#5672B2')\n",
    "plt.xlabel(\"Day since infection seeded\", size = 18)\n",
    "plt.legend([\"Actual Bristol Deaths\", \"Modelled Deaths\"])\n",
    "\n",
    "plt.show()"
   ]
  },
  {
   "cell_type": "code",
   "execution_count": 41,
   "id": "0018df12",
   "metadata": {},
   "outputs": [
    {
     "data": {
      "image/png": "[encoded data removed]",
      "text/plain": [
       "<Figure size 1008x864 with 1 Axes>"
      ]
     },
     "metadata": {
      "needs_background": "light"
     },
     "output_type": "display_data"
    }
   ],
   "source": [
    "x1 = range(len(bristol_df_timeseries))\n",
    "x2 = range(len(mdm_df_timeseries))\n",
    "\n",
    "bristol_deaths = pd.read_csv(join(\"../../bristol_msoa_deaths.csv\"))\n",
    "x3 = range(len(bristol_deaths))\n",
    "\n",
    "\n",
    "plt.figure()\n",
    "plt.xlim([0, 100])\n",
    "# # cases\n",
    "# plt.subplot(211)\n",
    "# plt.plot(x1, bristol_df_timeseries['total_infected'], 'red', x2, mdm_df_timeseries['total_infected'], 'orange')\n",
    "# plt.legend([\"Bristol Cases\", \"Modeled Cases\"])\n",
    "\n",
    "# # deaths\n",
    "# plt.subplot(212)\n",
    "plt.plot(x3, bristol_deaths['Total'], '#0072B2', x1, bristol_df_timeseries['n_death'], '#0072B2', x2, mdm_df_timeseries['n_death'], '#56B4E9')\n",
    "plt.xlabel(\"Day since infection seeded\", size = 18)\n",
    "plt.legend([\"Actual Bristol Deaths\", \"Modeled Deaths\", \"Simulated Deaths\"])\n",
    "\n",
    "plt.show()"
   ]
  },
  {
   "cell_type": "code",
   "execution_count": 42,
   "id": "05992665",
   "metadata": {
    "scrolled": false
   },
   "outputs": [
    {
     "data": {
      "image/png": "[encoded data removed]",
      "text/plain": [
       "<Figure size 1008x864 with 4 Axes>"
      ]
     },
     "metadata": {
      "needs_background": "light"
     },
     "output_type": "display_data"
    }
   ],
   "source": [
    "# bristol scenario time series plot\n",
    "plt.rcParams['figure.figsize'] = [14, 12]\n",
    "fig, ax = plotting.plot_timeseries_curves(bristol_df_timeseries, xlimits = [0, 100])"
   ]
  },
  {
   "cell_type": "code",
   "execution_count": 43,
   "id": "78263452",
   "metadata": {},
   "outputs": [
    {
     "data": {
      "image/png": "[encoded data removed]",
      "text/plain": [
       "<Figure size 1008x864 with 4 Axes>"
      ]
     },
     "metadata": {
      "needs_background": "light"
     },
     "output_type": "display_data"
    }
   ],
   "source": [
    "# mdm scenario time series plot\n",
    "plt.rcParams['figure.figsize'] = [14, 12]\n",
    "fig, ax = plotting.plot_timeseries_curves(mdm_df_timeseries, xlimits = [0, 100])"
   ]
  },
  {
   "cell_type": "markdown",
   "id": "4dc6342f",
   "metadata": {},
   "source": [
    "# Network type comparison <a class=\"anchor\"></a>\n",
    "Plot the epidemic trajectory and other outputs from the time series file for a single parameter set.  "
   ]
  },
  {
   "cell_type": "code",
   "execution_count": null,
   "id": "e1b09a15",
   "metadata": {},
   "outputs": [],
   "source": [
    "from COVID19.model import AgeGroupEnum, EVENT_TYPES, TransmissionTypeEnum, OccupationNetworkEnum\n",
    "\n",
    "interaction_types = [c.value for c in TransmissionTypeEnum ]\n",
    "interaction_labels = [c.name[1:].title() for c in TransmissionTypeEnum]"
   ]
  },
  {
   "cell_type": "code",
   "execution_count": null,
   "id": "eada899c",
   "metadata": {
    "scrolled": false
   },
   "outputs": [],
   "source": [
    "plt.rcParams['figure.figsize'] = [14, 10]\n",
    "# Count interactions for each individual by \"type\" of interaction\n",
    "df_agg = bristol_df_interact.groupby([\"ID_1\", \"type\"])[\"ID_1\"].count().reset_index(name = \"count\")\n",
    "\n",
    "# Plot histogram of interaction by network type\n",
    "fig, ax = plotting.plot_hist_by_group(df_agg, groupvar = \"type\", binvar = \"count\", \n",
    "    groups = interaction_types, bins = 25, group_colours = plotting.network_colours, \n",
    "    group_labels = interaction_labels, \n",
    "    xlabel = \"Number of daily connections\", \n",
    "    title = \"Bristol Number of daily interactions by network type\", \n",
    "    legend_title = \"Network type\")"
   ]
  },
  {
   "cell_type": "code",
   "execution_count": null,
   "id": "2b23b8dd",
   "metadata": {},
   "outputs": [],
   "source": [
    "plt.rcParams['figure.figsize'] = [14, 10]\n",
    "# Count interactions for each individual by \"type\" of interaction\n",
    "df_agg = mdm_df_interact.groupby([\"ID_1\", \"type\"])[\"ID_1\"].count().reset_index(name = \"count\")\n",
    "\n",
    "# Plot histogram of interaction by network type\n",
    "fig, ax = plotting.plot_hist_by_group(df_agg, groupvar = \"type\", binvar = \"count\", \n",
    "    groups = interaction_types, bins = 25, group_colours = plotting.network_colours, \n",
    "    group_labels = interaction_labels, \n",
    "    xlabel = \"Number of daily connections\", \n",
    "    title = \"MDM Number of daily interactions by network type\", \n",
    "    legend_title = \"Network type\")"
   ]
  },
  {
   "cell_type": "code",
   "execution_count": null,
   "id": "2dfbdec0",
   "metadata": {},
   "outputs": [],
   "source": [
    "plt.rcParams['figure.figsize'] = [12, 12]\n",
    "groupvars = [\"time_infected\", \"time_recovered\", \"time_death\"]\n",
    "labels = [\"Infected\", \"Recovered\", \"Deaths\"]\n",
    "fig, ax = plotting.PlotHistByAge(bristol_df_trans, groupvars = groupvars, group_labels = labels,\n",
    "    NBINS = n_age -1 , density = True, xticklabels = age_group_labels, xlabel = \"Age group\",\n",
    "    ylim = 0.5, age_group_var = \"age_group_recipient\")"
   ]
  },
  {
   "cell_type": "markdown",
   "id": "0dfade5e",
   "metadata": {},
   "source": [
    "# GIS Plots"
   ]
  },
  {
   "cell_type": "code",
   "execution_count": null,
   "id": "5045046b",
   "metadata": {},
   "outputs": [],
   "source": [
    "iow_path = '../../id_spatial_sim/scenarios/mdm3_scenario/output/networks'\n",
    "model_iow = ImperialNetwork(iow_path)\n",
    "iow_msoa = pd.read_csv('../../id_spatial_sim/scenarios/mdm3_scenario/msoaLists/bristol_msoa.csv')"
   ]
  },
  {
   "cell_type": "code",
   "execution_count": null,
   "id": "4c2c58b2",
   "metadata": {},
   "outputs": [],
   "source": [
    "msoaShapefilesPath = '../../id_spatial_sim/data/msoa_shapefile/Middle_Layer_Super_Output_Areas_(December_2011)_Boundaries.shp'\n",
    "msoaShapefiles = gpd.read_file(msoaShapefilesPath)"
   ]
  },
  {
   "cell_type": "code",
   "execution_count": null,
   "id": "1ed7e5d1",
   "metadata": {},
   "outputs": [],
   "source": [
    "polygons = [msoaShapefiles.loc[msoaShapefiles['msoa11cd']==x]['geometry'] for x in list(iow_msoa['msoa11cd'])]"
   ]
  },
  {
   "cell_type": "code",
   "execution_count": null,
   "id": "b237e1bd",
   "metadata": {},
   "outputs": [],
   "source": [
    "# Combine and plot the shapefiles for overlapping area\n",
    "sf_iow = polygons[0]\n",
    "for i in range(len(polygons)):\n",
    "    sf_iow = sf_iow.union(polygons[i],align=False)\n",
    "sf_iow = sf_iow.to_crs(\"WGS84\") #d weird GIS projectoins\n",
    "# sf_iow.plot()"
   ]
  },
  {
   "cell_type": "code",
   "execution_count": null,
   "id": "e901c79f",
   "metadata": {},
   "outputs": [],
   "source": [
    "def IndividualSeries(model):\n",
    "    return gpd.GeoSeries([Point(coord2ll_listIn(x)) for x in np.array(model.get_individuals()[['xcoords','ycoords']])])"
   ]
  },
  {
   "cell_type": "code",
   "execution_count": null,
   "id": "fbc660f5",
   "metadata": {},
   "outputs": [],
   "source": [
    "def InfectedSeries(model):\n",
    "    I = Infected(model)\n",
    "    X = [Point(coord2ll_listIn(x[1:])) for x in np.array(model.get_individuals()[['ID','xcoords','ycoords']]) if x[0] in I]\n",
    "    return gpd.GeoSeries(X)"
   ]
  },
  {
   "cell_type": "code",
   "execution_count": null,
   "id": "e480571c",
   "metadata": {},
   "outputs": [],
   "source": [
    "X = IndividualSeries(model_iow)\n",
    "projection=gcrs.WebMercator()\n",
    "ax = gplt.webmap(X,figsize=(100,100))\n",
    "gplt.pointplot(X,ax=ax,color='orange')"
   ]
  },
  {
   "cell_type": "code",
   "execution_count": null,
   "id": "4641c158",
   "metadata": {},
   "outputs": [],
   "source": [
    "# Infect and run\n",
    "for i in range(10):\n",
    "    model_iow.new_infection_by_idx(i,0,0,0)\n",
    "for i in tqdm(range(16)):\n",
    "    model_iow.one_time_step()\n",
    "# model_iow.one_time_step_results()"
   ]
  },
  {
   "cell_type": "code",
   "execution_count": null,
   "id": "def01e05",
   "metadata": {},
   "outputs": [],
   "source": [
    "# Hip kinda heatmap of infected overlayed on actual map\n",
    "# Takes a while\n",
    "X = IndividualSeries(model_iow)\n",
    "ax = gplt.webmap(X,figsize=(100,100))\n",
    "gplt.kdeplot(InfectedSeries(model_iow),shade=True, cmap='Reds',alpha=0.25,ax=ax)\n",
    "gplt.kdeplot(X,shade=True,alpha=0.0,ax=ax,clip=sf_iow) #d a hacky way to not 'zoom' into to only the area infected are"
   ]
  },
  {
   "cell_type": "code",
   "execution_count": null,
   "id": "82a79bbf",
   "metadata": {},
   "outputs": [],
   "source": [
    "def VisualiseNetwork_WithMap(model, ax, aNode = 1/2**7, aEdge = 1/2**7):\n",
    "    nodes = model.get_individuals()\n",
    "    nodes_pos = {nodes['ID'][i]:[nodes['xcoords'][i],nodes['ycoords'][i]] for i in range(len(nodes))}\n",
    "    infected = Infected(model)\n",
    "    quarantined = Lockdowned(model)\n",
    "    g = nx.Graph()\n",
    "    #g = nx.from_pandas_edgelist(ocNetworksArcs_df_dict['primary'],'ID_1','ID_2',create_using=nx.Graph())\n",
    "    g.add_nodes_from(nodes['ID'])\n",
    "    g_infected = nx.subgraph(g,infected)\n",
    "    g_quarantined = nx.subgraph(g,quarantined)\n",
    "    #f,ax = plt.subplots(figsize=(20,10))\n",
    "    ax = gplt.webmap(X,figsize=(20,10))\n",
    "    nx.draw(g,pos=nodes_pos,node_size=5,edge_color=AddTransparency(hadeanOrange,aEdge),node_color=AddTransparency(hadeanIndigo,aNode),ax=ax)\n",
    "    nx.draw_networkx_nodes(g_quarantined,pos=nodes_pos,node_size=5,node_color=AddTransparency(uranianBlue,0.02),ax=ax)\n",
    "    nx.draw_networkx_nodes(g_infected,pos=nodes_pos,node_size=5,node_color=AddTransparency(hadeanOrange,0.9),ax=ax)\n",
    "    \n",
    "    gplt.pointplot(X,ax=ax,color='orange')"
   ]
  },
  {
   "cell_type": "code",
   "execution_count": null,
   "id": "0e6641bf",
   "metadata": {},
   "outputs": [],
   "source": [
    "# Run several time-steps and produce many PNGs to be converted to a GIF\n",
    "def RunSim_WithMap(model, out_dir=gif_out, n=64, title_text='Spread of COVID-19 on an artificial network of Bristol'):\n",
    "    for i in tqdm(range(n)):\n",
    "        f,ax = plt.subplots(figsize=(20,10))\n",
    "        t = model.one_time_step_results()['time']        \n",
    "        VisualiseNetwork(model,ax)\n",
    "        plt.title(title_text,fontsize=32)\n",
    "        agentPatch = Line2D([0],[0],marker='o',linestyle='none',color=AddTransparency(hadeanIndigo,aNode),label='Agent')\n",
    "        conPatch = Line2D([0],[0],marker='o',linestyle='none',color=AddTransparency(hadeanOrange,0.9),label='Contagious')\n",
    "        lg1 = plt.legend(handles=[agentPatch,conPatch],fontsize=16)\n",
    "        text = \"Time = \"+\"{:04d}\".format(t)\n",
    "        textPatch = Line2D([0],[0],linestyle='none',label=text)\n",
    "        ax.legend(handles=[textPatch],loc='lower left',frameon=False)\n",
    "        ax.add_artist(lg1)\n",
    "        print(out_dir+\"{:04d}\".format(t)+'.png')\n",
    "        f.savefig(out_dir+\"{:04d}\".format(t)+'.png')\n",
    "        model.one_time_step()\n",
    "        ax.clear()\n",
    "        plt.clf()"
   ]
  }
 ],
 "metadata": {
  "kernelspec": {
   "display_name": "Python 3 (ipykernel)",
   "language": "python",
   "name": "python3"
  },
  "language_info": {
   "codemirror_mode": {
    "name": "ipython",
    "version": 3
   },
   "file_extension": ".py",
   "mimetype": "text/x-python",
   "name": "python",
   "nbconvert_exporter": "python",
   "pygments_lexer": "ipython3",
   "version": "3.9.7"
  },
  "latex_envs": {
   "LaTeX_envs_menu_present": true,
   "autoclose": false,
   "autocomplete": true,
   "bibliofile": "biblio.bib",
   "cite_by": "apalike",
   "current_citInitial": 1,
   "eqLabelWithNumbers": true,
   "eqNumInitial": 1,
   "hotkeys": {
    "equation": ""
   },
   "labels_anchors": false,
   "latex_user_defs": false,
   "report_style_numbering": false,
   "user_envs_cfg": false
  },
  "toc": {
   "base_numbering": 1,
   "nav_menu": {},
   "number_sections": true,
   "sideBar": true,
   "skip_h1_title": false,
   "title_cell": "Table of Contents",
   "title_sidebar": "Contents",
   "toc_cell": false,
   "toc_position": {},
   "toc_section_display": true,
   "toc_window_display": false
  }
 },
 "nbformat": 4,
 "nbformat_minor": 5
}
