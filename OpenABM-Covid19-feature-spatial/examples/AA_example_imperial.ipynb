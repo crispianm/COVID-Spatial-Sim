{
 "cells": [
  {
   "cell_type": "markdown",
   "id": "922fc926",
   "metadata": {
    "heading_collapsed": true
   },
   "source": [
    "# Preliminaries"
   ]
  },
  {
   "cell_type": "markdown",
   "id": "f402692d",
   "metadata": {
    "hidden": true
   },
   "source": [
    "## Libraries"
   ]
  },
  {
   "cell_type": "code",
   "execution_count": 2,
   "id": "f57f3045",
   "metadata": {},
   "outputs": [],
   "source": [
    "# import sys\n",
    "# sys.path = ['', '/home/linuxbrew/.linuxbrew/Cellar/python@3.9/3.9.7_1/lib/python39.zip', '/home/linuxbrew/.linuxbrew/Cellar/python@3.9/3.9.7_1/lib/python3.9', '/home/linuxbrew/.linuxbrew/Cellar/python@3.9/3.9.7_1/lib/python3.9/lib-dynload', '/home/linuxbrew/.linuxbrew/Cellar/python@3.9/3.9.7_1/lib/python3.9/site-packages', '/mnt/c/Users/crisp/Desktop/MDM3/OpenABM-Covid19-feature-spatial/src']"
   ]
  },
  {
   "cell_type": "code",
   "execution_count": 3,
   "id": "c67af068",
   "metadata": {
    "ExecuteTime": {
     "end_time": "2021-10-12T10:08:33.844747Z",
     "start_time": "2021-10-12T10:08:32.081995Z"
    },
    "hidden": true,
    "scrolled": true
   },
   "outputs": [],
   "source": [
    "%matplotlib inline\n",
    "from os.path import join\n",
    "from IPython.core.display import display, HTML\n",
    "import plotting\n",
    "\n",
    "import example_utils as utils\n",
    "import pandas as pd\n",
    "import os\n",
    "import numpy as np\n",
    "import matplotlib.pyplot as plt\n",
    "from tqdm.notebook import tqdm\n",
    "import networkx as nx\n",
    "import ipywidgets\n",
    "\n",
    "from shapely.ops import unary_union\n",
    "import shapely.speedups\n",
    "from shapely.geometry import Polygon, LineString, Point\n",
    "\n",
    "# Graphing\n",
    "import geoplot as gplt\n",
    "import geoplot.crs as gcrs\n",
    "import geopandas as gpd\n"
   ]
  },
  {
   "cell_type": "markdown",
   "id": "8cf938ed",
   "metadata": {
    "ExecuteTime": {
     "end_time": "2021-09-17T14:41:19.681042Z",
     "start_time": "2021-09-17T14:41:19.674783Z"
    },
    "hidden": true
   },
   "source": [
    "## Hadean Colour scheme\n",
    "But feel free to choose your own."
   ]
  },
  {
   "cell_type": "code",
   "execution_count": 4,
   "id": "6051cb68",
   "metadata": {
    "ExecuteTime": {
     "end_time": "2021-10-12T10:08:33.939608Z",
     "start_time": "2021-10-12T10:08:33.934592Z"
    },
    "hidden": true
   },
   "outputs": [],
   "source": [
    "# Hadean colour scheme\n",
    "hadeanOrange = '#FF9448'\n",
    "hadeanIndigo = '#27203B'\n",
    "hadeanCoral = '#FF5C37'\n",
    "hadeanCopper = '#D66444'\n",
    "uranianBlue = '#AFDBF5'"
   ]
  },
  {
   "cell_type": "code",
   "execution_count": 5,
   "id": "b0a17725",
   "metadata": {
    "ExecuteTime": {
     "end_time": "2021-10-12T10:08:33.949757Z",
     "start_time": "2021-10-12T10:08:33.942407Z"
    },
    "hidden": true
   },
   "outputs": [],
   "source": [
    "def AddTransparency(c,a):\n",
    "    b = format(max(int(255*a),0),'02X')\n",
    "    return c+str(b[-2:])"
   ]
  },
  {
   "cell_type": "markdown",
   "id": "f92ca7ab",
   "metadata": {
    "hidden": true
   },
   "source": [
    "## Chris' Imperial functions"
   ]
  },
  {
   "cell_type": "code",
   "execution_count": 6,
   "id": "0db37aed",
   "metadata": {
    "ExecuteTime": {
     "end_time": "2021-10-12T10:08:33.960922Z",
     "start_time": "2021-10-12T10:08:33.951794Z"
    },
    "hidden": true
   },
   "outputs": [],
   "source": [
    "def convert_imperial_network_edges_to_oxford_network_edges(network_data):\n",
    "    network_data.rename(columns = {'a.index': 'ID_1', 'b.index': 'ID_2'}, inplace=True)\n",
    "    return network_data\n",
    "\n",
    "def convert_imperial_node_data_to_oxford_node_data(person_node_data, index_to_label_network_with):\n",
    "    person_node_data.rename(columns = {'index': 'ID',\n",
    "                                       'household.index': 'house_no',\n",
    "                                       'age': 'age_group',\n",
    "                                       'coord.x': 'x',\n",
    "                                       'coord.y': 'y'}, inplace=True)\n",
    "\n",
    "    person_node_data['network_no'] = (np.zeros(len(person_node_data)) + index_to_label_network_with)\n",
    "\n",
    "    # Convert the age to age group (the decade age group of the person and is an integer between 0 (0-9 years) and 8 (80+).)\n",
    "    person_node_data['age_group'] = person_node_data['age_group'].apply(lambda x: int(x / 10))\n",
    "\n",
    "    #print(person_node_data) # CA remove\n",
    "\n",
    "    return person_node_data"
   ]
  },
  {
   "cell_type": "markdown",
   "id": "da096abd",
   "metadata": {
    "ExecuteTime": {
     "end_time": "2021-09-27T18:08:45.958625Z",
     "start_time": "2021-09-27T18:08:45.955890Z"
    },
    "hidden": true
   },
   "source": [
    "## Very-much-draft Coordinate functions"
   ]
  },
  {
   "cell_type": "code",
   "execution_count": 7,
   "id": "e8fbc6b3",
   "metadata": {
    "ExecuteTime": {
     "end_time": "2021-10-12T10:08:33.974738Z",
     "start_time": "2021-10-12T10:08:33.963265Z"
    },
    "hidden": true
   },
   "outputs": [],
   "source": [
    "def coord2ll(x,y):\n",
    "    return np.array([y,x]) * 57.2957795131\n",
    "\n",
    "def ll2coord(long,lat):\n",
    "    return np.array([lat,long]) / 57.2957795131\n",
    "\n",
    "def coord2ll_listIn(x):\n",
    "    return coord2ll(x[1],x[0])\n",
    "\n",
    "def ll2coord_list(x):\n",
    "    return ll2coord(x[1],x[0])\n"
   ]
  },
  {
   "cell_type": "markdown",
   "id": "d26096c5",
   "metadata": {
    "hidden": true
   },
   "source": [
    "## Load Networks"
   ]
  },
  {
   "cell_type": "code",
   "execution_count": 8,
   "id": "c5e06a1e",
   "metadata": {
    "ExecuteTime": {
     "end_time": "2021-10-12T10:08:33.988378Z",
     "start_time": "2021-10-12T10:08:33.976977Z"
    },
    "hidden": true
   },
   "outputs": [],
   "source": [
    "##########################\n",
    "# Load Network Functions #\n",
    "##########################\n",
    "\n",
    "# Take path of _nodes.csv\n",
    "def LoadDemographics(demoPath):\n",
    "    df_household_demographics = pd.read_csv(demoPath, comment=\"#\", sep=\",\", skipinitialspace=True)\n",
    "    # Converting we use network_no=0, as that's for household network\n",
    "    df_household_demographics = convert_imperial_node_data_to_oxford_node_data(df_household_demographics,0)\n",
    "    return df_household_demographics\n",
    "\n",
    "def CoordsFromDemo(df_household_demographics):\n",
    "    df_coordinates = df_household_demographics.rename(columns={'x':'xcoords','y':'ycoords'})[['ID','xcoords','ycoords']]\n",
    "    return df_coordinates\n",
    "\n",
    "def LoadOccupationNetworks(projPath,prefix='bristol'):\n",
    "    ocNetworksArcs_df_dict = {}\n",
    "    ocNetworksArcs_colNames = ['ID_1','a.x','a.y','ID_2','b.x','b.y']\n",
    "    network_name = np.array(['primary', 'secondary', 'general_workforce', 'retired', 'elderly'])\n",
    "\n",
    "    # Can find network assignment by the a.index for each _i_arcs.csv\n",
    "    for i,x in enumerate(tqdm(network_name)):\n",
    "        print([i,x])\n",
    "        ocNetworksArcs_df_dict[x] = pd.read_csv(projPath+'/'+prefix+\"_\"+str(i)+\"_arcs.csv\", comment=\"#\", sep=\",\", skipinitialspace=True)\n",
    "        ocNetworksArcs_df_dict[x].columns = ocNetworksArcs_colNames\n",
    "    \n",
    "    return ocNetworksArcs_df_dict\n",
    "\n",
    "###################\n",
    "# Parameter stuff #\n",
    "###################\n",
    "\n",
    "def LoadParams(df_household_demographics,params=None):\n",
    "    if params == None:\n",
    "        params = utils.get_baseline_parameters()\n",
    "    n_total = len(df_household_demographics[\"ID\"])\n",
    "    params.set_param(\"n_total\",n_total)\n",
    "    params.set_demographic_household_table(df_household_demographics)\n",
    "    return params\n",
    "\n",
    "def LoadNetworks(model,ocNetworksArcs_df_dict,daily_fration=0.5):\n",
    "    for i,net in enumerate(ocNetworksArcs_df_dict):\n",
    "        model.delete_network(model.get_network_by_id(i+2))\n",
    "        model.add_user_network(ocNetworksArcs_df_dict[net],name=net,daily_fraction=daily_fration)\n",
    "\n",
    "def ImperialNetwork(netPath,n_infect=10,prefix='bristol'):\n",
    "    df_household_demographics = LoadDemographics(netPath+'/'+prefix+'_0_nodes.csv')\n",
    "    df_coordinates = CoordsFromDemo(df_household_demographics)\n",
    "    ocNetworksArcs_df_dict = LoadOccupationNetworks(netPath)\n",
    "    params = LoadParams(df_household_demographics)\n",
    "    params.set_param(\"n_seed_infection\",n_infect)\n",
    "    model = utils.get_simulation( params ).env.model\n",
    "    model.assign_coordinates_individuals(df_coordinates)\n",
    "    LoadNetworks(model,ocNetworksArcs_df_dict)\n",
    "    return model"
   ]
  },
  {
   "cell_type": "code",
   "execution_count": 24,
   "id": "ecdf9c7d",
   "metadata": {},
   "outputs": [],
   "source": [
    "def LockdownInRadius(model,target,r,n=14):\n",
    "    indivs = model.get_individuals()\n",
    "    indivs = RadiusIndividual(model,target,r)\n",
    "    t = model.one_time_step_results()['time']\n",
    "    for i in indivs:\n",
    "        model.intervention_quarantine_until_by_idx(i,0,t+n,0)"
   ]
  },
  {
   "cell_type": "code",
   "execution_count": 10,
   "id": "294bfeb8",
   "metadata": {},
   "outputs": [],
   "source": [
    "def RadiusIndividual(model,target,r,d=np.linalg.norm):\n",
    "    x = model.get_individuals()\n",
    "    x['d'] = d(x[['xcoords','ycoords']]-target,axis=1)\n",
    "    x = x.loc[x['d']<=r]\n",
    "    return list(x['ID'])"
   ]
  },
  {
   "cell_type": "markdown",
   "id": "e42d3cb5",
   "metadata": {
    "heading_collapsed": true
   },
   "source": [
    "# Visualise Network"
   ]
  },
  {
   "cell_type": "code",
   "execution_count": 11,
   "id": "c9a80e08",
   "metadata": {
    "ExecuteTime": {
     "end_time": "2021-10-12T10:08:33.999872Z",
     "start_time": "2021-10-12T10:08:33.990716Z"
    },
    "hidden": true
   },
   "outputs": [],
   "source": [
    "statuses2Track = [1,2,3,4,5,6,7,8,20] # In model.py, v. difficult to find\n",
    "statuses2Track = [4,5]\n",
    "\n",
    "def Infected(model):\n",
    "    x = model.get_individuals()\n",
    "    x = x.loc[x['current_status'].isin(statuses2Track)]\n",
    "    return list(x['ID'])"
   ]
  },
  {
   "cell_type": "code",
   "execution_count": 12,
   "id": "48ddff6f",
   "metadata": {
    "ExecuteTime": {
     "end_time": "2021-10-12T10:08:34.009696Z",
     "start_time": "2021-10-12T10:08:34.002249Z"
    },
    "hidden": true
   },
   "outputs": [],
   "source": [
    "# scarrily current_status does not seem to change when quarantined\n",
    "def Lockdowned(model):\n",
    "    x = model.get_individuals()\n",
    "    x = x.loc[x['quarantined'] == 1]\n",
    "    return list(x['ID'])"
   ]
  },
  {
   "cell_type": "code",
   "execution_count": 13,
   "id": "506fb7f7",
   "metadata": {
    "ExecuteTime": {
     "end_time": "2021-10-12T10:08:34.491501Z",
     "start_time": "2021-10-12T10:08:34.015358Z"
    },
    "hidden": true
   },
   "outputs": [],
   "source": [
    "def VisualiseNetwork(model,ax,aNode = 1/2**7,aEdge = 1/2**7):\n",
    "    # Correct function!\n",
    "    nodes = model.get_individuals()\n",
    "    nodes_pos = {nodes['ID'][i]:[nodes['xcoords'][i],nodes['ycoords'][i]] for i in range(len(nodes))}\n",
    "    infected = Infected(model)\n",
    "    quarantined = Lockdowned(model)\n",
    "    g = nx.Graph()\n",
    "    #g = nx.from_pandas_edgelist(ocNetworksArcs_df_dict['primary'],'ID_1','ID_2',create_using=nx.Graph())\n",
    "    g.add_nodes_from(nodes['ID'])\n",
    "    g_infected = nx.subgraph(g,infected)\n",
    "    g_quarantined = nx.subgraph(g,quarantined)\n",
    "    #f,ax = plt.subplots(figsize=(20,10))\n",
    "    nx.draw(g,pos=nodes_pos,node_size=5,edge_color=AddTransparency(hadeanOrange,aEdge),node_color=AddTransparency(hadeanIndigo,aNode),ax=ax)\n",
    "    nx.draw_networkx_nodes(g_quarantined,pos=nodes_pos,node_size=5,node_color=AddTransparency(uranianBlue,0.02),ax=ax)\n",
    "    nx.draw_networkx_nodes(g_infected,pos=nodes_pos,node_size=5,node_color=AddTransparency(hadeanOrange,0.9),ax=ax)"
   ]
  },
  {
   "cell_type": "code",
   "execution_count": 14,
   "id": "7a3b5f8a",
   "metadata": {
    "ExecuteTime": {
     "end_time": "2021-10-12T10:08:59.357020Z",
     "start_time": "2021-10-12T10:08:34.497444Z"
    },
    "hidden": true,
    "scrolled": true
   },
   "outputs": [],
   "source": [
    "bristol_net_dir = \"../../id_spatial_sim/scenarios/bristol/output/networks\"\n",
    "mdm_net_dir = \"../../id_spatial_sim/scenarios/mdm3_scenario/output/networks\"\n",
    "# test_model = ImperialNetwork(bristol_net_dir)\n",
    "# f,ax = plt.subplots(figsize=(20,10))\n",
    "# VisualiseNetwork(test_model,ax)"
   ]
  },
  {
   "cell_type": "code",
   "execution_count": 15,
   "id": "6ac3f468",
   "metadata": {
    "ExecuteTime": {
     "end_time": "2021-10-12T10:14:50.479718Z",
     "start_time": "2021-10-12T10:14:50.475760Z"
    },
    "hidden": true
   },
   "outputs": [],
   "source": [
    "n = 128\n",
    "aNode = 1/2**7\n",
    "aEdge = 1/2**7\n",
    "bristol_gif_out = '../../NetworkData/bristol/'\n",
    "mdm_gif_out = '../../NetworkData/mdm/'\n",
    "gif_out = '../../NetworkData/'"
   ]
  },
  {
   "cell_type": "code",
   "execution_count": 16,
   "id": "e293ec09",
   "metadata": {
    "ExecuteTime": {
     "end_time": "2021-10-12T10:14:53.130643Z",
     "start_time": "2021-10-12T10:14:50.718942Z"
    },
    "hidden": true
   },
   "outputs": [],
   "source": [
    "from matplotlib.lines import Line2D\n",
    "\n",
    "# Run several time-steps and produce many PNGs to be converted to a GIF\n",
    "def RunSim(model, out_dir=gif_out, n=64, title_text='Spread of COVID-19 on an artificial network of Bristol'):\n",
    "    for i in tqdm(range(n)):\n",
    "        f,ax = plt.subplots(figsize=(20,10))\n",
    "        t = model.one_time_step_results()['time']\n",
    "        #VisualiseNetwork(model,ax)\n",
    "        plt.title(title_text,fontsize=32)\n",
    "        agentPatch = Line2D([0],[0],marker='o',linestyle='none',color=AddTransparency(hadeanIndigo,aNode),label='Agent')\n",
    "        conPatch = Line2D([0],[0],marker='o',linestyle='none',color=AddTransparency(hadeanOrange,0.9),label='Contagious')\n",
    "        lg1 = plt.legend(handles=[agentPatch,conPatch],fontsize=16)\n",
    "        text = \"Time = \"+\"{:04d}\".format(t)\n",
    "        textPatch = Line2D([0],[0],linestyle='none',label=text)\n",
    "        ax.legend(handles=[textPatch],loc='lower left',frameon=False)\n",
    "        ax.add_artist(lg1)\n",
    "        print(out_dir+\"{:04d}\".format(t)+'.png')\n",
    "        f.savefig(out_dir+\"{:04d}\".format(t)+'.png')\n",
    "        model.one_time_step()\n",
    "        ax.clear()\n",
    "        plt.clf()\n",
    "    \n",
    "# Then use a `convert ./out_dir/*.png ./net.gif` from terminal"
   ]
  },
  {
   "cell_type": "markdown",
   "id": "69370dd6",
   "metadata": {
    "heading_collapsed": true
   },
   "source": [
    "# Seeding\n",
    "For the Hotwells/Bristol."
   ]
  },
  {
   "cell_type": "code",
   "execution_count": 40,
   "id": "fc9f2f00",
   "metadata": {
    "ExecuteTime": {
     "end_time": "2021-10-12T10:08:59.554650Z",
     "start_time": "2021-10-12T10:08:59.554637Z"
    },
    "hidden": true
   },
   "outputs": [
    {
     "data": {
      "application/vnd.jupyter.widget-view+json": {
       "model_id": "2c7783231af5451eabc685879d109bd3",
       "version_major": 2,
       "version_minor": 0
      },
      "text/plain": [
       "  0%|          | 0/5 [00:00<?, ?it/s]"
      ]
     },
     "metadata": {},
     "output_type": "display_data"
    },
    {
     "name": "stdout",
     "output_type": "stream",
     "text": [
      "[0, 'primary']\n",
      "[1, 'secondary']\n",
      "[2, 'general_workforce']\n",
      "[3, 'retired']\n",
      "[4, 'elderly']\n",
      "\n",
      "Bristol model generated. \n",
      "\n"
     ]
    },
    {
     "data": {
      "application/vnd.jupyter.widget-view+json": {
       "model_id": "a09193f383ab4df4a04472e8f88e7a3c",
       "version_major": 2,
       "version_minor": 0
      },
      "text/plain": [
       "  0%|          | 0/5 [00:00<?, ?it/s]"
      ]
     },
     "metadata": {},
     "output_type": "display_data"
    },
    {
     "name": "stdout",
     "output_type": "stream",
     "text": [
      "[0, 'primary']\n",
      "[1, 'secondary']\n",
      "[2, 'general_workforce']\n",
      "[3, 'retired']\n",
      "[4, 'elderly']\n",
      "\n",
      "MDM model generated. \n",
      "\n",
      "\n",
      "\n"
     ]
    }
   ],
   "source": [
    "# replace bc4 with the coords of your desired location\n",
    "long,lat = coord2ll(1.0,-.1)\n",
    "x,y = ll2coord(long,lat)\n",
    "\n",
    "# ASSL coords\n",
    "bc4 = [51.45951819, -2.60148918]\n",
    "bc4_x, bc4_y = ll2coord(bc4[0],bc4[1])\n",
    "bc4_xy = np.array([bc4_x,bc4_y])\n",
    "# print([bc4_x, bc4_y])\n",
    "\n",
    "\n",
    "\n",
    "bristol_model = ImperialNetwork(bristol_net_dir)\n",
    "bristol_df_indiv = bristol_model.get_individuals()\n",
    "print(\"\\nBristol model generated. \\n\")\n",
    "\n",
    "mdm_model = ImperialNetwork(mdm_net_dir)\n",
    "mdm_df_indiv = mdm_model.get_individuals()\n",
    "print(\"\\nMDM model generated. \\n\")\n",
    "\n",
    "\n",
    "\n",
    "d = np.linalg.norm\n",
    "bristol_df_indiv['d'] = d(bristol_df_indiv[['xcoords','ycoords']]-bc4_xy,axis=1)\n",
    "mdm_df_indiv['d'] = d(mdm_df_indiv[['xcoords','ycoords']]-bc4_xy,axis=1)\n",
    "\n",
    "\n",
    "\n",
    "bristol_mind = bristol_df_indiv['d'].idxmin()\n",
    "bristol_bc4_house = int(bristol_df_indiv.iloc[bristol_mind]['house_no'])\n",
    "# print(bristol_df_indiv.iloc[bristol_mind])\n",
    "# print(coord2ll(bristol_df_indiv.iloc[bristol_mind]['xcoords'],bristol_df_indiv.iloc[bristol_mind]['ycoords']))\n",
    "\n",
    "print('\\n')\n",
    "\n",
    "mdm_mind = mdm_df_indiv['d'].idxmin()\n",
    "mdm_bc4_house = int(mdm_df_indiv.iloc[mdm_mind]['house_no'])\n",
    "# print(mdm_df_indiv.iloc[mdm_mind])\n",
    "# print(coord2ll(mdm_df_indiv.iloc[mdm_mind]['xcoords'],mdm_df_indiv.iloc[mdm_mind]['ycoords']))\n",
    "\n",
    "\n",
    "\n",
    "coord2ll(bristol_df_indiv.iloc[bristol_mind]['xcoords'],bristol_df_indiv.iloc[bristol_mind]['ycoords'])\n",
    "coord2ll(mdm_df_indiv.iloc[mdm_mind]['xcoords'],mdm_df_indiv.iloc[mdm_mind]['ycoords'])\n",
    "\n",
    "\n",
    "\n",
    "bristol_df_indiv.loc[bristol_df_indiv['house_no']==bristol_bc4_house]\n",
    "mdm_df_indiv.loc[mdm_df_indiv['house_no']==mdm_bc4_house]\n",
    "\n",
    "\n",
    "\n",
    "\n",
    "bristol_bc4_indivs = [x for x in list(bristol_df_indiv.loc[bristol_df_indiv['house_no']==bristol_bc4_house]['ID'])]\n",
    "mdm_df_indiv = [x for x in list(mdm_df_indiv.loc[mdm_df_indiv['house_no']==mdm_bc4_house]['ID'])]\n",
    "\n",
    "\n",
    "\n",
    "for i in bristol_bc4_indivs:\n",
    "    bristol_model.seed_infect_by_idx(i)\n",
    "    \n",
    "for i in mdm_df_indiv:\n",
    "    mdm_model.seed_infect_by_idx(i)"
   ]
  },
  {
   "cell_type": "code",
   "execution_count": 41,
   "id": "7f62a7bb",
   "metadata": {},
   "outputs": [
    {
     "name": "stdout",
     "output_type": "stream",
     "text": [
      "0.0003553145333293785\n"
     ]
    },
    {
     "data": {
      "application/vnd.jupyter.widget-view+json": {
       "model_id": "a24966a9c4b44fe6a5fbba6f8e6ae78c",
       "version_major": 2,
       "version_minor": 0
      },
      "text/plain": [
       "  0%|          | 0/40 [00:00<?, ?it/s]"
      ]
     },
     "metadata": {},
     "output_type": "display_data"
    },
    {
     "name": "stdout",
     "output_type": "stream",
     "text": [
      "../../NetworkData/bristol/0000.png\n",
      "../../NetworkData/bristol/0001.png\n",
      "../../NetworkData/bristol/0002.png\n",
      "../../NetworkData/bristol/0003.png\n",
      "../../NetworkData/bristol/0004.png\n",
      "../../NetworkData/bristol/0005.png\n",
      "../../NetworkData/bristol/0006.png\n",
      "../../NetworkData/bristol/0007.png\n",
      "../../NetworkData/bristol/0008.png\n",
      "../../NetworkData/bristol/0009.png\n",
      "../../NetworkData/bristol/0010.png\n",
      "../../NetworkData/bristol/0011.png\n",
      "../../NetworkData/bristol/0012.png\n",
      "../../NetworkData/bristol/0013.png\n",
      "../../NetworkData/bristol/0014.png\n",
      "../../NetworkData/bristol/0015.png\n",
      "../../NetworkData/bristol/0016.png\n",
      "../../NetworkData/bristol/0017.png\n",
      "../../NetworkData/bristol/0018.png\n",
      "../../NetworkData/bristol/0019.png\n"
     ]
    },
    {
     "name": "stderr",
     "output_type": "stream",
     "text": [
      "/tmp/ipykernel_106/1791490980.py:6: RuntimeWarning: More than 20 figures have been opened. Figures created through the pyplot interface (`matplotlib.pyplot.figure`) are retained until explicitly closed and may consume too much memory. (To control this warning, see the rcParam `figure.max_open_warning`).\n",
      "  f,ax = plt.subplots(figsize=(20,10))\n"
     ]
    },
    {
     "name": "stdout",
     "output_type": "stream",
     "text": [
      "../../NetworkData/bristol/0020.png\n",
      "../../NetworkData/bristol/0021.png\n",
      "../../NetworkData/bristol/0022.png\n",
      "../../NetworkData/bristol/0023.png\n",
      "../../NetworkData/bristol/0024.png\n",
      "../../NetworkData/bristol/0025.png\n",
      "../../NetworkData/bristol/0026.png\n",
      "../../NetworkData/bristol/0027.png\n",
      "../../NetworkData/bristol/0028.png\n",
      "../../NetworkData/bristol/0029.png\n",
      "../../NetworkData/bristol/0030.png\n",
      "../../NetworkData/bristol/0031.png\n",
      "../../NetworkData/bristol/0032.png\n",
      "../../NetworkData/bristol/0033.png\n",
      "../../NetworkData/bristol/0034.png\n",
      "../../NetworkData/bristol/0035.png\n",
      "../../NetworkData/bristol/0036.png\n",
      "../../NetworkData/bristol/0037.png\n",
      "../../NetworkData/bristol/0038.png\n",
      "../../NetworkData/bristol/0039.png\n"
     ]
    },
    {
     "data": {
      "application/vnd.jupyter.widget-view+json": {
       "model_id": "2417d2e9fc9b4c0389f39da71b243357",
       "version_major": 2,
       "version_minor": 0
      },
      "text/plain": [
       "  0%|          | 0/50 [00:00<?, ?it/s]"
      ]
     },
     "metadata": {},
     "output_type": "display_data"
    },
    {
     "name": "stdout",
     "output_type": "stream",
     "text": [
      "../../NetworkData/bristol/0040.png\n",
      "../../NetworkData/bristol/0041.png\n",
      "../../NetworkData/bristol/0042.png\n",
      "../../NetworkData/bristol/0043.png\n",
      "../../NetworkData/bristol/0044.png\n",
      "../../NetworkData/bristol/0045.png\n",
      "../../NetworkData/bristol/0046.png\n",
      "../../NetworkData/bristol/0047.png\n",
      "../../NetworkData/bristol/0048.png\n",
      "../../NetworkData/bristol/0049.png\n",
      "../../NetworkData/bristol/0050.png\n",
      "../../NetworkData/bristol/0051.png\n",
      "../../NetworkData/bristol/0052.png\n",
      "../../NetworkData/bristol/0053.png\n",
      "../../NetworkData/bristol/0054.png\n",
      "../../NetworkData/bristol/0055.png\n",
      "../../NetworkData/bristol/0056.png\n",
      "../../NetworkData/bristol/0057.png\n",
      "../../NetworkData/bristol/0058.png\n",
      "../../NetworkData/bristol/0059.png\n",
      "../../NetworkData/bristol/0060.png\n",
      "../../NetworkData/bristol/0061.png\n",
      "../../NetworkData/bristol/0062.png\n",
      "../../NetworkData/bristol/0063.png\n",
      "../../NetworkData/bristol/0064.png\n",
      "../../NetworkData/bristol/0065.png\n",
      "../../NetworkData/bristol/0066.png\n",
      "../../NetworkData/bristol/0067.png\n",
      "../../NetworkData/bristol/0068.png\n",
      "../../NetworkData/bristol/0069.png\n",
      "../../NetworkData/bristol/0070.png\n",
      "../../NetworkData/bristol/0071.png\n",
      "../../NetworkData/bristol/0072.png\n",
      "../../NetworkData/bristol/0073.png\n",
      "../../NetworkData/bristol/0074.png\n",
      "../../NetworkData/bristol/0075.png\n",
      "../../NetworkData/bristol/0076.png\n",
      "../../NetworkData/bristol/0077.png\n",
      "../../NetworkData/bristol/0078.png\n",
      "../../NetworkData/bristol/0079.png\n",
      "../../NetworkData/bristol/0080.png\n",
      "../../NetworkData/bristol/0081.png\n",
      "../../NetworkData/bristol/0082.png\n",
      "../../NetworkData/bristol/0083.png\n",
      "../../NetworkData/bristol/0084.png\n",
      "../../NetworkData/bristol/0085.png\n",
      "../../NetworkData/bristol/0086.png\n",
      "../../NetworkData/bristol/0087.png\n",
      "../../NetworkData/bristol/0088.png\n",
      "../../NetworkData/bristol/0089.png\n"
     ]
    },
    {
     "data": {
      "text/plain": [
       "<Figure size 1440x720 with 0 Axes>"
      ]
     },
     "metadata": {},
     "output_type": "display_data"
    },
    {
     "data": {
      "text/plain": [
       "<Figure size 1440x720 with 0 Axes>"
      ]
     },
     "metadata": {},
     "output_type": "display_data"
    },
    {
     "data": {
      "text/plain": [
       "<Figure size 1440x720 with 0 Axes>"
      ]
     },
     "metadata": {},
     "output_type": "display_data"
    },
    {
     "data": {
      "text/plain": [
       "<Figure size 1440x720 with 0 Axes>"
      ]
     },
     "metadata": {},
     "output_type": "display_data"
    },
    {
     "data": {
      "text/plain": [
       "<Figure size 1440x720 with 0 Axes>"
      ]
     },
     "metadata": {},
     "output_type": "display_data"
    },
    {
     "data": {
      "text/plain": [
       "<Figure size 1440x720 with 0 Axes>"
      ]
     },
     "metadata": {},
     "output_type": "display_data"
    },
    {
     "data": {
      "text/plain": [
       "<Figure size 1440x720 with 0 Axes>"
      ]
     },
     "metadata": {},
     "output_type": "display_data"
    },
    {
     "data": {
      "text/plain": [
       "<Figure size 1440x720 with 0 Axes>"
      ]
     },
     "metadata": {},
     "output_type": "display_data"
    },
    {
     "data": {
      "text/plain": [
       "<Figure size 1440x720 with 0 Axes>"
      ]
     },
     "metadata": {},
     "output_type": "display_data"
    },
    {
     "data": {
      "text/plain": [
       "<Figure size 1440x720 with 0 Axes>"
      ]
     },
     "metadata": {},
     "output_type": "display_data"
    },
    {
     "data": {
      "text/plain": [
       "<Figure size 1440x720 with 0 Axes>"
      ]
     },
     "metadata": {},
     "output_type": "display_data"
    },
    {
     "data": {
      "text/plain": [
       "<Figure size 1440x720 with 0 Axes>"
      ]
     },
     "metadata": {},
     "output_type": "display_data"
    },
    {
     "data": {
      "text/plain": [
       "<Figure size 1440x720 with 0 Axes>"
      ]
     },
     "metadata": {},
     "output_type": "display_data"
    },
    {
     "data": {
      "text/plain": [
       "<Figure size 1440x720 with 0 Axes>"
      ]
     },
     "metadata": {},
     "output_type": "display_data"
    },
    {
     "data": {
      "text/plain": [
       "<Figure size 1440x720 with 0 Axes>"
      ]
     },
     "metadata": {},
     "output_type": "display_data"
    },
    {
     "data": {
      "text/plain": [
       "<Figure size 1440x720 with 0 Axes>"
      ]
     },
     "metadata": {},
     "output_type": "display_data"
    },
    {
     "data": {
      "text/plain": [
       "<Figure size 1440x720 with 0 Axes>"
      ]
     },
     "metadata": {},
     "output_type": "display_data"
    },
    {
     "data": {
      "text/plain": [
       "<Figure size 1440x720 with 0 Axes>"
      ]
     },
     "metadata": {},
     "output_type": "display_data"
    },
    {
     "data": {
      "text/plain": [
       "<Figure size 1440x720 with 0 Axes>"
      ]
     },
     "metadata": {},
     "output_type": "display_data"
    },
    {
     "data": {
      "text/plain": [
       "<Figure size 1440x720 with 0 Axes>"
      ]
     },
     "metadata": {},
     "output_type": "display_data"
    },
    {
     "data": {
      "text/plain": [
       "<Figure size 1440x720 with 0 Axes>"
      ]
     },
     "metadata": {},
     "output_type": "display_data"
    },
    {
     "data": {
      "text/plain": [
       "<Figure size 1440x720 with 0 Axes>"
      ]
     },
     "metadata": {},
     "output_type": "display_data"
    },
    {
     "data": {
      "text/plain": [
       "<Figure size 1440x720 with 0 Axes>"
      ]
     },
     "metadata": {},
     "output_type": "display_data"
    },
    {
     "data": {
      "text/plain": [
       "<Figure size 1440x720 with 0 Axes>"
      ]
     },
     "metadata": {},
     "output_type": "display_data"
    },
    {
     "data": {
      "text/plain": [
       "<Figure size 1440x720 with 0 Axes>"
      ]
     },
     "metadata": {},
     "output_type": "display_data"
    },
    {
     "data": {
      "text/plain": [
       "<Figure size 1440x720 with 0 Axes>"
      ]
     },
     "metadata": {},
     "output_type": "display_data"
    },
    {
     "data": {
      "text/plain": [
       "<Figure size 1440x720 with 0 Axes>"
      ]
     },
     "metadata": {},
     "output_type": "display_data"
    },
    {
     "data": {
      "text/plain": [
       "<Figure size 1440x720 with 0 Axes>"
      ]
     },
     "metadata": {},
     "output_type": "display_data"
    },
    {
     "data": {
      "text/plain": [
       "<Figure size 1440x720 with 0 Axes>"
      ]
     },
     "metadata": {},
     "output_type": "display_data"
    },
    {
     "data": {
      "text/plain": [
       "<Figure size 1440x720 with 0 Axes>"
      ]
     },
     "metadata": {},
     "output_type": "display_data"
    },
    {
     "data": {
      "text/plain": [
       "<Figure size 1440x720 with 0 Axes>"
      ]
     },
     "metadata": {},
     "output_type": "display_data"
    },
    {
     "data": {
      "text/plain": [
       "<Figure size 1440x720 with 0 Axes>"
      ]
     },
     "metadata": {},
     "output_type": "display_data"
    },
    {
     "data": {
      "text/plain": [
       "<Figure size 1440x720 with 0 Axes>"
      ]
     },
     "metadata": {},
     "output_type": "display_data"
    },
    {
     "data": {
      "text/plain": [
       "<Figure size 1440x720 with 0 Axes>"
      ]
     },
     "metadata": {},
     "output_type": "display_data"
    },
    {
     "data": {
      "text/plain": [
       "<Figure size 1440x720 with 0 Axes>"
      ]
     },
     "metadata": {},
     "output_type": "display_data"
    },
    {
     "data": {
      "text/plain": [
       "<Figure size 1440x720 with 0 Axes>"
      ]
     },
     "metadata": {},
     "output_type": "display_data"
    },
    {
     "data": {
      "text/plain": [
       "<Figure size 1440x720 with 0 Axes>"
      ]
     },
     "metadata": {},
     "output_type": "display_data"
    },
    {
     "data": {
      "text/plain": [
       "<Figure size 1440x720 with 0 Axes>"
      ]
     },
     "metadata": {},
     "output_type": "display_data"
    },
    {
     "data": {
      "text/plain": [
       "<Figure size 1440x720 with 0 Axes>"
      ]
     },
     "metadata": {},
     "output_type": "display_data"
    },
    {
     "data": {
      "text/plain": [
       "<Figure size 1440x720 with 0 Axes>"
      ]
     },
     "metadata": {},
     "output_type": "display_data"
    },
    {
     "data": {
      "text/plain": [
       "<Figure size 1440x720 with 0 Axes>"
      ]
     },
     "metadata": {},
     "output_type": "display_data"
    },
    {
     "data": {
      "text/plain": [
       "<Figure size 1440x720 with 0 Axes>"
      ]
     },
     "metadata": {},
     "output_type": "display_data"
    },
    {
     "data": {
      "text/plain": [
       "<Figure size 1440x720 with 0 Axes>"
      ]
     },
     "metadata": {},
     "output_type": "display_data"
    },
    {
     "data": {
      "text/plain": [
       "<Figure size 1440x720 with 0 Axes>"
      ]
     },
     "metadata": {},
     "output_type": "display_data"
    },
    {
     "data": {
      "text/plain": [
       "<Figure size 1440x720 with 0 Axes>"
      ]
     },
     "metadata": {},
     "output_type": "display_data"
    },
    {
     "data": {
      "text/plain": [
       "<Figure size 1440x720 with 0 Axes>"
      ]
     },
     "metadata": {},
     "output_type": "display_data"
    },
    {
     "data": {
      "text/plain": [
       "<Figure size 1440x720 with 0 Axes>"
      ]
     },
     "metadata": {},
     "output_type": "display_data"
    },
    {
     "data": {
      "text/plain": [
       "<Figure size 1440x720 with 0 Axes>"
      ]
     },
     "metadata": {},
     "output_type": "display_data"
    },
    {
     "data": {
      "text/plain": [
       "<Figure size 1440x720 with 0 Axes>"
      ]
     },
     "metadata": {},
     "output_type": "display_data"
    },
    {
     "data": {
      "text/plain": [
       "<Figure size 1440x720 with 0 Axes>"
      ]
     },
     "metadata": {},
     "output_type": "display_data"
    },
    {
     "data": {
      "text/plain": [
       "<Figure size 1440x720 with 0 Axes>"
      ]
     },
     "metadata": {},
     "output_type": "display_data"
    },
    {
     "data": {
      "text/plain": [
       "<Figure size 1440x720 with 0 Axes>"
      ]
     },
     "metadata": {},
     "output_type": "display_data"
    },
    {
     "data": {
      "text/plain": [
       "<Figure size 1440x720 with 0 Axes>"
      ]
     },
     "metadata": {},
     "output_type": "display_data"
    },
    {
     "data": {
      "text/plain": [
       "<Figure size 1440x720 with 0 Axes>"
      ]
     },
     "metadata": {},
     "output_type": "display_data"
    },
    {
     "data": {
      "text/plain": [
       "<Figure size 1440x720 with 0 Axes>"
      ]
     },
     "metadata": {},
     "output_type": "display_data"
    },
    {
     "data": {
      "text/plain": [
       "<Figure size 1440x720 with 0 Axes>"
      ]
     },
     "metadata": {},
     "output_type": "display_data"
    },
    {
     "data": {
      "text/plain": [
       "<Figure size 1440x720 with 0 Axes>"
      ]
     },
     "metadata": {},
     "output_type": "display_data"
    },
    {
     "data": {
      "text/plain": [
       "<Figure size 1440x720 with 0 Axes>"
      ]
     },
     "metadata": {},
     "output_type": "display_data"
    },
    {
     "data": {
      "text/plain": [
       "<Figure size 1440x720 with 0 Axes>"
      ]
     },
     "metadata": {},
     "output_type": "display_data"
    },
    {
     "data": {
      "text/plain": [
       "<Figure size 1440x720 with 0 Axes>"
      ]
     },
     "metadata": {},
     "output_type": "display_data"
    },
    {
     "data": {
      "text/plain": [
       "<Figure size 1440x720 with 0 Axes>"
      ]
     },
     "metadata": {},
     "output_type": "display_data"
    },
    {
     "data": {
      "text/plain": [
       "<Figure size 1440x720 with 0 Axes>"
      ]
     },
     "metadata": {},
     "output_type": "display_data"
    },
    {
     "data": {
      "text/plain": [
       "<Figure size 1440x720 with 0 Axes>"
      ]
     },
     "metadata": {},
     "output_type": "display_data"
    },
    {
     "data": {
      "text/plain": [
       "<Figure size 1440x720 with 0 Axes>"
      ]
     },
     "metadata": {},
     "output_type": "display_data"
    },
    {
     "data": {
      "text/plain": [
       "<Figure size 1440x720 with 0 Axes>"
      ]
     },
     "metadata": {},
     "output_type": "display_data"
    },
    {
     "data": {
      "text/plain": [
       "<Figure size 1440x720 with 0 Axes>"
      ]
     },
     "metadata": {},
     "output_type": "display_data"
    },
    {
     "data": {
      "text/plain": [
       "<Figure size 1440x720 with 0 Axes>"
      ]
     },
     "metadata": {},
     "output_type": "display_data"
    },
    {
     "data": {
      "text/plain": [
       "<Figure size 1440x720 with 0 Axes>"
      ]
     },
     "metadata": {},
     "output_type": "display_data"
    },
    {
     "data": {
      "text/plain": [
       "<Figure size 1440x720 with 0 Axes>"
      ]
     },
     "metadata": {},
     "output_type": "display_data"
    },
    {
     "data": {
      "text/plain": [
       "<Figure size 1440x720 with 0 Axes>"
      ]
     },
     "metadata": {},
     "output_type": "display_data"
    },
    {
     "data": {
      "text/plain": [
       "<Figure size 1440x720 with 0 Axes>"
      ]
     },
     "metadata": {},
     "output_type": "display_data"
    },
    {
     "data": {
      "text/plain": [
       "<Figure size 1440x720 with 0 Axes>"
      ]
     },
     "metadata": {},
     "output_type": "display_data"
    },
    {
     "data": {
      "text/plain": [
       "<Figure size 1440x720 with 0 Axes>"
      ]
     },
     "metadata": {},
     "output_type": "display_data"
    },
    {
     "data": {
      "text/plain": [
       "<Figure size 1440x720 with 0 Axes>"
      ]
     },
     "metadata": {},
     "output_type": "display_data"
    },
    {
     "data": {
      "text/plain": [
       "<Figure size 1440x720 with 0 Axes>"
      ]
     },
     "metadata": {},
     "output_type": "display_data"
    },
    {
     "data": {
      "text/plain": [
       "<Figure size 1440x720 with 0 Axes>"
      ]
     },
     "metadata": {},
     "output_type": "display_data"
    },
    {
     "data": {
      "text/plain": [
       "<Figure size 1440x720 with 0 Axes>"
      ]
     },
     "metadata": {},
     "output_type": "display_data"
    },
    {
     "data": {
      "text/plain": [
       "<Figure size 1440x720 with 0 Axes>"
      ]
     },
     "metadata": {},
     "output_type": "display_data"
    },
    {
     "data": {
      "text/plain": [
       "<Figure size 1440x720 with 0 Axes>"
      ]
     },
     "metadata": {},
     "output_type": "display_data"
    },
    {
     "data": {
      "text/plain": [
       "<Figure size 1440x720 with 0 Axes>"
      ]
     },
     "metadata": {},
     "output_type": "display_data"
    },
    {
     "data": {
      "text/plain": [
       "<Figure size 1440x720 with 0 Axes>"
      ]
     },
     "metadata": {},
     "output_type": "display_data"
    },
    {
     "data": {
      "text/plain": [
       "<Figure size 1440x720 with 0 Axes>"
      ]
     },
     "metadata": {},
     "output_type": "display_data"
    },
    {
     "data": {
      "text/plain": [
       "<Figure size 1440x720 with 0 Axes>"
      ]
     },
     "metadata": {},
     "output_type": "display_data"
    },
    {
     "data": {
      "text/plain": [
       "<Figure size 1440x720 with 0 Axes>"
      ]
     },
     "metadata": {},
     "output_type": "display_data"
    },
    {
     "data": {
      "text/plain": [
       "<Figure size 1440x720 with 0 Axes>"
      ]
     },
     "metadata": {},
     "output_type": "display_data"
    },
    {
     "data": {
      "text/plain": [
       "<Figure size 1440x720 with 0 Axes>"
      ]
     },
     "metadata": {},
     "output_type": "display_data"
    },
    {
     "data": {
      "text/plain": [
       "<Figure size 1440x720 with 0 Axes>"
      ]
     },
     "metadata": {},
     "output_type": "display_data"
    },
    {
     "data": {
      "text/plain": [
       "<Figure size 1440x720 with 0 Axes>"
      ]
     },
     "metadata": {},
     "output_type": "display_data"
    },
    {
     "data": {
      "text/plain": [
       "<Figure size 1440x720 with 0 Axes>"
      ]
     },
     "metadata": {},
     "output_type": "display_data"
    },
    {
     "data": {
      "text/plain": [
       "<Figure size 1440x720 with 0 Axes>"
      ]
     },
     "metadata": {},
     "output_type": "display_data"
    }
   ],
   "source": [
    "m = 100\n",
    "\n",
    "Lockdowned(bristol_model)\n",
    "RadiusIndividual(bristol_model,bc4_xy,.00001)\n",
    "ev = [51.44930383152205, -2.619099290387059]\n",
    "\n",
    "r2halfkm = np.linalg.norm(np.array(ll2coord(bc4[0],bc4[1]))-np.array(ll2coord(ev[0],ev[1]))) #3.5km\n",
    "print(r2halfkm)\n",
    "\n",
    "RunSim(bristol_model,n=40, out_dir=bristol_gif_out)\n",
    "LockdownInRadius(bristol_model, bc4_xy, r2halfkm*30, n=14)\n",
    "RunSim(bristol_model,n = 50, out_dir=bristol_gif_out)\n",
    "\n",
    "# RunSim(mdm_model,n=m, out_dir=mdm_gif_out)"
   ]
  },
  {
   "cell_type": "code",
   "execution_count": 42,
   "id": "b7ee15df",
   "metadata": {},
   "outputs": [],
   "source": [
    "###################\n",
    "# Crispian's Mods #\n",
    "###################\n",
    "\n",
    "# to change:\n",
    "# params.set_param('relative_transmission_random',0)\n",
    "\n",
    "\n",
    "# ## Write bristol output files\n",
    "bristol_df_timeseries = pd.DataFrame(bristol_model.results)\n",
    "# bristol_model.write_output_files()\n",
    "# # Rename and move bristol output files into subfolder\n",
    "# os.rename(\"individual_file_Run1.csv\", \"./output_files/bristol_individual_file_Run1.csv\")\n",
    "# os.rename(\"interactions_Run1.csv\", \"./output_files/bristol_interactions_Run1.csv\")\n",
    "# os.rename(\"trace_tokens_Run1.csv\", \"./output_files/bristol_trace_tokens_Run1.csv\")\n",
    "# os.rename(\"transmission_Run1.csv\", \"./output_files/bristol_transmission_Run1.csv\")\n",
    "\n",
    "\n",
    "# ## Write mdm3 output files\n",
    "# mdm_df_timeseries = pd.DataFrame(mdm_model.results)\n",
    "# mdm_model.write_output_files()\n",
    "# # Rename and move mdm3 output files into subfolder\n",
    "# os.rename(\"individual_file_Run1.csv\", \"./output_files/mdm_individual_file_Run1.csv\")\n",
    "# os.rename(\"interactions_Run1.csv\", \"./output_files/mdm_interactions_Run1.csv\")\n",
    "# os.rename(\"trace_tokens_Run1.csv\", \"./output_files/mdm_trace_tokens_Run1.csv\")\n",
    "# os.rename(\"transmission_Run1.csv\", \"./output_files/mdm_transmission_Run1.csv\")\n",
    "\n"
   ]
  },
  {
   "cell_type": "code",
   "execution_count": null,
   "id": "0d8e9ecc",
   "metadata": {},
   "outputs": [],
   "source": [
    "## Read files\n",
    "# Read bristol output files\n",
    "bristol_df_indiv = pd.read_csv(join(\"./output_files/bristol_individual_file_Run1.csv\"))\n",
    "bristol_df_interact = pd.read_csv(join(\"./output_files/bristol_interactions_Run1.csv\"))\n",
    "bristol_df_trans = pd.read_csv(join(\"./output_files/bristol_transmission_Run1.csv\"))\n",
    "# # Read mdm3 output files\n",
    "# mdm_df_indiv = pd.read_csv(join(\"./output_files/mdm_individual_file_Run1.csv\"))\n",
    "# mdm_df_interact = pd.read_csv(join(\"./output_files/mdm_interactions_Run1.csv\"))\n",
    "# mdm_df_trans = pd.read_csv(join(\"./output_files/mdm_transmission_Run1.csv\"))"
   ]
  },
  {
   "cell_type": "code",
   "execution_count": 28,
   "id": "4e0d5a5b",
   "metadata": {},
   "outputs": [],
   "source": [
    "# Export Timeseries Data\n",
    "\n",
    "bristol_df_timeseries.to_csv('bristol_df_timeseries.csv', encoding='utf-8')\n",
    "# mdm_df_timeseries.to_csv('mdm_df_timeseries.csv', encoding='utf-8')\n",
    "\n",
    "\n",
    "# print(mdm_df_indiv) #17 categories\n",
    "# print(mdm_df_interact) #15 categories\n",
    "# print(mdm_df_trans) #35 categories"
   ]
  },
  {
   "cell_type": "code",
   "execution_count": 17,
   "id": "dd7a6b19",
   "metadata": {
    "ExecuteTime": {
     "end_time": "2021-10-12T10:08:59.555778Z",
     "start_time": "2021-10-12T10:08:59.555766Z"
    },
    "hidden": true
   },
   "outputs": [],
   "source": [
    "# bc4 = [50.75328904, -1.55764306]\n",
    "# bc4_x, bc4_y = ll2coord(bc4[0],bc4[1])\n",
    "# bc4_xy = np.array([bc4_x,bc4_y])\n",
    "# print(bc4)\n",
    "# print(bc4_xy)"
   ]
  },
  {
   "cell_type": "code",
   "execution_count": 18,
   "id": "6178279b",
   "metadata": {
    "ExecuteTime": {
     "end_time": "2021-10-12T10:08:59.557397Z",
     "start_time": "2021-10-12T10:08:59.557380Z"
    },
    "hidden": true
   },
   "outputs": [],
   "source": [
    "# d = np.linalg.norm\n",
    "# df_indiv['d'] = d(df_indiv[['xcoords','ycoords']]-bc4_xy,axis=1)\n",
    "# mind = df_indiv['d'].idxmin()\n",
    "# print(mind)\n",
    "# bc4_house = int(df_indiv.iloc[mind]['house_no'])\n",
    "# print(bc4_house)"
   ]
  },
  {
   "cell_type": "code",
   "execution_count": 19,
   "id": "9f99ce6e",
   "metadata": {
    "ExecuteTime": {
     "end_time": "2021-10-12T10:08:59.559268Z",
     "start_time": "2021-10-12T10:08:59.559255Z"
    },
    "hidden": true
   },
   "outputs": [],
   "source": []
  },
  {
   "cell_type": "code",
   "execution_count": 20,
   "id": "9a4ffc71",
   "metadata": {
    "ExecuteTime": {
     "end_time": "2021-10-12T10:08:59.560839Z",
     "start_time": "2021-10-12T10:08:59.560826Z"
    },
    "hidden": true,
    "scrolled": true
   },
   "outputs": [],
   "source": [
    "# Lockdowned(model)"
   ]
  },
  {
   "cell_type": "code",
   "execution_count": 21,
   "id": "d46a3b4b",
   "metadata": {
    "ExecuteTime": {
     "end_time": "2021-10-12T10:08:59.562617Z",
     "start_time": "2021-10-12T10:08:59.562604Z"
    },
    "hidden": true
   },
   "outputs": [],
   "source": [
    "# bc4_indivs[-1]"
   ]
  },
  {
   "cell_type": "code",
   "execution_count": 22,
   "id": "c9bbaa1d",
   "metadata": {
    "ExecuteTime": {
     "end_time": "2021-10-12T10:08:59.564695Z",
     "start_time": "2021-10-12T10:08:59.564674Z"
    },
    "hidden": true
   },
   "outputs": [],
   "source": [
    "# RadiusIndividual(model,bc4_xy,.00001)"
   ]
  },
  {
   "cell_type": "code",
   "execution_count": 23,
   "id": "8534b698",
   "metadata": {
    "ExecuteTime": {
     "end_time": "2021-10-12T10:08:59.565950Z",
     "start_time": "2021-10-12T10:08:59.565937Z"
    },
    "hidden": true
   },
   "outputs": [],
   "source": [
    "ev = [50.74722149271622, -1.5903702505310746]"
   ]
  },
  {
   "cell_type": "code",
   "execution_count": 24,
   "id": "0009607b",
   "metadata": {
    "ExecuteTime": {
     "end_time": "2021-10-12T10:08:59.567677Z",
     "start_time": "2021-10-12T10:08:59.567663Z"
    },
    "hidden": true
   },
   "outputs": [
    {
     "data": {
      "text/plain": [
       "[51.44930034, -2.61915242]"
      ]
     },
     "execution_count": 24,
     "metadata": {},
     "output_type": "execute_result"
    }
   ],
   "source": [
    "bc4"
   ]
  },
  {
   "cell_type": "code",
   "execution_count": 25,
   "id": "362c1b6e",
   "metadata": {
    "ExecuteTime": {
     "end_time": "2021-10-12T10:08:59.569517Z",
     "start_time": "2021-10-12T10:08:59.569504Z"
    },
    "hidden": true
   },
   "outputs": [
    {
     "data": {
      "text/plain": [
       "0.021738336545536988"
      ]
     },
     "execution_count": 25,
     "metadata": {},
     "output_type": "execute_result"
    }
   ],
   "source": [
    "r2halfkm = np.linalg.norm(np.array(ll2coord(bc4[0],bc4[1]))-np.array(ll2coord(ev[0],ev[1]))) #3.5km\n",
    "r2halfkm"
   ]
  },
  {
   "cell_type": "code",
   "execution_count": 26,
   "id": "c4f379b2",
   "metadata": {
    "ExecuteTime": {
     "end_time": "2021-10-12T10:08:59.570987Z",
     "start_time": "2021-10-12T10:08:59.570971Z"
    },
    "hidden": true
   },
   "outputs": [
    {
     "data": {
      "text/plain": [
       "620000"
      ]
     },
     "execution_count": 26,
     "metadata": {},
     "output_type": "execute_result"
    }
   ],
   "source": [
    "len(RadiusIndividual(bristol_model,bc4_xy,r2halfkm))"
   ]
  },
  {
   "cell_type": "code",
   "execution_count": 28,
   "id": "8b69f3fd",
   "metadata": {
    "ExecuteTime": {
     "end_time": "2021-10-12T10:08:59.608021Z",
     "start_time": "2021-10-12T10:08:59.608009Z"
    },
    "hidden": true
   },
   "outputs": [],
   "source": [
    "# # GIF without local lockdown\n",
    "# model = ImperialNetwork()\n",
    "# for i in bc4_indivs:\n",
    "#     model.seed_infect_by_idx(i)\n",
    "# RunSim(model,n=64)"
   ]
  },
  {
   "cell_type": "code",
   "execution_count": 42,
   "id": "d5131658",
   "metadata": {
    "ExecuteTime": {
     "end_time": "2021-10-12T10:08:59.612176Z",
     "start_time": "2021-10-12T10:08:59.612159Z"
    },
    "hidden": true
   },
   "outputs": [],
   "source": [
    "# # GIF WITH local lockdown\n",
    "# def lockdownGIF(input_model_path, gif_out = '../../NetworkData/')\n",
    "    \n",
    "#     model = ImperialNetwork(input_model_path)\n",
    "#     for i in bc4_indivs:\n",
    "#         model.seed_infect_by_idx(i)\n",
    "#     RunSim(model,out_dir=gif_out,n=6)\n",
    "#     LockdownInRadius(model,bc4_xy,r2halfkm*2,n=21)\n",
    "#     RunSim(model,out_dir=gif_out,n=64-6)"
   ]
  },
  {
   "cell_type": "code",
   "execution_count": 31,
   "id": "c8666041",
   "metadata": {},
   "outputs": [],
   "source": [
    "### Following Cells are For Plotting from the Extended Output notebook ###"
   ]
  },
  {
   "cell_type": "markdown",
   "id": "0728ff36",
   "metadata": {},
   "source": [
    "# Time series <a class=\"anchor\" id=\"time-series\"></a>\n",
    "[[Home](#home)]\n",
    "\n",
    "Plot the epidemic trajectory and other outputs from the time series file for a single parameter set.  "
   ]
  },
  {
   "cell_type": "code",
   "execution_count": 43,
   "id": "c3da5924",
   "metadata": {
    "scrolled": true
   },
   "outputs": [
    {
     "data": {
      "image/png": "[encoded data removed]",
      "text/plain": [
       "<Figure size 1008x864 with 4 Axes>"
      ]
     },
     "metadata": {
      "needs_background": "light"
     },
     "output_type": "display_data"
    }
   ],
   "source": [
    "# bristol scenario time series plot\n",
    "plt.rcParams['figure.figsize'] = [14, 12]\n",
    "fig, ax = plotting.plot_timeseries_curves(bristol_df_timeseries, xlimits = [0, 120])"
   ]
  },
  {
   "cell_type": "code",
   "execution_count": null,
   "id": "78263452",
   "metadata": {},
   "outputs": [],
   "source": [
    "# mdm scenario time series plot\n",
    "plt.rcParams['figure.figsize'] = [14, 12]\n",
    "fig, ax = plotting.plot_timeseries_curves(mdm_df_timeseries, xlimits = [0, 120])"
   ]
  },
  {
   "cell_type": "code",
   "execution_count": 28,
   "id": "e1b09a15",
   "metadata": {},
   "outputs": [],
   "source": [
    "from COVID19.model import AgeGroupEnum, EVENT_TYPES, TransmissionTypeEnum, OccupationNetworkEnum\n",
    "\n",
    "interaction_types = [c.value for c in TransmissionTypeEnum ]\n",
    "interaction_labels = [c.name[1:].title() for c in TransmissionTypeEnum]"
   ]
  },
  {
   "cell_type": "code",
   "execution_count": 29,
   "id": "eada899c",
   "metadata": {},
   "outputs": [
    {
     "data": {
      "image/png": "[encoded data removed]",
      "text/plain": [
       "<Figure size 1008x720 with 1 Axes>"
      ]
     },
     "metadata": {
      "needs_background": "light"
     },
     "output_type": "display_data"
    }
   ],
   "source": [
    "plt.rcParams['figure.figsize'] = [14, 10]\n",
    "# Count interactions for each individual by \"type\" of interaction\n",
    "df_agg = bristol_df_interact.groupby([\"ID_1\", \"type\"])[\"ID_1\"].count().reset_index(name = \"count\")\n",
    "\n",
    "# Plot histogram of interaction by network type\n",
    "fig, ax = plotting.plot_hist_by_group(df_agg, groupvar = \"type\", binvar = \"count\", \n",
    "    groups = interaction_types, bins = 25, group_colours = plotting.network_colours, \n",
    "    group_labels = interaction_labels, \n",
    "    xlabel = \"Number of daily connections\", \n",
    "    title = \"Bristol Number of daily interactions by network type\", \n",
    "    legend_title = \"Network type\")"
   ]
  },
  {
   "cell_type": "code",
   "execution_count": 30,
   "id": "2b23b8dd",
   "metadata": {},
   "outputs": [
    {
     "data": {
      "image/png": "[encoded data removed]",
      "text/plain": [
       "<Figure size 1008x720 with 1 Axes>"
      ]
     },
     "metadata": {
      "needs_background": "light"
     },
     "output_type": "display_data"
    }
   ],
   "source": [
    "plt.rcParams['figure.figsize'] = [14, 10]\n",
    "# Count interactions for each individual by \"type\" of interaction\n",
    "df_agg = mdm_df_interact.groupby([\"ID_1\", \"type\"])[\"ID_1\"].count().reset_index(name = \"count\")\n",
    "\n",
    "# Plot histogram of interaction by network type\n",
    "fig, ax = plotting.plot_hist_by_group(df_agg, groupvar = \"type\", binvar = \"count\", \n",
    "    groups = interaction_types, bins = 25, group_colours = plotting.network_colours, \n",
    "    group_labels = interaction_labels, \n",
    "    xlabel = \"Number of daily connections\", \n",
    "    title = \"MDM Number of daily interactions by network type\", \n",
    "    legend_title = \"Network type\")"
   ]
  },
  {
   "cell_type": "code",
   "execution_count": null,
   "id": "2dfbdec0",
   "metadata": {},
   "outputs": [],
   "source": []
  },
  {
   "cell_type": "code",
   "execution_count": null,
   "id": "5eb069b8",
   "metadata": {},
   "outputs": [],
   "source": []
  },
  {
   "cell_type": "code",
   "execution_count": null,
   "id": "5045046b",
   "metadata": {},
   "outputs": [],
   "source": []
  },
  {
   "cell_type": "code",
   "execution_count": null,
   "id": "4c2c58b2",
   "metadata": {},
   "outputs": [],
   "source": []
  }
 ],
 "metadata": {
  "kernelspec": {
   "display_name": "Python 3 (ipykernel)",
   "language": "python",
   "name": "python3"
  },
  "language_info": {
   "codemirror_mode": {
    "name": "ipython",
    "version": 3
   },
   "file_extension": ".py",
   "mimetype": "text/x-python",
   "name": "python",
   "nbconvert_exporter": "python",
   "pygments_lexer": "ipython3",
   "version": "3.9.7"
  },
  "latex_envs": {
   "LaTeX_envs_menu_present": true,
   "autoclose": false,
   "autocomplete": true,
   "bibliofile": "biblio.bib",
   "cite_by": "apalike",
   "current_citInitial": 1,
   "eqLabelWithNumbers": true,
   "eqNumInitial": 1,
   "hotkeys": {
    "equation": ""
   },
   "labels_anchors": false,
   "latex_user_defs": false,
   "report_style_numbering": false,
   "user_envs_cfg": false
  },
  "toc": {
   "base_numbering": 1,
   "nav_menu": {},
   "number_sections": true,
   "sideBar": true,
   "skip_h1_title": false,
   "title_cell": "Table of Contents",
   "title_sidebar": "Contents",
   "toc_cell": false,
   "toc_position": {},
   "toc_section_display": true,
   "toc_window_display": false
  }
 },
 "nbformat": 4,
 "nbformat_minor": 5
}
